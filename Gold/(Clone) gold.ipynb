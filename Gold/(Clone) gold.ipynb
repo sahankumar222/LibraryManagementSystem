{
 "cells": [
  {
   "cell_type": "code",
   "execution_count": 0,
   "metadata": {
    "application/vnd.databricks.v1+cell": {
     "cellMetadata": {
      "byteLimit": 2048000,
      "rowLimit": 10000
     },
     "inputWidgets": {},
     "nuid": "ab844109-129a-46d7-933d-dcbc25fb3871",
     "showTitle": false,
     "tableResultSettingsMap": {},
     "title": ""
    }
   },
   "outputs": [],
   "source": [
    "print('hello world')"
   ]
  },
  {
   "cell_type": "code",
   "execution_count": 0,
   "metadata": {
    "application/vnd.databricks.v1+cell": {
     "cellMetadata": {
      "byteLimit": 2048000,
      "rowLimit": 10000
     },
     "inputWidgets": {},
     "nuid": "99087413-15d2-438c-b151-d8ead84c4702",
     "showTitle": false,
     "tableResultSettingsMap": {},
     "title": ""
    }
   },
   "outputs": [],
   "source": [
    "from pyspark.sql import SparkSession\n",
    "from pyspark.sql.functions import col, count, sum, avg, when, countDistinct, desc, rank,datediff, weekofyear, month, year, dayofweek\n",
    "from pyspark.sql.window import Window"
   ]
  },
  {
   "cell_type": "code",
   "execution_count": 0,
   "metadata": {
    "application/vnd.databricks.v1+cell": {
     "cellMetadata": {
      "byteLimit": 2048000,
      "rowLimit": 10000
     },
     "inputWidgets": {},
     "nuid": "67606cd8-aa19-4001-85d5-09dfd61e545d",
     "showTitle": false,
     "tableResultSettingsMap": {},
     "title": ""
    }
   },
   "outputs": [],
   "source": [
    "# Initialize Spark session\n",
    "spark = SparkSession.builder.appName(\"GoldLayerTransformations\").getOrCreate()"
   ]
  },
  {
   "cell_type": "code",
   "execution_count": 0,
   "metadata": {
    "application/vnd.databricks.v1+cell": {
     "cellMetadata": {
      "byteLimit": 2048000,
      "rowLimit": 10000
     },
     "inputWidgets": {},
     "nuid": "861ec477-eb49-46aa-8398-d374de5bf0a3",
     "showTitle": false,
     "tableResultSettingsMap": {},
     "title": ""
    }
   },
   "outputs": [],
   "source": [
    "\n",
    "df_books = spark.read.format(\"delta\").load(\"abfss://silver@lmsstorageaccount2025.dfs.core.windows.net/books\")\n",
    "df_books_copies = spark.read.format(\"delta\").load(\"abfss://silver@lmsstorageaccount2025.dfs.core.windows.net/books_copies\")\n",
    "df_students = spark.read.format(\"delta\").load(\"abfss://silver@lmsstorageaccount2025.dfs.core.windows.net/students\")\n",
    "df_transactions = spark.read.table(\"`lms-catalog`.silver.transactions\")\n",
    "display(df_books)\n",
    "display(df_books_copies)\n",
    "display(df_students)\n",
    "display(df_transactions)"
   ]
  },
  {
   "cell_type": "code",
   "execution_count": 0,
   "metadata": {
    "application/vnd.databricks.v1+cell": {
     "cellMetadata": {
      "byteLimit": 2048000,
      "implicitDf": true,
      "rowLimit": 10000
     },
     "inputWidgets": {},
     "nuid": "c0f1a87d-cda0-4d83-bb02-90eaf40e9396",
     "showTitle": false,
     "tableResultSettingsMap": {},
     "title": ""
    }
   },
   "outputs": [],
   "source": [
    "# Join tables on book_id\n",
    "df_joined = df_books.join(df_books_copies, \"book_id\", \"inner\").display()"
   ]
  },
  {
   "cell_type": "code",
   "execution_count": 0,
   "metadata": {
    "application/vnd.databricks.v1+cell": {
     "cellMetadata": {
      "byteLimit": 2048000,
      "rowLimit": 10000
     },
     "inputWidgets": {},
     "nuid": "29286305-0aee-40f4-8bf6-9ca226517dd6",
     "showTitle": false,
     "tableResultSettingsMap": {},
     "title": ""
    }
   },
   "outputs": [],
   "source": [
    "# Total Books & Copies\n",
    "total_books = df_books.select(countDistinct(\"book_id\").alias(\"total_books\")).collect()[0][\"total_books\"]\n",
    "total_copies = df_books_copies.select(count(\"copy_id\").alias(\"total_copies\")).collect()[0][\"total_copies\"]\n",
    "display(total_books, total_copies)"
   ]
  },
  {
   "cell_type": "code",
   "execution_count": 0,
   "metadata": {
    "application/vnd.databricks.v1+cell": {
     "cellMetadata": {
      "byteLimit": 2048000,
      "rowLimit": 10000
     },
     "inputWidgets": {},
     "nuid": "745e64a2-d3cc-4bd4-b818-5e289119ba86",
     "showTitle": false,
     "tableResultSettingsMap": {},
     "title": ""
    }
   },
   "outputs": [],
   "source": [
    "# Books by Department\n",
    "df_books_by_department = df_books.groupBy(\"department\").count().withColumnRenamed(\"count\", \"book_count\")\n",
    "display(df_books_by_department)"
   ]
  },
  {
   "cell_type": "code",
   "execution_count": 0,
   "metadata": {
    "application/vnd.databricks.v1+cell": {
     "cellMetadata": {
      "byteLimit": 2048000,
      "rowLimit": 10000
     },
     "inputWidgets": {},
     "nuid": "7f230d48-8465-41c3-8a89-00d613751267",
     "showTitle": false,
     "tableResultSettingsMap": {},
     "title": ""
    }
   },
   "outputs": [],
   "source": [
    "# Books by Availability\n",
    "df_books_by_status = df_books_copies.groupBy(\"status\").count().withColumnRenamed(\"count\", \"status_count\")\n",
    "display(df_books_by_status)"
   ]
  },
  {
   "cell_type": "code",
   "execution_count": 0,
   "metadata": {
    "application/vnd.databricks.v1+cell": {
     "cellMetadata": {
      "byteLimit": 2048000,
      "rowLimit": 10000
     },
     "inputWidgets": {},
     "nuid": "8a9546ff-3c86-4c59-a5ef-c6bbf05c7d6c",
     "showTitle": false,
     "tableResultSettingsMap": {},
     "title": ""
    }
   },
   "outputs": [],
   "source": [
    "# Top Authors & Publishers\n",
    "df_top_authors = df_books.groupBy(\"author\").count().orderBy(desc(\"count\")).limit(10)\n",
    "df_top_publishers = df_books.groupBy(\"publisher\").count().orderBy(desc(\"count\")).limit(10)\n",
    "display(df_top_authors, df_top_publishers)"
   ]
  },
  {
   "cell_type": "code",
   "execution_count": 0,
   "metadata": {
    "application/vnd.databricks.v1+cell": {
     "cellMetadata": {
      "byteLimit": 2048000,
      "rowLimit": 10000
     },
     "inputWidgets": {},
     "nuid": "c120ba50-ef12-4cb1-8855-b4b9ac4a1514",
     "showTitle": false,
     "tableResultSettingsMap": {},
     "title": ""
    }
   },
   "outputs": [],
   "source": [
    "# Most Popular Books (Based on Copies)\n",
    "window_spec = Window.orderBy(desc(\"copy_count\"))\n",
    "df_book_popularity = df_books_copies.groupBy(\"book_id\").count().withColumnRenamed(\"count\", \"copy_count\")\n",
    "df_book_popularity = df_book_popularity.withColumn(\"rank\", rank().over(window_spec)).limit(10)\n",
    "df_book_popularity = df_book_popularity.join(df_books.select(\"book_id\", \"book_title\"), \"book_id\")\n",
    "df_book_popularity.show()\n"
   ]
  },
  {
   "cell_type": "code",
   "execution_count": 0,
   "metadata": {
    "application/vnd.databricks.v1+cell": {
     "cellMetadata": {
      "byteLimit": 2048000,
      "rowLimit": 10000
     },
     "inputWidgets": {},
     "nuid": "277780f1-e750-4560-a695-28876a5199bc",
     "showTitle": false,
     "tableResultSettingsMap": {},
     "title": ""
    }
   },
   "outputs": [],
   "source": [
    "# Book Distribution by Location\n",
    "df_location_distribution = df_books_copies.groupBy(\"location\", \"rack\", \"shelf\").count().withColumnRenamed(\"count\", \"books_count\")\n",
    "df_location_distribution.show()"
   ]
  },
  {
   "cell_type": "code",
   "execution_count": 0,
   "metadata": {
    "application/vnd.databricks.v1+cell": {
     "cellMetadata": {
      "byteLimit": 2048000,
      "rowLimit": 10000
     },
     "inputWidgets": {},
     "nuid": "cfb19f53-cc44-4bc1-a797-90025bef6692",
     "showTitle": false,
     "tableResultSettingsMap": {},
     "title": ""
    }
   },
   "outputs": [],
   "source": [
    "# Results Summary\n",
    "print(f\"Total Books: {total_books}, Total Copies: {total_copies}\")"
   ]
  },
  {
   "cell_type": "code",
   "execution_count": 0,
   "metadata": {
    "application/vnd.databricks.v1+cell": {
     "cellMetadata": {
      "byteLimit": 2048000,
      "rowLimit": 10000
     },
     "inputWidgets": {},
     "nuid": "79746055-4ebd-495e-bfcf-fba2e979de1a",
     "showTitle": false,
     "tableResultSettingsMap": {},
     "title": ""
    }
   },
   "outputs": [],
   "source": [
    "\n",
    "# Step 1: Join books_table and book_copies_table (Using INNER JOIN) -> books_final_table\n",
    "books_final_table = df_books.join(df_books_copies, on=\"book_id\", how=\"inner\")\n"
   ]
  },
  {
   "cell_type": "code",
   "execution_count": 0,
   "metadata": {
    "application/vnd.databricks.v1+cell": {
     "cellMetadata": {
      "byteLimit": 2048000,
      "rowLimit": 10000
     },
     "inputWidgets": {},
     "nuid": "82fd36e1-3624-4b31-b981-8c0fa21d6aec",
     "showTitle": false,
     "tableResultSettingsMap": {},
     "title": ""
    }
   },
   "outputs": [],
   "source": [
    "# Step 2: Join books_final_table and transaction_table (Using LEFT JOIN) -> books_transaction_table\n",
    "books_transaction_table = books_final_table.join(df_transactions_q2, on=[\"book_id\", \"copy_id\"], how=\"left\")\n",
    "# books_transaction_table = books_final_table.join(df_transactions_q3, on=[\"book_id\", \"copy_id\"], how=\"left\")\n",
    "# books_transaction_table = books_final_table.join(df_transactions_q4, on=[\"book_id\", \"copy_id\"], how=\"left\")\n",
    "display(books_transaction_table)\n"
   ]
  },
  {
   "cell_type": "code",
   "execution_count": 0,
   "metadata": {
    "application/vnd.databricks.v1+cell": {
     "cellMetadata": {
      "byteLimit": 2048000,
      "rowLimit": 10000
     },
     "inputWidgets": {},
     "nuid": "fb5d5b5b-9670-462f-a363-c30123b1c75a",
     "showTitle": false,
     "tableResultSettingsMap": {},
     "title": ""
    }
   },
   "outputs": [],
   "source": [
    "# Step 3: Join students_table and transaction_table (Using RIGHT JOIN) -> student_transaction_table\n",
    "student_transaction_table = df_students.join(df_transactions_q2, on=\"student_id\", how=\"right\")\n",
    "display(student_transaction_table)"
   ]
  },
  {
   "cell_type": "code",
   "execution_count": 0,
   "metadata": {
    "application/vnd.databricks.v1+cell": {
     "cellMetadata": {
      "byteLimit": 2048000,
      "rowLimit": 10000
     },
     "inputWidgets": {},
     "nuid": "31e3db26-c858-4aa4-8747-7eef0d0855be",
     "showTitle": false,
     "tableResultSettingsMap": {},
     "title": ""
    }
   },
   "outputs": [],
   "source": [
    "# Step 4: Transformations on books_transaction_table\n",
    "# Example: Count total transactions per book\n",
    "book_transaction_counts = books_transaction_table.groupBy(\"book_title\").agg(count(\"transaction_id\").alias(\"total_transactions\"))\n",
    "display(book_transaction_counts)\n"
   ]
  },
  {
   "cell_type": "code",
   "execution_count": 0,
   "metadata": {
    "application/vnd.databricks.v1+cell": {
     "cellMetadata": {
      "byteLimit": 2048000,
      "rowLimit": 10000
     },
     "inputWidgets": {},
     "nuid": "44d4ea60-1794-4e59-b896-5b0b14afbf08",
     "showTitle": false,
     "tableResultSettingsMap": {},
     "title": ""
    }
   },
   "outputs": [],
   "source": [
    "# Example: Calculate average fine per book\n",
    "avg_fine_per_book = books_transaction_table.groupBy(\"book_title\").agg(avg(\"fine_amount\").alias(\"average_fine\"))\n",
    "display(avg_fine_per_book)"
   ]
  },
  {
   "cell_type": "code",
   "execution_count": 0,
   "metadata": {
    "application/vnd.databricks.v1+cell": {
     "cellMetadata": {
      "byteLimit": 2048000,
      "rowLimit": 10000
     },
     "inputWidgets": {},
     "nuid": "29e6b086-da7d-480c-9eb1-1e537375b42d",
     "showTitle": false,
     "tableResultSettingsMap": {},
     "title": ""
    }
   },
   "outputs": [],
   "source": [
    "# Example: Average fine per student\n",
    "avg_fine_per_student = student_transaction_table.groupBy(\"student_id\").agg(avg(\"fine_amount\").alias(\"average_fine\"))\n",
    "display(avg_fine_per_student)"
   ]
  },
  {
   "cell_type": "markdown",
   "metadata": {
    "application/vnd.databricks.v1+cell": {
     "cellMetadata": {
      "byteLimit": 2048000,
      "rowLimit": 10000
     },
     "inputWidgets": {},
     "nuid": "f62922e6-0c59-4d41-b5ef-0d6aa8155250",
     "showTitle": false,
     "tableResultSettingsMap": {},
     "title": ""
    }
   },
   "source": [
    "#Insights"
   ]
  },
  {
   "cell_type": "code",
   "execution_count": 0,
   "metadata": {
    "application/vnd.databricks.v1+cell": {
     "cellMetadata": {
      "byteLimit": 2048000,
      "rowLimit": 10000
     },
     "inputWidgets": {},
     "nuid": "0bfe2a2f-e4b6-4505-867f-993bd6b469da",
     "showTitle": false,
     "tableResultSettingsMap": {},
     "title": ""
    }
   },
   "outputs": [],
   "source": [
    "# Read datasets from Azure Data Lake Storage\n",
    "books_df = spark.read.format(\"delta\").load(\"abfss://silver@lmsstorageaccount2025.dfs.core.windows.net/books\")\n",
    "book_copies_df = spark.read.format(\"delta\").load(\"abfss://silver@lmsstorageaccount2025.dfs.core.windows.net/books_copies\")\n",
    "students_df = spark.read.format(\"delta\").load(\"abfss://silver@lmsstorageaccount2025.dfs.core.windows.net/students\")\n",
    "transactions_df = spark.read.table(\"`lms-catalog`.silver.transactions\")\n"
   ]
  },
  {
   "cell_type": "code",
   "execution_count": 0,
   "metadata": {
    "application/vnd.databricks.v1+cell": {
     "cellMetadata": {
      "byteLimit": 2048000,
      "rowLimit": 10000
     },
     "inputWidgets": {},
     "nuid": "b757702a-16ab-481f-9eb5-6934ee39e6b5",
     "showTitle": false,
     "tableResultSettingsMap": {},
     "title": ""
    }
   },
   "outputs": [],
   "source": [
    "# Merging books_table, book_copies_table, and transactions_table for book insights using various joins\n",
    "books_transaction_table = books_df.join(book_copies_df, \"book_id\", \"inner\")\\\n",
    "                                   .join(transactions_df, [\"book_id\", \"copy_id\"], \"right\")\n",
    "display(books_transaction_table)"
   ]
  },
  {
   "cell_type": "code",
   "execution_count": 0,
   "metadata": {
    "application/vnd.databricks.v1+cell": {
     "cellMetadata": {
      "byteLimit": 2048000,
      "rowLimit": 10000
     },
     "inputWidgets": {},
     "nuid": "50dcef71-7b90-4807-9c48-40628abba78b",
     "showTitle": false,
     "tableResultSettingsMap": {},
     "title": ""
    }
   },
   "outputs": [],
   "source": [
    "books_transaction_table.write.format(\"delta\").mode(\"overwrite\").saveAsTable(\"`lms-catalog`.gold.books_transaction_table\")"
   ]
  },
  {
   "cell_type": "code",
   "execution_count": 0,
   "metadata": {
    "application/vnd.databricks.v1+cell": {
     "cellMetadata": {
      "byteLimit": 2048000,
      "rowLimit": 10000
     },
     "inputWidgets": {},
     "nuid": "250a7567-364f-42ea-bc22-9fdc48b6ee38",
     "showTitle": false,
     "tableResultSettingsMap": {},
     "title": ""
    }
   },
   "outputs": [],
   "source": [
    "# Merging students_table and transactions_table for student insights using different joins\n",
    "students_transaction_table = students_df.join(transactions_df, \"student_id\", \"outer\")\n"
   ]
  },
  {
   "cell_type": "code",
   "execution_count": 0,
   "metadata": {
    "application/vnd.databricks.v1+cell": {
     "cellMetadata": {
      "byteLimit": 2048000,
      "rowLimit": 10000
     },
     "inputWidgets": {},
     "nuid": "620d602c-b5be-4649-8b73-42cb4f53c91f",
     "showTitle": false,
     "tableResultSettingsMap": {},
     "title": ""
    }
   },
   "outputs": [],
   "source": [
    "students_transaction_table.display()"
   ]
  },
  {
   "cell_type": "code",
   "execution_count": 0,
   "metadata": {
    "application/vnd.databricks.v1+cell": {
     "cellMetadata": {
      "byteLimit": 2048000,
      "rowLimit": 10000
     },
     "inputWidgets": {},
     "nuid": "33df7022-0783-41ba-b826-5f106dfbada9",
     "showTitle": false,
     "tableResultSettingsMap": {},
     "title": ""
    }
   },
   "outputs": [],
   "source": [
    "students_transaction_table.write.format(\"delta\").mode(\"overwrite\").saveAsTable(\"`lms-catalog`.gold.students_transaction_table\")"
   ]
  },
  {
   "cell_type": "code",
   "execution_count": 0,
   "metadata": {
    "application/vnd.databricks.v1+cell": {
     "cellMetadata": {
      "byteLimit": 2048000,
      "rowLimit": 10000
     },
     "inputWidgets": {},
     "nuid": "7b258d8f-dcf9-4dc8-b0df-15d600d69760",
     "showTitle": false,
     "tableResultSettingsMap": {},
     "title": ""
    }
   },
   "outputs": [],
   "source": [
    "%python\n",
    "# Load the books_transaction_table\n",
    "# books_transaction_table = spark.table(\"books_transaction_table\")\n",
    "\n",
    "# Generating insights for books\n",
    "# from pyspark.sql.functions import count, col\n",
    "\n",
    "books_transaction_table.groupBy(\"book_id\").agg(\n",
    "    count(\"transaction_id\").alias(\"Total Borrows\")\n",
    ").orderBy(col(\"Total Borrows\").desc()).show()\n"
   ]
  },
  {
   "cell_type": "code",
   "execution_count": 0,
   "metadata": {
    "application/vnd.databricks.v1+cell": {
     "cellMetadata": {
      "byteLimit": 2048000,
      "rowLimit": 10000
     },
     "inputWidgets": {},
     "nuid": "45dad7a4-d03d-4fc7-84bc-b6f8c49ea9e6",
     "showTitle": false,
     "tableResultSettingsMap": {},
     "title": ""
    }
   },
   "outputs": [],
   "source": [
    "books_transaction_table.groupBy(\"department\").agg(count(\"book_id\").alias(\"Books Borrowed\")).show()\n"
   ]
  },
  {
   "cell_type": "code",
   "execution_count": 0,
   "metadata": {
    "application/vnd.databricks.v1+cell": {
     "cellMetadata": {
      "byteLimit": 2048000,
      "rowLimit": 10000
     },
     "inputWidgets": {},
     "nuid": "5d8b0c20-774a-4e23-8365-529cb635487c",
     "showTitle": false,
     "tableResultSettingsMap": {},
     "title": ""
    }
   },
   "outputs": [],
   "source": [
    "books_transaction_table.withColumn(\"borrowing_duration\", datediff(col(\"return_date\"), col(\"issue_date\")))\\\n",
    "    .groupBy(\"book_id\").agg(avg(\"borrowing_duration\").alias(\"avg_duration\")).show()\n"
   ]
  },
  {
   "cell_type": "code",
   "execution_count": 0,
   "metadata": {
    "application/vnd.databricks.v1+cell": {
     "cellMetadata": {
      "byteLimit": 2048000,
      "rowLimit": 10000
     },
     "inputWidgets": {},
     "nuid": "04af9c86-df1e-4beb-8997-873001e32179",
     "showTitle": false,
     "tableResultSettingsMap": {},
     "title": ""
    }
   },
   "outputs": [],
   "source": [
    "transactions_df.withColumn(\"is_damaged\", when(col(\"final_status\") == \"damaged\", 1).otherwise(0))\\\n",
    "    .groupBy(\"is_damaged\").count().show()\n"
   ]
  },
  {
   "cell_type": "code",
   "execution_count": 0,
   "metadata": {
    "application/vnd.databricks.v1+cell": {
     "cellMetadata": {
      "byteLimit": 2048000,
      "rowLimit": 10000
     },
     "inputWidgets": {},
     "nuid": "8be6ff27-709b-4540-9082-9f4e05bae77e",
     "showTitle": false,
     "tableResultSettingsMap": {},
     "title": ""
    }
   },
   "outputs": [],
   "source": [
    "transactions_df.filter(col(\"final_status\") == \"damaged\")\\\n",
    "    .groupBy(\"book_id\").count().orderBy(col(\"count\").desc()).show()\n"
   ]
  },
  {
   "cell_type": "code",
   "execution_count": 0,
   "metadata": {
    "application/vnd.databricks.v1+cell": {
     "cellMetadata": {
      "byteLimit": 2048000,
      "rowLimit": 10000
     },
     "inputWidgets": {},
     "nuid": "16836bd0-8136-4bdf-98c0-2ec96987753d",
     "showTitle": false,
     "tableResultSettingsMap": {},
     "title": ""
    }
   },
   "outputs": [],
   "source": [
    "\n",
    "books_transaction_table.groupBy(month(\"issue_date\").alias(\"month\")).count().orderBy(\"month\").show()\n",
    "\n"
   ]
  },
  {
   "cell_type": "code",
   "execution_count": 0,
   "metadata": {
    "application/vnd.databricks.v1+cell": {
     "cellMetadata": {
      "byteLimit": 2048000,
      "rowLimit": 10000
     },
     "inputWidgets": {},
     "nuid": "46efc5a6-dcc3-4c7c-949f-e9e843316598",
     "showTitle": false,
     "tableResultSettingsMap": {},
     "title": ""
    }
   },
   "outputs": [],
   "source": [
    "books_transaction_table.groupBy(weekofyear(\"issue_date\").alias(\"week\")).count().orderBy(\"week\").show()\n"
   ]
  },
  {
   "cell_type": "code",
   "execution_count": 0,
   "metadata": {
    "application/vnd.databricks.v1+cell": {
     "cellMetadata": {
      "byteLimit": 2048000,
      "rowLimit": 10000
     },
     "inputWidgets": {},
     "nuid": "0b94aa04-eb7d-4546-b8a2-44c7e72a91df",
     "showTitle": false,
     "tableResultSettingsMap": {},
     "title": ""
    }
   },
   "outputs": [],
   "source": [
    "books_transaction_table.groupBy(dayofweek(\"issue_date\").alias(\"day_of_week\")).count().orderBy(\"day_of_week\").show()\n"
   ]
  },
  {
   "cell_type": "code",
   "execution_count": 0,
   "metadata": {
    "application/vnd.databricks.v1+cell": {
     "cellMetadata": {
      "byteLimit": 2048000,
      "rowLimit": 10000
     },
     "inputWidgets": {},
     "nuid": "24c4d4c5-c1f4-466b-8331-3271ecabf01a",
     "showTitle": false,
     "tableResultSettingsMap": {},
     "title": ""
    }
   },
   "outputs": [],
   "source": [
    "display(students_transaction_table)"
   ]
  },
  {
   "cell_type": "code",
   "execution_count": 0,
   "metadata": {
    "application/vnd.databricks.v1+cell": {
     "cellMetadata": {
      "byteLimit": 2048000,
      "rowLimit": 10000
     },
     "inputWidgets": {},
     "nuid": "18231f7a-fcdb-428c-af02-2dd7f3a19ef3",
     "showTitle": false,
     "tableResultSettingsMap": {},
     "title": ""
    }
   },
   "outputs": [],
   "source": [
    "%python\n",
    "# # Ensure students_transaction_table is properly initialized\n",
    "# students_transaction_table = spark.table(\"students_transaction_table\")\n",
    "# # Generating insights for students\n",
    "# from pyspark.sql.functions import col\n",
    "students_transaction_table.groupBy(\"student_id\").count().orderBy(col(\"count\").desc()).show()\n"
   ]
  },
  {
   "cell_type": "code",
   "execution_count": 0,
   "metadata": {
    "application/vnd.databricks.v1+cell": {
     "cellMetadata": {
      "byteLimit": 2048000,
      "rowLimit": 10000
     },
     "inputWidgets": {},
     "nuid": "71b4d63e-0248-40eb-8147-28ee369ba74f",
     "showTitle": false,
     "tableResultSettingsMap": {},
     "title": ""
    }
   },
   "outputs": [],
   "source": [
    "students_transaction_table.select(sum(\"fine_amount\").alias(\"Total Fine Collected\")).show()\n"
   ]
  },
  {
   "cell_type": "code",
   "execution_count": 0,
   "metadata": {
    "application/vnd.databricks.v1+cell": {
     "cellMetadata": {
      "byteLimit": 2048000,
      "rowLimit": 10000
     },
     "inputWidgets": {},
     "nuid": "b5fd23ef-9dde-48b1-8e02-78d9ccbe4731",
     "showTitle": false,
     "tableResultSettingsMap": {},
     "title": ""
    }
   },
   "outputs": [],
   "source": [
    "students_transaction_table.withColumn(\"is_late\", when(col(\"return_date\") > col(\"due_date\"), 1).otherwise(0))\\\n",
    "    .groupBy(\"is_late\").count().show()\n"
   ]
  },
  {
   "cell_type": "code",
   "execution_count": 0,
   "metadata": {
    "application/vnd.databricks.v1+cell": {
     "cellMetadata": {
      "byteLimit": 2048000,
      "rowLimit": 10000
     },
     "inputWidgets": {},
     "nuid": "5cb29893-f80d-475a-9946-ea4e1058e6b8",
     "showTitle": false,
     "tableResultSettingsMap": {},
     "title": ""
    }
   },
   "outputs": [],
   "source": [
    "students_transaction_table.groupBy(\"student_id\").agg(sum(\"fine_amount\").alias(\"total_fine\"))\\\n",
    "    .orderBy(col(\"total_fine\").desc()).show()\n",
    "\n"
   ]
  },
  {
   "cell_type": "code",
   "execution_count": 0,
   "metadata": {
    "application/vnd.databricks.v1+cell": {
     "cellMetadata": {
      "byteLimit": 2048000,
      "rowLimit": 10000
     },
     "inputWidgets": {},
     "nuid": "995b13cc-4bca-4783-8c81-adf1b774b9bf",
     "showTitle": false,
     "tableResultSettingsMap": {},
     "title": ""
    }
   },
   "outputs": [],
   "source": [
    "students_transaction_table.groupBy(\"student_id\").agg(avg(\"fine_amount\").alias(\"avg_fine\"))\\\n",
    "    .orderBy(col(\"avg_fine\").desc()).limit(10).show()\n"
   ]
  },
  {
   "cell_type": "code",
   "execution_count": 0,
   "metadata": {
    "application/vnd.databricks.v1+cell": {
     "cellMetadata": {
      "byteLimit": 2048000,
      "rowLimit": 10000
     },
     "inputWidgets": {},
     "nuid": "b79fbe46-267a-41e4-b62c-61777b7ab23e",
     "showTitle": false,
     "tableResultSettingsMap": {},
     "title": ""
    }
   },
   "outputs": [],
   "source": [
    "students_transaction_table.filter(col(\"return_date\") > col(\"due_date\"))\\\n",
    "    .groupBy(\"student_id\").count().orderBy(col(\"count\")).show()\n"
   ]
  },
  {
   "cell_type": "code",
   "execution_count": 0,
   "metadata": {
    "application/vnd.databricks.v1+cell": {
     "cellMetadata": {
      "byteLimit": 2048000,
      "rowLimit": 10000
     },
     "inputWidgets": {},
     "nuid": "1bcc3e3e-f6e6-4acd-a616-cba8c60c6cec",
     "showTitle": false,
     "tableResultSettingsMap": {},
     "title": ""
    }
   },
   "outputs": [],
   "source": [
    "students_transaction_table.groupBy(\"student_id\").count()\\\n",
    "    .agg(avg(\"count\").alias(\"avg_books_per_student\")).show()"
   ]
  },
  {
   "cell_type": "code",
   "execution_count": 0,
   "metadata": {
    "application/vnd.databricks.v1+cell": {
     "cellMetadata": {
      "byteLimit": 2048000,
      "rowLimit": 10000
     },
     "inputWidgets": {},
     "nuid": "390d8d56-0304-4034-851d-ed045bf47821",
     "showTitle": false,
     "tableResultSettingsMap": {},
     "title": ""
    }
   },
   "outputs": [],
   "source": [
    "student_insights_df = students_transaction_table.groupBy(\"student_id\").agg(\n",
    "    count(\"transaction_id\").alias(\"total_borrowed_books\"),  # Total books borrowed per student\n",
    "    sum(\"fine_amount\").alias(\"total_fine_collected\"),  # Total fine collected from each student\n",
    "    avg(\"fine_amount\").alias(\"average_fine_per_student\"),  # Average fine per student\n",
    "    count(when(col(\"return_date\") > col(\"due_date\"), 1)).alias(\"late_returns\"),  # Late returns count\n",
    "    countDistinct(\"book_id\").alias(\"unique_books_borrowed\"),  # Unique books borrowed\n",
    "    count(when(col(\"final_status\") == \"damaged\", 1)).alias(\"damaged_books_returned\"),  # Books returned as damaged\n",
    "    avg(datediff(col(\"return_date\"), col(\"issue_date\"))).alias(\"avg_borrowing_duration\")  # Average borrowing duration\n",
    ")\n",
    "\n",
    "# Store the student insights as a Delta table in the catalog\n",
    "student_insights_df.write.format(\"delta\").mode(\"overwrite\").saveAsTable(\"`lms-catalog`.gold.student_insights\")\n"
   ]
  },
  {
   "cell_type": "code",
   "execution_count": 0,
   "metadata": {
    "application/vnd.databricks.v1+cell": {
     "cellMetadata": {
      "byteLimit": 2048000,
      "rowLimit": 10000
     },
     "inputWidgets": {},
     "nuid": "245a6383-4a06-431f-a76f-49c847f5c41a",
     "showTitle": false,
     "tableResultSettingsMap": {},
     "title": ""
    }
   },
   "outputs": [],
   "source": [
    "%python\n",
    "from pyspark.sql.functions import col, count, avg, datediff, when, month, weekofyear, dayofweek\n",
    "\n",
    "books_insights_table = books_transaction_table.groupBy(\"book_id\").agg(\n",
    "    count(\"transaction_id\").alias(\"Total_Borrows\"),\n",
    "    avg(datediff(col(\"return_date\"), col(\"issue_date\"))).alias(\"avg_duration\"),\n",
    "    count(when(col(\"final_status\") == \"damaged\", 1)).alias(\"damaged_copies\"),\n",
    "    count(when(col(\"return_date\") > col(\"due_date\"), 1)).alias(\"late_returns\")\n",
    ").crossJoin(\n",
    "    books_transaction_table.groupBy(\"department\").agg(count(\"book_id\").alias(\"Books_Borrowed\")).withColumnRenamed(\"count\", \"department_count\")\n",
    ").crossJoin(\n",
    "    books_transaction_table.groupBy(month(\"issue_date\").alias(\"month\")).count().alias(\"monthly_borrowing\").withColumnRenamed(\"count\", \"monthly_count\")\n",
    ").crossJoin(\n",
    "    books_transaction_table.groupBy(weekofyear(\"issue_date\").alias(\"week\")).count().alias(\"weekly_borrowing\").withColumnRenamed(\"count\", \"weekly_count\")\n",
    ").crossJoin(\n",
    "    books_transaction_table.groupBy(dayofweek(\"issue_date\").alias(\"day_of_week\")).count().alias(\"daily_borrowing\").withColumnRenamed(\"count\", \"daily_count\")\n",
    ")\n",
    "\n",
    "# Store the merged insights table in catalog\n",
    "books_insights_table.write.mode(\"overwrite\").saveAsTable(\"`lms-catalog`.gold.books_insights\")"
   ]
  }
 ],
 "metadata": {
  "application/vnd.databricks.v1+notebook": {
   "computePreferences": null,
   "dashboards": [],
   "environmentMetadata": {
    "base_environment": "",
    "environment_version": "2"
   },
   "language": "python",
   "notebookMetadata": {
    "mostRecentlyExecutedCommandWithImplicitDF": {
     "commandId": -1,
     "dataframes": [
      "_sqldf"
     ]
    },
    "pythonIndentUnit": 4
   },
   "notebookName": "(Clone) gold",
   "widgets": {}
  },
  "language_info": {
   "name": "python"
  }
 },
 "nbformat": 4,
 "nbformat_minor": 0
}
