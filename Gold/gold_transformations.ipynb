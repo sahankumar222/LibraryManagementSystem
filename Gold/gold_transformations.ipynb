{
 "cells": [
  {
   "cell_type": "code",
   "execution_count": 0,
   "metadata": {
    "application/vnd.databricks.v1+cell": {
     "cellMetadata": {},
     "inputWidgets": {},
     "nuid": "944162c0-d94d-4a9c-8144-eed7525bc382",
     "showTitle": false,
     "tableResultSettingsMap": {},
     "title": ""
    }
   },
   "outputs": [],
   "source": [
    "from pyspark.sql import SparkSession\n",
    "from pyspark.sql.functions import col, count, sum, avg, when, countDistinct, desc, rank,datediff, weekofyear, month, year, dayofweek, lit,  concat\n",
    "from pyspark.sql.window import Window"
   ]
  },
  {
   "cell_type": "code",
   "execution_count": 0,
   "metadata": {
    "application/vnd.databricks.v1+cell": {
     "cellMetadata": {},
     "inputWidgets": {},
     "nuid": "94376b62-163a-4c59-8cf2-0c013aba0b33",
     "showTitle": false,
     "tableResultSettingsMap": {},
     "title": ""
    }
   },
   "outputs": [],
   "source": [
    "# # Set the current catalog\n",
    "# spark.sql(\"USE CATALOG `lms-catalog`\")\n",
    "\n",
    "# # Specify the schema (database) within the catalog\n",
    "# schema_name = \"gold\"\n",
    "\n",
    "# # Get the list of tables in the gold schema\n",
    "# tables = spark.catalog.listTables(schema_name)# Correct: just the schema name \"gold\"\n",
    "\n",
    "# # Drop each table\n",
    "# for table in tables:\n",
    "#     table_name = table.name\n",
    "#     full_table_name = f\"`lms-catalog`.`{schema_name}`.`{table_name}`\"\n",
    "#     print(f\"Dropping table: {full_table_name}\")\n",
    "#     spark.sql(f\"DROP TABLE IF EXISTS {full_table_name}\")"
   ]
  },
  {
   "cell_type": "code",
   "execution_count": 0,
   "metadata": {
    "application/vnd.databricks.v1+cell": {
     "cellMetadata": {},
     "inputWidgets": {},
     "nuid": "11a8c80e-e635-4d76-9895-2eb826d80c9b",
     "showTitle": false,
     "tableResultSettingsMap": {},
     "title": ""
    }
   },
   "outputs": [],
   "source": [
    "# Initialize Spark session\n",
    "spark = SparkSession.builder.appName(\"GoldLayerTransformations\").getOrCreate()"
   ]
  },
  {
   "cell_type": "code",
   "execution_count": 0,
   "metadata": {
    "application/vnd.databricks.v1+cell": {
     "cellMetadata": {},
     "inputWidgets": {},
     "nuid": "918f13db-6e90-4ebf-bdab-74533e6c41ad",
     "showTitle": false,
     "tableResultSettingsMap": {},
     "title": ""
    }
   },
   "outputs": [],
   "source": [
    "\n",
    "df_books = spark.read.table(\"`lms-catalog`.silver.books\")\n",
    "df_books_copies = spark.read.table(\"`lms-catalog`.silver.books_copies\")\n",
    "df_students = spark.read.table(\"`lms-catalog`.silver.students\")\n",
    "df_transactions = spark.read.table(\"`lms-catalog`.silver.transactions\")\n",
    "# display(df_books)\n",
    "# display(df_books_copies)\n",
    "# display(df_students)\n",
    "# display(df_transactions)"
   ]
  },
  {
   "cell_type": "code",
   "execution_count": 0,
   "metadata": {
    "application/vnd.databricks.v1+cell": {
     "cellMetadata": {},
     "inputWidgets": {},
     "nuid": "2f0238cb-5652-439a-b935-6d9593c96ea7",
     "showTitle": false,
     "tableResultSettingsMap": {},
     "title": ""
    }
   },
   "outputs": [],
   "source": [
    "df_transactions = df_transactions.withColumn(\n",
    "    \"delay_days\",\n",
    "    when(col(\"return_date\").isNull(), lit(0))  # 0 if return_date is NULL\n",
    "    .when(datediff(col(\"return_date\"), col(\"due_date\")) < 0, lit(0))  # 0 if negative (early return)\n",
    "    .otherwise(datediff(col(\"return_date\"), col(\"due_date\")))  # Positive delay days\n",
    ")"
   ]
  },
  {
   "cell_type": "code",
   "execution_count": 0,
   "metadata": {
    "application/vnd.databricks.v1+cell": {
     "cellMetadata": {},
     "inputWidgets": {},
     "nuid": "832573e6-4036-4012-978d-def331d93bbc",
     "showTitle": false,
     "tableResultSettingsMap": {},
     "title": ""
    }
   },
   "outputs": [],
   "source": [
    "# Join tables on book_id\n",
    "df_joined = df_books.join(df_books_copies, \"book_id\", \"inner\").display()"
   ]
  },
  {
   "cell_type": "code",
   "execution_count": 0,
   "metadata": {
    "application/vnd.databricks.v1+cell": {
     "cellMetadata": {},
     "inputWidgets": {},
     "nuid": "fa449416-6b8b-4ab5-ba48-5bc3bae32fe9",
     "showTitle": false,
     "tableResultSettingsMap": {},
     "title": ""
    }
   },
   "outputs": [],
   "source": [
    "# Total Books & Copies\n",
    "total_books = df_books.select(countDistinct(\"book_id\").alias(\"total_books\")).collect()[0][\"total_books\"]\n",
    "total_copies = df_books_copies.select(count(\"copy_id\").alias(\"total_copies\")).collect()[0][\"total_copies\"]\n",
    "display(total_books, total_copies)"
   ]
  },
  {
   "cell_type": "code",
   "execution_count": 0,
   "metadata": {
    "application/vnd.databricks.v1+cell": {
     "cellMetadata": {},
     "inputWidgets": {},
     "nuid": "5ac66118-b5c3-4b83-bd45-59e08feb3acf",
     "showTitle": false,
     "tableResultSettingsMap": {},
     "title": ""
    }
   },
   "outputs": [],
   "source": [
    "# Books by Department\n",
    "df_books_by_department = df_books.groupBy(\"department\").count().withColumnRenamed(\"count\", \"book_count\")\n",
    "display(df_books_by_department)"
   ]
  },
  {
   "cell_type": "code",
   "execution_count": 0,
   "metadata": {
    "application/vnd.databricks.v1+cell": {
     "cellMetadata": {},
     "inputWidgets": {},
     "nuid": "c02751dc-2206-47f0-96e5-8086441af9a7",
     "showTitle": false,
     "tableResultSettingsMap": {},
     "title": ""
    }
   },
   "outputs": [],
   "source": [
    "# Books by Availability\n",
    "df_books_by_status = df_books_copies.groupBy(\"status\").count().withColumnRenamed(\"count\", \"status_count\")\n",
    "display(df_books_by_status)"
   ]
  },
  {
   "cell_type": "code",
   "execution_count": 0,
   "metadata": {
    "application/vnd.databricks.v1+cell": {
     "cellMetadata": {},
     "inputWidgets": {},
     "nuid": "b161fba2-61ea-4ce0-a2b3-d4c268e65753",
     "showTitle": false,
     "tableResultSettingsMap": {},
     "title": ""
    }
   },
   "outputs": [],
   "source": [
    "# Top Authors & Publishers\n",
    "df_top_authors = df_books.groupBy(\"author\").count().orderBy(desc(\"count\")).limit(10)\n",
    "df_top_publishers = df_books.groupBy(\"publisher\").count().orderBy(desc(\"count\")).limit(10)\n",
    "df_top_authors.write.format(\"delta\").mode(\"overwrite\").saveAsTable(\"`lms-catalog`.gold.top_authors\")\n",
    "df_top_publishers.write.format(\"delta\").mode(\"overwrite\").saveAsTable(\"`lms-catalog`.gold.top_publishers\")\n",
    "# display(df_top_authors, df_top_publishers)"
   ]
  },
  {
   "cell_type": "code",
   "execution_count": 0,
   "metadata": {
    "application/vnd.databricks.v1+cell": {
     "cellMetadata": {},
     "inputWidgets": {},
     "nuid": "91ddca48-c27f-4c71-ae68-c7effacd1a21",
     "showTitle": false,
     "tableResultSettingsMap": {},
     "title": ""
    }
   },
   "outputs": [],
   "source": [
    "# Most Popular Books (Based on Copies)\n",
    "window_spec = Window.orderBy(desc(\"copy_count\"))\n",
    "df_book_popularity = df_books_copies.groupBy(\"book_id\").count().withColumnRenamed(\"count\", \"copy_count\")\n",
    "df_book_popularity = df_book_popularity.withColumn(\"rank\", rank().over(window_spec)).limit(10)\n",
    "df_book_popularity = df_book_popularity.join(df_books.select(\"book_id\", \"book_title\"), \"book_id\")\n",
    "df_book_popularity.show()\n",
    "df_book_popularity.write.format(\"delta\").mode(\"overwrite\").saveAsTable(\"`lms-catalog`.gold.most_popular_books\")\n",
    "\n"
   ]
  },
  {
   "cell_type": "code",
   "execution_count": 0,
   "metadata": {
    "application/vnd.databricks.v1+cell": {
     "cellMetadata": {},
     "inputWidgets": {},
     "nuid": "2cf4bd04-1153-4bac-a0f8-dfc232c2a415",
     "showTitle": false,
     "tableResultSettingsMap": {},
     "title": ""
    }
   },
   "outputs": [],
   "source": [
    "# Book Distribution by Location\n",
    "df_location_distribution = df_books_copies.groupBy(\"location\", \"rack\", \"shelf\").count().withColumnRenamed(\"count\", \"books_count\")\n",
    "df_location_distribution.show()"
   ]
  },
  {
   "cell_type": "code",
   "execution_count": 0,
   "metadata": {
    "application/vnd.databricks.v1+cell": {
     "cellMetadata": {},
     "inputWidgets": {},
     "nuid": "61c85048-14ae-4feb-a40e-e7d3cbabd79e",
     "showTitle": false,
     "tableResultSettingsMap": {},
     "title": ""
    }
   },
   "outputs": [],
   "source": [
    "# Results Summary\n",
    "print(f\"Total Books: {total_books}, Total Copies: {total_copies}\")"
   ]
  },
  {
   "cell_type": "code",
   "execution_count": 0,
   "metadata": {
    "application/vnd.databricks.v1+cell": {
     "cellMetadata": {},
     "inputWidgets": {},
     "nuid": "251d3442-f682-4167-9495-a2968c377cdb",
     "showTitle": false,
     "tableResultSettingsMap": {},
     "title": ""
    }
   },
   "outputs": [],
   "source": [
    "df_transactions"
   ]
  },
  {
   "cell_type": "code",
   "execution_count": 0,
   "metadata": {
    "application/vnd.databricks.v1+cell": {
     "cellMetadata": {},
     "inputWidgets": {},
     "nuid": "c27b8291-50a7-4565-bda3-22b1893c216a",
     "showTitle": false,
     "tableResultSettingsMap": {},
     "title": ""
    }
   },
   "outputs": [],
   "source": [
    "\n",
    "# Step 1: Join books_table and book_copies_table (Using INNER JOIN) -> books_final_table\n",
    "books_final_table = df_books.join(df_books_copies, on=\"book_id\", how=\"inner\")\n"
   ]
  },
  {
   "cell_type": "code",
   "execution_count": 0,
   "metadata": {
    "application/vnd.databricks.v1+cell": {
     "cellMetadata": {},
     "inputWidgets": {},
     "nuid": "29f1f685-16e5-4170-b136-4b3e350a7100",
     "showTitle": false,
     "tableResultSettingsMap": {},
     "title": ""
    }
   },
   "outputs": [],
   "source": [
    "# Step 2: Join books_final_table and transaction_table (Using LEFT JOIN) -> books_transaction_table\n",
    "books_transaction_table = books_final_table.join(df_transactions, on=[\"book_id\", \"copy_id\"], how=\"inner\")\n",
    "# books_transaction_table = books_final_table.join(df_transactions_q3, on=[\"book_id\", \"copy_id\"], how=\"left\")\n",
    "# books_transaction_table = books_final_table.join(df_transactions_q4, on=[\"book_id\", \"copy_id\"], how=\"left\")\n",
    "books_transaction_table.write.format(\"delta\").mode(\"overwrite\").saveAsTable(\"`lms-catalog`.gold.books_transaction_table\")\n",
    "\n",
    "display(books_transaction_table)\n"
   ]
  },
  {
   "cell_type": "code",
   "execution_count": 0,
   "metadata": {
    "application/vnd.databricks.v1+cell": {
     "cellMetadata": {},
     "inputWidgets": {},
     "nuid": "c67a0a97-4269-4144-b31b-ccb37769fba2",
     "showTitle": false,
     "tableResultSettingsMap": {},
     "title": ""
    }
   },
   "outputs": [],
   "source": [
    "# Step 3: Join students_table and transaction_table (Using RIGHT JOIN) -> students_transaction_table\n",
    "students_transaction_table = df_students.join(df_transactions, on=\"student_id\", how=\"inner\")\n",
    "display(students_transaction_table)"
   ]
  },
  {
   "cell_type": "code",
   "execution_count": 0,
   "metadata": {
    "application/vnd.databricks.v1+cell": {
     "cellMetadata": {},
     "inputWidgets": {},
     "nuid": "439e2b74-d69f-4f2c-b42f-a35f92cf614f",
     "showTitle": false,
     "tableResultSettingsMap": {},
     "title": ""
    }
   },
   "outputs": [],
   "source": [
    "students_transaction_table.display()"
   ]
  },
  {
   "cell_type": "code",
   "execution_count": 0,
   "metadata": {
    "application/vnd.databricks.v1+cell": {
     "cellMetadata": {},
     "inputWidgets": {},
     "nuid": "8787e9e2-b33a-4be5-9b6b-fdc4e339858d",
     "showTitle": false,
     "tableResultSettingsMap": {},
     "title": ""
    }
   },
   "outputs": [],
   "source": [
    "students_transaction_table.columns"
   ]
  },
  {
   "cell_type": "code",
   "execution_count": 0,
   "metadata": {
    "application/vnd.databricks.v1+cell": {
     "cellMetadata": {},
     "inputWidgets": {},
     "nuid": "f784b60e-6977-492d-933d-f9ccd9fbd1ac",
     "showTitle": false,
     "tableResultSettingsMap": {},
     "title": ""
    }
   },
   "outputs": [],
   "source": [
    "books_transaction_table.columns"
   ]
  },
  {
   "cell_type": "code",
   "execution_count": 0,
   "metadata": {
    "application/vnd.databricks.v1+cell": {
     "cellMetadata": {},
     "inputWidgets": {},
     "nuid": "9374a798-55fb-4771-a3d2-b2f93bccafe9",
     "showTitle": false,
     "tableResultSettingsMap": {},
     "title": ""
    }
   },
   "outputs": [],
   "source": [
    "# Step 4: Transformations on books_transaction_table\n",
    "# Example: Count total transactions per book\n",
    "book_transaction_counts = books_transaction_table.groupBy(\"book_title\").agg(count(\"transaction_id\").alias(\"total_transactions\"))\n",
    "book_transaction_counts.write.format(\"delta\").mode(\"overwrite\").saveAsTable(\"`lms-catalog`.gold.total_transactions_per_book\")\n",
    "# display(book_transaction_counts)\n"
   ]
  },
  {
   "cell_type": "code",
   "execution_count": 0,
   "metadata": {
    "application/vnd.databricks.v1+cell": {
     "cellMetadata": {},
     "inputWidgets": {},
     "nuid": "3f0de697-46d0-4dcf-8f41-3f7314ad9416",
     "showTitle": false,
     "tableResultSettingsMap": {},
     "title": ""
    }
   },
   "outputs": [],
   "source": [
    "# Example: Calculate average fine per book\n",
    "# avg_fine_per_book = books_transaction_table.groupBy(\"book_title\").agg(avg(\"fine_amount\").alias(\"average_fine\"))\n",
    "# avg_fine_per_book.write.format(\"delta\").mode(\"overwrite\").saveAsTable(\"`lms-catalog`.gold.avg_fine_per_book\")\n",
    "# display(avg_fine_per_book)\n",
    "from pyspark.sql.functions import col, avg\n",
    "\n",
    "# Calculate average fine per book for each final_status\n",
    "avg_fine_per_book = books_transaction_table.groupBy(\"book_title\", \"final_status\")\\\n",
    "    .agg(avg(\"fine_amount\").alias(\"average_fine\"))\n",
    "avg_fine_per_book.write.format(\"delta\").mode(\"overwrite\").saveAsTable(\"`lms-catalog`.gold.avg_fine_per_book\")\n",
    "display(avg_fine_per_book)"
   ]
  },
  {
   "cell_type": "code",
   "execution_count": 0,
   "metadata": {
    "application/vnd.databricks.v1+cell": {
     "cellMetadata": {},
     "inputWidgets": {},
     "nuid": "0f438a1a-bd31-4b5b-83f1-66913ab79503",
     "showTitle": false,
     "tableResultSettingsMap": {},
     "title": ""
    }
   },
   "outputs": [],
   "source": [
    "# Example: Average fine per student\n",
    "avg_fine_per_student = students_transaction_table.groupBy(\"student_id\").agg(avg(\"fine_amount\").alias(\"average_fine\"))\n",
    "avg_fine_per_book.write.format(\"delta\").mode(\"overwrite\").saveAsTable(\"`lms-catalog`.gold.avg_fine_per_student\")\n",
    "display(avg_fine_per_student)\n"
   ]
  },
  {
   "cell_type": "markdown",
   "metadata": {
    "application/vnd.databricks.v1+cell": {
     "cellMetadata": {},
     "inputWidgets": {},
     "nuid": "eaa68120-455e-4fb8-bc07-3e03a82f0358",
     "showTitle": false,
     "tableResultSettingsMap": {},
     "title": ""
    }
   },
   "source": [
    "#Insights"
   ]
  },
  {
   "cell_type": "code",
   "execution_count": 0,
   "metadata": {
    "application/vnd.databricks.v1+cell": {
     "cellMetadata": {},
     "inputWidgets": {},
     "nuid": "83bf8e06-a43e-44d0-beb3-33677d026ed8",
     "showTitle": false,
     "tableResultSettingsMap": {},
     "title": ""
    }
   },
   "outputs": [],
   "source": [
    "# Read datasets from Azure Data Lake Storage\n",
    "books_df = spark.read.format(\"delta\").load(\"abfss://silver@lmsstorageaccount24.dfs.core.windows.net/books\")\n",
    "book_copies_df = spark.read.format(\"delta\").load(\"abfss://silver@lmsstorageaccount24.dfs.core.windows.net/books_copies\")\n",
    "students_df = spark.read.format(\"delta\").load(\"abfss://silver@lmsstorageaccount24.dfs.core.windows.net/students\")\n",
    "transactions_df = spark.read.table(\"`lms-catalog`.silver.transactions\")\n"
   ]
  },
  {
   "cell_type": "code",
   "execution_count": 0,
   "metadata": {
    "application/vnd.databricks.v1+cell": {
     "cellMetadata": {},
     "inputWidgets": {},
     "nuid": "c9a8f554-83f5-4d0a-80d3-048fb192fcf0",
     "showTitle": false,
     "tableResultSettingsMap": {},
     "title": ""
    }
   },
   "outputs": [],
   "source": [
    "%sql\n",
    "DROP TABLE IF EXISTS `lms-catalog`.gold.books_transaction_table;\n",
    "\n",
    "CREATE TABLE `lms-catalog`.gold.books_transaction_table\n",
    "USING DELTA\n",
    "LOCATION 'abfss://gold@lmsstorageaccount24.dfs.core.windows.net/books_transaction_table';"
   ]
  },
  {
   "cell_type": "code",
   "execution_count": 0,
   "metadata": {
    "application/vnd.databricks.v1+cell": {
     "cellMetadata": {},
     "inputWidgets": {},
     "nuid": "881ecd24-1fa3-4534-bdeb-c98d576778df",
     "showTitle": false,
     "tableResultSettingsMap": {},
     "title": ""
    }
   },
   "outputs": [],
   "source": [
    "students_transaction_table.write.format(\"delta\").mode(\"overwrite\").save(\"abfss://gold@lmsstorageaccount24.dfs.core.windows.net/students_transaction_table\")"
   ]
  },
  {
   "cell_type": "code",
   "execution_count": 0,
   "metadata": {
    "application/vnd.databricks.v1+cell": {
     "cellMetadata": {},
     "inputWidgets": {},
     "nuid": "2246639e-23c6-4b6c-a9a4-ab7876954735",
     "showTitle": false,
     "tableResultSettingsMap": {},
     "title": ""
    }
   },
   "outputs": [],
   "source": [
    "%sql\n",
    "DROP TABLE IF EXISTS `lms-catalog`.gold.students_transaction_table;\n",
    "\n",
    "CREATE TABLE `lms-catalog`.gold.students_transaction_table\n",
    "USING DELTA\n",
    "LOCATION 'abfss://gold@lmsstorageaccount24.dfs.core.windows.net/students_transaction_table';"
   ]
  },
  {
   "cell_type": "code",
   "execution_count": 0,
   "metadata": {
    "application/vnd.databricks.v1+cell": {
     "cellMetadata": {},
     "inputWidgets": {},
     "nuid": "a1bfe43f-8328-434e-b98b-09b52b347164",
     "showTitle": false,
     "tableResultSettingsMap": {},
     "title": ""
    }
   },
   "outputs": [],
   "source": [
    "# Load the books_transaction_table\n",
    "# books_transaction_table = spark.table(\"books_transaction_table\")\n",
    "\n",
    "# Generating insights for books\n",
    "# from pyspark.sql.functions import count, col\n",
    "\n",
    "books_transaction_table.groupBy(\"book_id\").agg(\n",
    "    count(\"transaction_id\").alias(\"Total Borrows\")\n",
    ").orderBy(col(\"Total Borrows\").desc()).show()\n",
    "books_transaction_table.write.format(\"delta\").mode(\"overwrite\").saveAsTable(\"`lms-catalog`.gold.Total_Borrows\")\n",
    "display(avg_fine_per_book)\n"
   ]
  },
  {
   "cell_type": "code",
   "execution_count": 0,
   "metadata": {
    "application/vnd.databricks.v1+cell": {
     "cellMetadata": {},
     "inputWidgets": {},
     "nuid": "76c29013-0d38-4972-9813-45f58cf88f40",
     "showTitle": false,
     "tableResultSettingsMap": {},
     "title": ""
    }
   },
   "outputs": [],
   "source": [
    "books_transaction_table.groupBy(\"department\").agg(count(\"book_id\").alias(\"Books Borrowed\")).show()\n",
    "books_transaction_table.write.format(\"delta\").mode(\"overwrite\").saveAsTable(\"`lms-catalog`.gold.Books_Borrowed_by_department\")\n"
   ]
  },
  {
   "cell_type": "code",
   "execution_count": 0,
   "metadata": {
    "application/vnd.databricks.v1+cell": {
     "cellMetadata": {},
     "inputWidgets": {},
     "nuid": "0e56b760-3e4b-4d7f-8b31-ccb306fe336c",
     "showTitle": false,
     "tableResultSettingsMap": {},
     "title": ""
    }
   },
   "outputs": [],
   "source": [
    "books_transaction_table.withColumn(\"borrowing_duration\", datediff(col(\"return_date\"), col(\"issue_date\")))\\\n",
    "    .groupBy(\"book_id\").agg(avg(\"borrowing_duration\").alias(\"avg_duration\")).show()\n"
   ]
  },
  {
   "cell_type": "code",
   "execution_count": 0,
   "metadata": {
    "application/vnd.databricks.v1+cell": {
     "cellMetadata": {},
     "inputWidgets": {},
     "nuid": "148a7805-402b-483e-aabc-7f622783b724",
     "showTitle": false,
     "tableResultSettingsMap": {},
     "title": ""
    }
   },
   "outputs": [],
   "source": [
    "# Create a new column to indicate if a book was damaged\n",
    "transactions_df.withColumn(\"is_damaged\", when(col(\"final_status\") == \"damaged\", 1).otherwise(0))\\\n",
    "    .groupBy(\"is_damaged\").count().show()\n",
    "transactions_df.write.format(\"delta\").mode(\"overwrite\").saveAsTable(\"`lms-catalog`.gold.damaged_books_insights\")\n",
    "\n"
   ]
  },
  {
   "cell_type": "code",
   "execution_count": 0,
   "metadata": {
    "application/vnd.databricks.v1+cell": {
     "cellMetadata": {},
     "inputWidgets": {},
     "nuid": "57621e45-7d1d-4814-97be-6a276e9c5c28",
     "showTitle": false,
     "tableResultSettingsMap": {},
     "title": ""
    }
   },
   "outputs": [],
   "source": [
    "# transactions_df.filter(col(\"final_status\") == \"damaged\")\\\n",
    "#     .groupBy(\"book_id\").count().orderBy(col(\"count\").desc()).show()\n",
    "# transactions_df.write.format(\"delta\").mode(\"overwrite\").saveAsTable(\"`lms-catalog`.gold.most_damaged_books\")\n",
    "from pyspark.sql.functions import col, count, desc\n",
    "\n",
    "# Filter only damaged books from transactions\n",
    "damaged_books_df = transactions_df.filter(col(\"final_status\") == \"damaged\")\\\n",
    "    .groupBy(\"book_id\")\\\n",
    "    .agg(count(\"book_id\").alias(\"damage_count\"))\\\n",
    "    .orderBy(desc(\"damage_count\"))\n",
    "\n",
    "# Join with books table to get department info\n",
    "damaged_books_with_dept = damaged_books_df.join(df_books.select(\"book_id\", \"book_title\", \"department\"), \"book_id\", \"left\")\n",
    "\n",
    "# Save to Delta table\n",
    "# damaged_books_with_dept.write.format(\"delta\").mode(\"overwrite\").saveAsTable(\"lms-catalog.gold.most_damaged_books_with_dept\")\n",
    "\n",
    "# Display results\n",
    "display(damaged_books_with_dept)\n",
    "\n",
    "\n"
   ]
  },
  {
   "cell_type": "code",
   "execution_count": 0,
   "metadata": {
    "application/vnd.databricks.v1+cell": {
     "cellMetadata": {},
     "inputWidgets": {},
     "nuid": "cd66d8c6-e516-422b-9c20-e7f95ee21af4",
     "showTitle": false,
     "tableResultSettingsMap": {},
     "title": ""
    }
   },
   "outputs": [],
   "source": [
    "\n",
    "books_transaction_table.groupBy(month(\"issue_date\").alias(\"month\")).count().orderBy(\"month\").show()\n",
    "books_transaction_table.write.format(\"delta\").mode(\"overwrite\").saveAsTable(\"`lms-catalog`.gold.monthly_book_transactions\")\n",
    "\n",
    "\n"
   ]
  },
  {
   "cell_type": "code",
   "execution_count": 0,
   "metadata": {
    "application/vnd.databricks.v1+cell": {
     "cellMetadata": {},
     "inputWidgets": {},
     "nuid": "78727fe5-5bd2-4fe8-8dc6-34449b776b9a",
     "showTitle": false,
     "tableResultSettingsMap": {},
     "title": ""
    }
   },
   "outputs": [],
   "source": [
    "books_transaction_table.groupBy(weekofyear(\"issue_date\").alias(\"week\")).count().orderBy(\"week\").show()\n",
    "books_transaction_table.write.format(\"delta\").mode(\"overwrite\").saveAsTable(\"`lms-catalog`.gold.weekly_book_transactions\")\n"
   ]
  },
  {
   "cell_type": "code",
   "execution_count": 0,
   "metadata": {
    "application/vnd.databricks.v1+cell": {
     "cellMetadata": {},
     "inputWidgets": {},
     "nuid": "999fefb3-298b-421a-8082-df3073c0782f",
     "showTitle": false,
     "tableResultSettingsMap": {},
     "title": ""
    }
   },
   "outputs": [],
   "source": [
    "books_transaction_table.groupBy(dayofweek(\"issue_date\").alias(\"day_of_week\")).count().orderBy(\"day_of_week\").show()\n",
    "books_transaction_table.write.format(\"delta\").mode(\"overwrite\").saveAsTable(\"`lms-catalog`.gold.day_of_week\")\n"
   ]
  },
  {
   "cell_type": "code",
   "execution_count": 0,
   "metadata": {
    "application/vnd.databricks.v1+cell": {
     "cellMetadata": {},
     "inputWidgets": {},
     "nuid": "0e95e26c-94d3-4dba-90ce-cc174f77d131",
     "showTitle": false,
     "tableResultSettingsMap": {},
     "title": ""
    }
   },
   "outputs": [],
   "source": [
    "display(students_transaction_table)"
   ]
  },
  {
   "cell_type": "code",
   "execution_count": 0,
   "metadata": {
    "application/vnd.databricks.v1+cell": {
     "cellMetadata": {},
     "inputWidgets": {},
     "nuid": "ca75ba7e-a55c-44cf-8bc3-7a7e852f71a0",
     "showTitle": false,
     "tableResultSettingsMap": {},
     "title": ""
    }
   },
   "outputs": [],
   "source": [
    "# # Ensure students_transaction_table is properly initialized\n",
    "# students_transaction_table = spark.table(\"students_transaction_table\")\n",
    "# # Generating insights for students\n",
    "# from pyspark.sql.functions import col\n",
    "students_transaction_table.groupBy(\"student_id\").count().orderBy(col(\"count\").desc()).show()\n",
    "students_transaction_table.write.format(\"delta\").mode(\"overwrite\").saveAsTable(\"`lms-catalog`.gold.students_borrowed_count\")"
   ]
  },
  {
   "cell_type": "code",
   "execution_count": 0,
   "metadata": {
    "application/vnd.databricks.v1+cell": {
     "cellMetadata": {},
     "inputWidgets": {},
     "nuid": "808a1261-cabc-4e7b-9040-66564c75f5ad",
     "showTitle": false,
     "tableResultSettingsMap": {},
     "title": ""
    }
   },
   "outputs": [],
   "source": [
    "students_transaction_table.select(sum(\"fine_amount\").alias(\"Total Fine Collected\")).show()\n"
   ]
  },
  {
   "cell_type": "code",
   "execution_count": 0,
   "metadata": {
    "application/vnd.databricks.v1+cell": {
     "cellMetadata": {},
     "inputWidgets": {},
     "nuid": "5f89d8fb-ea93-4215-9dec-f29362a239d4",
     "showTitle": false,
     "tableResultSettingsMap": {},
     "title": ""
    }
   },
   "outputs": [],
   "source": [
    "# students_transaction_table.withColumn(\"is_late\", when(col(\"return_date\") > col(\"due_date\"), 1).otherwise(0))\\\n",
    "#     .groupBy(\"is_late\").count().show()\n",
    "# students_transaction_table.write.format(\"delta\").mode(\"overwrite\").saveAsTable(\"`lms-catalog`.gold.late_returns\")\n",
    "from pyspark.sql.functions import col, when, count, to_date, weekofyear\n",
    "\n",
    "# Add a column to indicate late returns\n",
    "students_transaction_table = students_transaction_table.withColumn(\"is_late\", when(col(\"return_date\") > col(\"due_date\"), 1).otherwise(0))\n",
    "\n",
    "# Daily Late Returns\n",
    "daily_late_returns = students_transaction_table.filter(col(\"is_late\") == 1)\\\n",
    "    .groupBy(to_date(col(\"return_date\")).alias(\"return_date\"))\\\n",
    "    .agg(count(\"is_late\").alias(\"late_returns_count\"))\n",
    "\n",
    "# Weekly Late Returns\n",
    "weekly_late_returns = students_transaction_table.filter(col(\"is_late\") == 1)\\\n",
    "    .groupBy(weekofyear(col(\"return_date\")).alias(\"week_number\"))\\\n",
    "    .agg(count(\"is_late\").alias(\"late_returns_count\"))\n",
    "\n",
    "# # Save to Delta Tables\n",
    "# daily_late_returns.write.format(\"delta\").mode(\"overwrite\").saveAsTable(\"lms-catalog.gold.daily_late_returns\")\n",
    "# weekly_late_returns.write.format(\"delta\").mode(\"overwrite\").saveAsTable(\"lms-catalog.gold.weekly_late_returns\")\n",
    "\n",
    "# Display Results\n",
    "display(daily_late_returns)\n",
    "display(weekly_late_returns)\n"
   ]
  },
  {
   "cell_type": "code",
   "execution_count": 0,
   "metadata": {
    "application/vnd.databricks.v1+cell": {
     "cellMetadata": {},
     "inputWidgets": {},
     "nuid": "a5661e5c-d227-448a-a3dd-f3afcc278a0a",
     "showTitle": false,
     "tableResultSettingsMap": {},
     "title": ""
    }
   },
   "outputs": [],
   "source": [
    "students_transaction_table.groupBy(\"student_id\").agg(sum(\"fine_amount\").alias(\"total_fine\"))\\\n",
    "    .orderBy(col(\"total_fine\").desc()).show()\n",
    "students_transaction_table.write.format(\"delta\").mode(\"overwrite\").saveAsTable(\"`lms-catalog`.gold.students_fine_amount\")\n",
    "\n"
   ]
  },
  {
   "cell_type": "code",
   "execution_count": 0,
   "metadata": {
    "application/vnd.databricks.v1+cell": {
     "cellMetadata": {},
     "inputWidgets": {},
     "nuid": "203e8619-a2aa-4226-b8cc-a0c321addc3d",
     "showTitle": false,
     "tableResultSettingsMap": {},
     "title": ""
    }
   },
   "outputs": [],
   "source": [
    "students_transaction_table.groupBy(\"student_id\").agg(avg(\"fine_amount\").alias(\"avg_fine\"))\\\n",
    "    .orderBy(col(\"avg_fine\").desc()).limit(10).show()\n"
   ]
  },
  {
   "cell_type": "code",
   "execution_count": 0,
   "metadata": {
    "application/vnd.databricks.v1+cell": {
     "cellMetadata": {},
     "inputWidgets": {},
     "nuid": "d2998a6c-e733-44eb-b4b1-4c468c8b7f6a",
     "showTitle": false,
     "tableResultSettingsMap": {},
     "title": ""
    }
   },
   "outputs": [],
   "source": [
    "# students_transaction_table.filter(col(\"return_date\") > col(\"due_date\"))\\\n",
    "#     .groupBy(\"student_id\").count().orderBy(col(\"count\")).desc().show()\n",
    "# students_transaction_table.write.format(\"delta\").mode(\"overwrite\").saveAsTable(\"`lms-catalog`.gold.students_late_returns\")\n",
    "\n",
    "students_transaction_table.filter(col(\"return_date\") > col(\"due_date\"))\\\n",
    "    .groupBy(\"student_id\").count().orderBy(desc(\"count\")).show()\n",
    "\n",
    "students_transaction_table.write.format(\"delta\").mode(\"overwrite\").saveAsTable(\"`lms-catalog`.gold.students_late_returns\")\n"
   ]
  },
  {
   "cell_type": "code",
   "execution_count": 0,
   "metadata": {
    "application/vnd.databricks.v1+cell": {
     "cellMetadata": {},
     "inputWidgets": {},
     "nuid": "eefe3f8a-934f-4d3d-a9e8-79ba3a03c611",
     "showTitle": false,
     "tableResultSettingsMap": {},
     "title": ""
    }
   },
   "outputs": [],
   "source": [
    "# students_transaction_table.groupBy(\"student_id\").count()\\\n",
    "#     .agg(avg(\"count\").alias(\"avg_books_per_student\")).display()\n",
    "# students_transaction_table.write.format(\"delta\").mode(\"overwrite\").saveAsTable(\"`lms-catalog`.gold.avg_books_per_student\")\n",
    "from pyspark.sql.functions import avg, count, col, floor, ceil, concat_ws\n",
    "\n",
    "# Calculate the average books borrowed per student\n",
    "avg_books_df = students_transaction_table.groupBy(\"student_id\").count()\\\n",
    "    .agg(avg(\"count\").alias(\"avg_books_per_student\"))\n",
    "\n",
    "# Extract the floor (lower bound) and ceil (upper bound) of the average\n",
    "avg_books_df = avg_books_df.withColumn(\"lower_bound\", floor(col(\"avg_books_per_student\")))\\\n",
    "                           .withColumn(\"upper_bound\", ceil(col(\"avg_books_per_student\")))\n",
    "\n",
    "# Merge lower and upper bounds into a single column with a hyphen\n",
    "avg_books_df = avg_books_df.withColumn(\"books_range\", concat_ws(\"-\", col(\"lower_bound\"), col(\"upper_bound\")))\n",
    "\n",
    "# Show the result\n",
    "avg_books_df.select(\"books_range\").show(truncate=False)\n",
    "avg_books_df.write.format(\"delta\").mode(\"overwrite\").saveAsTable(\"`lms-catalog`.gold.avg_books_per_student\")"
   ]
  },
  {
   "cell_type": "code",
   "execution_count": 0,
   "metadata": {
    "application/vnd.databricks.v1+cell": {
     "cellMetadata": {},
     "inputWidgets": {},
     "nuid": "3f5b0bd5-f6fe-4930-bac5-69def39c3f83",
     "showTitle": false,
     "tableResultSettingsMap": {},
     "title": ""
    }
   },
   "outputs": [],
   "source": [
    "# student_insights_df = students_transaction_table.groupBy(\"student_id\").agg(\n",
    "#     count(\"transaction_id\").alias(\"total_borrowed_books\"),  # Total books borrowed per student\n",
    "#     sum(\"fine_amount\").alias(\"total_fine_collected\"),  # Total fine collected from each student\n",
    "#     avg(\"fine_amount\").alias(\"average_fine_per_student\"),  # Average fine per student\n",
    "#     count(when(col(\"return_date\") > col(\"due_date\"), 1)).alias(\"late_returns\"),  # Late returns count\n",
    "#     countDistinct(\"book_id\").alias(\"unique_books_borrowed\"),  # Unique books borrowed\n",
    "#     count(when(col(\"final_status\") == \"damaged\", 1)).alias(\"damaged_books_returned\"),  # Books returned as damaged\n",
    "#     avg(datediff(col(\"return_date\"), col(\"issue_date\"))).alias(\"avg_borrowing_duration\")  # Average borrowing duration\n",
    "# )\n",
    "\n",
    "# # Store the student insights as a Delta table in the catalog\n",
    "# student_insights_df.write.format(\"delta\").mode(\"overwrite\").saveAsTable(\"`lms-catalog`.gold.student_insights\")\n"
   ]
  },
  {
   "cell_type": "code",
   "execution_count": 0,
   "metadata": {
    "application/vnd.databricks.v1+cell": {
     "cellMetadata": {},
     "inputWidgets": {},
     "nuid": "8da14b34-2f75-4191-a3b5-4d074464e70a",
     "showTitle": false,
     "tableResultSettingsMap": {},
     "title": ""
    }
   },
   "outputs": [],
   "source": [
    "# from pyspark.sql.functions import col, count, avg, datediff, when, month, weekofyear, dayofweek\n",
    "\n",
    "# books_insights_table = books_transaction_table.groupBy(\"book_id\").agg(\n",
    "#     count(\"transaction_id\").alias(\"Total_Borrows\"),\n",
    "#     avg(datediff(col(\"return_date\"), col(\"issue_date\"))).alias(\"avg_duration\"),\n",
    "#     count(when(col(\"final_status\") == \"damaged\", 1)).alias(\"damaged_copies\"),\n",
    "#     count(when(col(\"return_date\") > col(\"due_date\"), 1)).alias(\"late_returns\")\n",
    "# ).crossJoin(\n",
    "#     books_transaction_table.groupBy(\"department\").agg(count(\"book_id\").alias(\"Books_Borrowed\")).withColumnRenamed(\"count\", \"department_count\")\n",
    "# ).crossJoin(\n",
    "#     books_transaction_table.groupBy(month(\"issue_date\").alias(\"month\")).count().alias(\"monthly_borrowing\").withColumnRenamed(\"count\", \"monthly_count\")\n",
    "# ).crossJoin(\n",
    "#     books_transaction_table.groupBy(weekofyear(\"issue_date\").alias(\"week\")).count().alias(\"weekly_borrowing\").withColumnRenamed(\"count\", \"weekly_count\")\n",
    "# ).crossJoin(\n",
    "#     books_transaction_table.groupBy(dayofweek(\"issue_date\").alias(\"day_of_week\")).count().alias(\"daily_borrowing\").withColumnRenamed(\"count\", \"daily_count\")\n",
    "# )\n",
    "\n",
    "# # Store the merged insights table in catalog\n",
    "# books_insights_table.write.mode(\"overwrite\").saveAsTable(\"`lms-catalog`.gold.books_insights\")"
   ]
  },
  {
   "cell_type": "code",
   "execution_count": 0,
   "metadata": {
    "application/vnd.databricks.v1+cell": {
     "cellMetadata": {},
     "inputWidgets": {},
     "nuid": "3fb4b6f9-b048-4551-8c7d-19e07f2a1636",
     "showTitle": false,
     "tableResultSettingsMap": {},
     "title": ""
    }
   },
   "outputs": [],
   "source": [
    "# from pyspark.sql.functions import col, count, sum, avg, when, countDistinct, datediff\n",
    "\n",
    "# # Aggregate insights for each student\n",
    "# student_insights_df = students_transaction_table.groupBy(\"student_id\").agg(\n",
    "#     count(\"transaction_id\").alias(\"total_borrowed_books\"),  # Total books borrowed per student\n",
    "#     sum(\"fine_amount\").alias(\"total_fine_collected\"),  # Total fine collected from each student\n",
    "#     avg(\"fine_amount\").alias(\"average_fine_per_student\"),  # Average fine per student\n",
    "#     count(when(col(\"return_date\") > col(\"due_date\"), 1)).alias(\"late_returns\"),  # Late returns count\n",
    "#     countDistinct(\"book_id\").alias(\"unique_books_borrowed\"),  # Unique books borrowed\n",
    "#     count(when(col(\"final_status\") == \"damaged\", 1)).alias(\"damaged_books_returned\"),  # Books returned as damaged\n",
    "#     avg(datediff(col(\"return_date\"), col(\"issue_date\"))).alias(\"avg_borrowing_duration\")  # Average borrowing duration\n",
    "# )\n",
    "\n",
    "# # Iterate over each student and save their insights as an individual table\n",
    "# for student in student_insights_df.collect():\n",
    "#     student_id = student[\"student_id\"]\n",
    "#     student_df = student_insights_df.filter(col(\"student_id\") == student_id)\n",
    "    \n",
    "#     table_name = f\"`lms-catalog`.gold.student_{student_id}\"  # Unique table for each student\n",
    "#     student_df.write.format(\"delta\").mode(\"overwrite\").saveAsTable(table_name)\n",
    "\n",
    "# print(\"Student insights saved as individual tables.\")"
   ]
  },
  {
   "cell_type": "markdown",
   "metadata": {
    "application/vnd.databricks.v1+cell": {
     "cellMetadata": {},
     "inputWidgets": {},
     "nuid": "299d0259-c19b-4c2d-89eb-bc19c880cda0",
     "showTitle": false,
     "tableResultSettingsMap": {},
     "title": ""
    }
   },
   "source": [
    "#creating tables"
   ]
  },
  {
   "cell_type": "code",
   "execution_count": 0,
   "metadata": {
    "application/vnd.databricks.v1+cell": {
     "cellMetadata": {},
     "inputWidgets": {},
     "nuid": "1b300749-ec1e-4229-b5df-dc48d97868a2",
     "showTitle": false,
     "tableResultSettingsMap": {},
     "title": ""
    }
   },
   "outputs": [],
   "source": [
    "# Perform an inner join on book_id\n",
    "df_joined = df_books.join(df_books_copies, \"book_id\", \"inner\")\n",
    "\n",
    "# Store the joined data as a Delta table in the given catalog path\n",
    "df_joined.write.format(\"delta\").mode(\"overwrite\").saveAsTable(\"`lms-catalog`.gold.inner_join_on_book_id\")\n",
    "\n",
    "print(\"Joined book insights table saved successfully.\")"
   ]
  },
  {
   "cell_type": "code",
   "execution_count": 0,
   "metadata": {
    "application/vnd.databricks.v1+cell": {
     "cellMetadata": {},
     "inputWidgets": {},
     "nuid": "b0c62934-1d14-4a93-932b-4e0173cdbc2f",
     "showTitle": false,
     "tableResultSettingsMap": {},
     "title": ""
    }
   },
   "outputs": [],
   "source": [
    "from pyspark.sql.functions import countDistinct, count\n",
    "from pyspark.sql import Row\n",
    "\n",
    "# Calculate total books and total copies\n",
    "total_books = df_books.select(countDistinct(\"book_id\").alias(\"total_books\")).collect()[0][\"total_books\"]\n",
    "total_copies = df_books_copies.select(count(\"copy_id\").alias(\"total_copies\")).collect()[0][\"total_copies\"]\n",
    "\n",
    "# Create a DataFrame with the insights\n",
    "total_insights_df = spark.createDataFrame([Row(total_books=total_books, total_copies=total_copies)])\n",
    "\n",
    "# Store the insights as a Delta table in the catalog\n",
    "total_insights_df.write.format(\"delta\").mode(\"overwrite\").saveAsTable(\"`lms-catalog`.gold.total_books_copies\")\n",
    "\n",
    "print(\"Total books and copies insights table saved successfully.\")"
   ]
  },
  {
   "cell_type": "code",
   "execution_count": 0,
   "metadata": {
    "application/vnd.databricks.v1+cell": {
     "cellMetadata": {},
     "inputWidgets": {},
     "nuid": "a81a5d00-83a1-4d57-b91e-3dbaaa324859",
     "showTitle": false,
     "tableResultSettingsMap": {},
     "title": ""
    }
   },
   "outputs": [],
   "source": [
    "from pyspark.sql.functions import col\n",
    "\n",
    "# Aggregate book count by department\n",
    "df_books_by_department = df_books.groupBy(\"department\").count().withColumnRenamed(\"count\", \"book_count\")\n",
    "\n",
    "# Store the insights as a Delta table in the catalog\n",
    "df_books_by_department.write.format(\"delta\").mode(\"overwrite\").saveAsTable(\"`lms-catalog`.gold.books_by_department\")\n",
    "display(df_books_by_department)"
   ]
  }
 ],
 "metadata": {
  "application/vnd.databricks.v1+notebook": {
   "computePreferences": null,
   "dashboards": [],
   "environmentMetadata": null,
   "language": "python",
   "notebookMetadata": {
    "pythonIndentUnit": 4
   },
   "notebookName": "gold_transformations",
   "widgets": {}
  },
  "language_info": {
   "name": "python"
  }
 },
 "nbformat": 4,
 "nbformat_minor": 0
}