{
 "cells": [
  {
   "cell_type": "code",
   "execution_count": 0,
   "metadata": {
    "application/vnd.databricks.v1+cell": {
     "cellMetadata": {
      "byteLimit": 2048000,
      "rowLimit": 10000
     },
     "inputWidgets": {},
     "nuid": "e9548e82-1761-403b-aef6-adcea62afb51",
     "showTitle": false,
     "tableResultSettingsMap": {},
     "title": ""
    }
   },
   "outputs": [],
   "source": [
    "#Show all scopes in Databricks\n",
    "\n",
    "scopes = dbutils.secrets.listScopes()\n",
    "display(scopes)"
   ]
  },
  {
   "cell_type": "code",
   "execution_count": 0,
   "metadata": {
    "application/vnd.databricks.v1+cell": {
     "cellMetadata": {
      "byteLimit": 2048000,
      "rowLimit": 10000
     },
     "inputWidgets": {},
     "nuid": "e88bf2e9-dde8-456b-9116-74e184d9f000",
     "showTitle": false,
     "tableResultSettingsMap": {},
     "title": ""
    }
   },
   "outputs": [],
   "source": [
    "#Show all secrets in scope\n",
    "\n",
    "secrets = dbutils.secrets.list(\"lms-scope\")\n",
    "display(secrets)"
   ]
  },
  {
   "cell_type": "code",
   "execution_count": 0,
   "metadata": {
    "application/vnd.databricks.v1+cell": {
     "cellMetadata": {
      "byteLimit": 2048000,
      "rowLimit": 10000
     },
     "inputWidgets": {},
     "nuid": "c525e7f8-2dfb-4b43-9b57-559c8efe327e",
     "showTitle": false,
     "tableResultSettingsMap": {},
     "title": ""
    }
   },
   "outputs": [],
   "source": [
    "#Reading secrets from scope\n",
    "\n",
    "appid = dbutils.secrets.get(scope=\"lms-scope\",key=\"lms-appid\")\n",
    "service_credential = dbutils.secrets.get(scope=\"lms-scope\",key=\"lms-secretid\")\n",
    "directoryid = dbutils.secrets.get(scope=\"lms-scope\",key=\"lms-tenant\")\n",
    "\n",
    "display(appid,service_credential,directoryid)"
   ]
  },
  {
   "cell_type": "markdown",
   "metadata": {
    "application/vnd.databricks.v1+cell": {
     "cellMetadata": {
      "byteLimit": 2048000,
      "rowLimit": 10000
     },
     "inputWidgets": {},
     "nuid": "9b6fd5ce-189c-4a27-9e7c-61cbe7f00e39",
     "showTitle": false,
     "tableResultSettingsMap": {},
     "title": ""
    }
   },
   "source": [
    "\n",
    "######Mounting ADB with ADLS Gen2 (For reading the data)"
   ]
  },
  {
   "cell_type": "code",
   "execution_count": 0,
   "metadata": {
    "application/vnd.databricks.v1+cell": {
     "cellMetadata": {
      "byteLimit": 2048000,
      "rowLimit": 10000
     },
     "inputWidgets": {},
     "nuid": "c34dbbae-4127-4191-8e1a-8f36c60ddbe9",
     "showTitle": false,
     "tableResultSettingsMap": {},
     "title": ""
    }
   },
   "outputs": [],
   "source": [
    "# %python\n",
    "# configs = {\"fs.azure.account.auth.type\": \"OAuth\",\n",
    "#           \"fs.azure.account.oauth.provider.type\": \"org.apache.hadoop.fs.azurebfs.oauth2.ClientCredsTokenProvider\",\n",
    "#           \"fs.azure.account.oauth2.client.id\": appid,\n",
    "#           \"fs.azure.account.oauth2.client.secret\": service_credential,\n",
    "#           \"fs.azure.account.oauth2.client.endpoint\": f\"https://login.microsoftonline.com/{directoryid}/oauth2/token\"}\n",
    "\n",
    "# # Optionally, you can add <directory-name> to the source URI of your mount point.\n",
    "# dbutils.fs.mount(\n",
    "#   source = \"abfss://bronze@lmsstorageaccount2025.dfs.core.windows.net/\",\n",
    "#   mount_point = \"/mnt/bronze\",\n",
    "#   extra_configs = configs)"
   ]
  },
  {
   "cell_type": "code",
   "execution_count": 0,
   "metadata": {
    "application/vnd.databricks.v1+cell": {
     "cellMetadata": {
      "byteLimit": 2048000,
      "rowLimit": 10000
     },
     "inputWidgets": {},
     "nuid": "39f397d0-1f8d-4d91-a7d1-13b1c01a9312",
     "showTitle": false,
     "tableResultSettingsMap": {},
     "title": ""
    }
   },
   "outputs": [],
   "source": [
    "#Show all data in silver\n",
    "\n",
    "display(dbutils.fs.ls(\"/mnt/bronze\"))"
   ]
  },
  {
   "cell_type": "code",
   "execution_count": 0,
   "metadata": {
    "application/vnd.databricks.v1+cell": {
     "cellMetadata": {
      "byteLimit": 2048000,
      "rowLimit": 10000
     },
     "inputWidgets": {},
     "nuid": "9be8f550-4bfc-40f7-a6aa-26b7bde64b53",
     "showTitle": false,
     "tableResultSettingsMap": {},
     "title": ""
    }
   },
   "outputs": [],
   "source": [
    "#Email encryption library installation\n",
    "%pip install pycryptodome"
   ]
  },
  {
   "cell_type": "code",
   "execution_count": 0,
   "metadata": {
    "application/vnd.databricks.v1+cell": {
     "cellMetadata": {
      "byteLimit": 2048000,
      "rowLimit": 10000
     },
     "inputWidgets": {},
     "nuid": "8d3f79c2-de28-41f9-bb3f-51e220b2def3",
     "showTitle": false,
     "tableResultSettingsMap": {},
     "title": ""
    }
   },
   "outputs": [],
   "source": [
    "#Loading all the required libraries\n",
    "from pyspark.sql.functions import *\n",
    "\n",
    "#Email encryption functions\n",
    "from pyspark.sql.functions import udf\n",
    "from Crypto.Cipher import AES\n",
    "import base64\n",
    "import os\n",
    "\n",
    "#Library for Delta Table\n",
    "from pyspark.sql.utils import AnalysisException"
   ]
  },
  {
   "cell_type": "markdown",
   "metadata": {
    "application/vnd.databricks.v1+cell": {
     "cellMetadata": {
      "byteLimit": 2048000,
      "rowLimit": 10000
     },
     "inputWidgets": {},
     "nuid": "62c4a49d-b437-4170-9823-ed45a2e0123a",
     "showTitle": false,
     "tableResultSettingsMap": {},
     "title": ""
    }
   },
   "source": [
    "\n",
    "####Books Table"
   ]
  },
  {
   "cell_type": "code",
   "execution_count": 0,
   "metadata": {
    "application/vnd.databricks.v1+cell": {
     "cellMetadata": {
      "byteLimit": 2048000,
      "rowLimit": 10000
     },
     "inputWidgets": {},
     "nuid": "a39328c4-9935-495d-8d91-b8ea09e509a2",
     "showTitle": false,
     "tableResultSettingsMap": {},
     "title": ""
    }
   },
   "outputs": [],
   "source": [
    "#Reading the data\n",
    "\n",
    "books = spark.read.parquet(\"/mnt/bronze/books/\")\n",
    "\n",
    "display(books)"
   ]
  },
  {
   "cell_type": "code",
   "execution_count": 0,
   "metadata": {
    "application/vnd.databricks.v1+cell": {
     "cellMetadata": {
      "byteLimit": 2048000,
      "rowLimit": 10000
     },
     "inputWidgets": {},
     "nuid": "050839a6-d91b-4b14-819d-f1a1c1a32e1d",
     "showTitle": false,
     "tableResultSettingsMap": {},
     "title": ""
    }
   },
   "outputs": [],
   "source": [
    "#Data-type of each column\n",
    "\n",
    "books.printSchema()"
   ]
  },
  {
   "cell_type": "code",
   "execution_count": 0,
   "metadata": {
    "application/vnd.databricks.v1+cell": {
     "cellMetadata": {
      "byteLimit": 2048000,
      "rowLimit": 10000
     },
     "inputWidgets": {},
     "nuid": "1bf4015d-a8da-43c2-909e-005b50ccff91",
     "showTitle": false,
     "tableResultSettingsMap": {},
     "title": ""
    }
   },
   "outputs": [],
   "source": [
    "#How many records in books dataset\n",
    "\n",
    "books.count()"
   ]
  },
  {
   "cell_type": "code",
   "execution_count": 0,
   "metadata": {
    "application/vnd.databricks.v1+cell": {
     "cellMetadata": {
      "byteLimit": 2048000,
      "rowLimit": 10000
     },
     "inputWidgets": {},
     "nuid": "3ffcda35-8ade-4b53-8759-317bafad4d17",
     "showTitle": false,
     "tableResultSettingsMap": {},
     "title": ""
    }
   },
   "outputs": [],
   "source": [
    "#Convert book_price column to double\n",
    "\n",
    "books = books.withColumn('book_price', round(col('book_price')))"
   ]
  },
  {
   "cell_type": "code",
   "execution_count": 0,
   "metadata": {
    "application/vnd.databricks.v1+cell": {
     "cellMetadata": {
      "byteLimit": 2048000,
      "rowLimit": 10000
     },
     "inputWidgets": {},
     "nuid": "2055f9a2-556c-45cc-83fc-5899b301bfd4",
     "showTitle": false,
     "tableResultSettingsMap": {},
     "title": ""
    }
   },
   "outputs": [],
   "source": [
    "#Descriptive stats of book_price\n",
    "\n",
    "books.select('book_price').describe().show() "
   ]
  },
  {
   "cell_type": "code",
   "execution_count": 0,
   "metadata": {
    "application/vnd.databricks.v1+cell": {
     "cellMetadata": {
      "byteLimit": 2048000,
      "rowLimit": 10000
     },
     "inputWidgets": {},
     "nuid": "21c8cae0-da01-4241-b520-ee5d7280c23a",
     "showTitle": false,
     "tableResultSettingsMap": {},
     "title": ""
    }
   },
   "outputs": [],
   "source": [
    "#Renaming book_id to BK \n",
    "\n",
    "# books = books.withColumnRenamed('book_id','BK')\n",
    "# books.display(10)"
   ]
  },
  {
   "cell_type": "code",
   "execution_count": 0,
   "metadata": {
    "application/vnd.databricks.v1+cell": {
     "cellMetadata": {
      "byteLimit": 2048000,
      "rowLimit": 10000
     },
     "inputWidgets": {},
     "nuid": "383ef93f-5098-4996-b07b-81f415f97b69",
     "showTitle": false,
     "tableResultSettingsMap": {},
     "title": ""
    }
   },
   "outputs": [],
   "source": [
    "#Checking for Null values in each column\n",
    "\n",
    "books.select([sum(col(c).isNull().cast(\"int\")).alias(c) for c in books.columns]).display()"
   ]
  },
  {
   "cell_type": "code",
   "execution_count": 0,
   "metadata": {
    "application/vnd.databricks.v1+cell": {
     "cellMetadata": {
      "byteLimit": 2048000,
      "rowLimit": 10000
     },
     "inputWidgets": {},
     "nuid": "3abfb429-3b48-4d52-9a1d-4ccce8883d16",
     "showTitle": false,
     "tableResultSettingsMap": {},
     "title": ""
    }
   },
   "outputs": [],
   "source": [
    "#Checking how many duplicate rows we have\n",
    "\n",
    "books.count() - books.distinct().count()  ##total rows - unique rows"
   ]
  },
  {
   "cell_type": "code",
   "execution_count": 0,
   "metadata": {
    "application/vnd.databricks.v1+cell": {
     "cellMetadata": {
      "byteLimit": 2048000,
      "rowLimit": 10000
     },
     "inputWidgets": {},
     "nuid": "f8695ce3-1888-4d42-99d3-ab6ded965d71",
     "showTitle": false,
     "tableResultSettingsMap": {},
     "title": ""
    }
   },
   "outputs": [],
   "source": [
    "#Checking for duplicate rows for book_id unique column\n",
    "\n",
    "#Find duplicate book_id values\n",
    "duplicate_book_ids = books.groupBy(\"book_id\").count().filter(col(\"count\") > 1).select(\"book_id\")\n",
    "\n",
    "#Join back to original DataFrame to get all rows with duplicate book_id\n",
    "duplicate_rows = books.join(duplicate_book_ids, on=\"book_id\", how=\"inner\")\n",
    "\n",
    "#Show duplicate rows\n",
    "duplicate_rows.display()"
   ]
  },
  {
   "cell_type": "code",
   "execution_count": 0,
   "metadata": {
    "application/vnd.databricks.v1+cell": {
     "cellMetadata": {
      "byteLimit": 2048000,
      "rowLimit": 10000
     },
     "inputWidgets": {},
     "nuid": "b259452a-4da3-4fe6-94be-0240f5f43038",
     "showTitle": false,
     "tableResultSettingsMap": {},
     "title": ""
    }
   },
   "outputs": [],
   "source": [
    "#Verifying the duplicate records by considering one value \n",
    "\n",
    "books.filter(col(\"book_id\") == \"BK023\").display()"
   ]
  },
  {
   "cell_type": "code",
   "execution_count": 0,
   "metadata": {
    "application/vnd.databricks.v1+cell": {
     "cellMetadata": {
      "byteLimit": 2048000,
      "rowLimit": 10000
     },
     "inputWidgets": {},
     "nuid": "cdff3295-d221-4781-8fd6-2978b10604c5",
     "showTitle": false,
     "tableResultSettingsMap": {},
     "title": ""
    }
   },
   "outputs": [],
   "source": [
    "#Removing the duplicates records from book_id column\n",
    "books = books.dropDuplicates([\"book_id\"])\n",
    "\n",
    "#Verifying whether the duplicate rows removed or not\n",
    "books.filter(col(\"book_id\") == \"BK023\").display()"
   ]
  },
  {
   "cell_type": "code",
   "execution_count": 0,
   "metadata": {
    "application/vnd.databricks.v1+cell": {
     "cellMetadata": {
      "byteLimit": 2048000,
      "rowLimit": 10000
     },
     "inputWidgets": {},
     "nuid": "b9e80c1a-f519-4fce-9da5-ca9be8c7f935",
     "showTitle": false,
     "tableResultSettingsMap": {},
     "title": ""
    }
   },
   "outputs": [],
   "source": [
    "books.count()\n",
    "\n",
    "#32 duplicate rows have been removed"
   ]
  },
  {
   "cell_type": "code",
   "execution_count": 0,
   "metadata": {
    "application/vnd.databricks.v1+cell": {
     "cellMetadata": {
      "byteLimit": 2048000,
      "rowLimit": 10000
     },
     "inputWidgets": {},
     "nuid": "dda0cc47-d0a0-4946-a6ce-2f936368ee64",
     "showTitle": false,
     "tableResultSettingsMap": {},
     "title": ""
    }
   },
   "outputs": [],
   "source": [
    "#Converting author column values to lowercase\n",
    "\n",
    "books = books.withColumn('author', lower(col('author')))\n",
    "books = books.withColumn('publisher', lower(col('publisher')))\n",
    "\n",
    "books.display() "
   ]
  },
  {
   "cell_type": "markdown",
   "metadata": {
    "application/vnd.databricks.v1+cell": {
     "cellMetadata": {
      "byteLimit": 2048000,
      "rowLimit": 10000
     },
     "inputWidgets": {},
     "nuid": "ef7db743-9dd1-46af-99a7-3be471f981c5",
     "showTitle": false,
     "tableResultSettingsMap": {},
     "title": ""
    }
   },
   "source": [
    "\n",
    "####Saving books dataset into Delta format under Silver "
   ]
  },
  {
   "cell_type": "code",
   "execution_count": 0,
   "metadata": {
    "application/vnd.databricks.v1+cell": {
     "cellMetadata": {
      "byteLimit": 2048000,
      "rowLimit": 10000
     },
     "inputWidgets": {},
     "nuid": "6c8eec39-20cd-4b5f-ae20-6e35ad285b23",
     "showTitle": false,
     "tableResultSettingsMap": {},
     "title": ""
    }
   },
   "outputs": [],
   "source": [
    "#Saving the data in delta format under silver location\n",
    "\n",
    "books.write.format(\"delta\").mode(\"overwrite\").save(\"abfss://silver@lmsstorageaccount2025.dfs.core.windows.net/books\")"
   ]
  },
  {
   "cell_type": "code",
   "execution_count": 0,
   "metadata": {
    "application/vnd.databricks.v1+cell": {
     "cellMetadata": {
      "byteLimit": 2048000,
      "implicitDf": true,
      "rowLimit": 10000
     },
     "inputWidgets": {},
     "nuid": "481954cc-deb2-4caf-a677-41bf080e141a",
     "showTitle": false,
     "tableResultSettingsMap": {},
     "title": ""
    }
   },
   "outputs": [],
   "source": [
    "%sql\n",
    "--Creating external table for the silver location in Unity Catalog\n",
    "DROP TABLE IF EXISTS `lms-catalog`.silver.books;\n",
    "\n",
    "CREATE TABLE `lms-catalog`.silver.books\n",
    "USING DELTA\n",
    "LOCATION 'abfss://silver@lmsstorageaccount2025.dfs.core.windows.net/books';"
   ]
  },
  {
   "cell_type": "markdown",
   "metadata": {
    "application/vnd.databricks.v1+cell": {
     "cellMetadata": {
      "byteLimit": 2048000,
      "rowLimit": 10000
     },
     "inputWidgets": {},
     "nuid": "9f834b4a-002c-49ba-9e28-f8b71a222a1a",
     "showTitle": false,
     "tableResultSettingsMap": {},
     "title": ""
    }
   },
   "source": [
    "\n",
    "####Books Copies Table"
   ]
  },
  {
   "cell_type": "code",
   "execution_count": 0,
   "metadata": {
    "application/vnd.databricks.v1+cell": {
     "cellMetadata": {
      "byteLimit": 2048000,
      "rowLimit": 10000
     },
     "inputWidgets": {},
     "nuid": "b305d6c5-4363-4cbf-a783-67cd697a4c72",
     "showTitle": false,
     "tableResultSettingsMap": {},
     "title": ""
    }
   },
   "outputs": [],
   "source": [
    "display(dbutils.fs.ls('/mnt/bronze/'))"
   ]
  },
  {
   "cell_type": "code",
   "execution_count": 0,
   "metadata": {
    "application/vnd.databricks.v1+cell": {
     "cellMetadata": {
      "byteLimit": 2048000,
      "rowLimit": 10000
     },
     "inputWidgets": {},
     "nuid": "02c850da-ff37-4761-b665-a9ea7a40034e",
     "showTitle": false,
     "tableResultSettingsMap": {},
     "title": ""
    }
   },
   "outputs": [],
   "source": [
    "#Reading the book copies dataset\n",
    "\n",
    "books_copies = spark.read.parquet('/mnt/bronze/book_copies', header=True, inferSchema=True)\n",
    "\n",
    "books_copies.display()"
   ]
  },
  {
   "cell_type": "code",
   "execution_count": 0,
   "metadata": {
    "application/vnd.databricks.v1+cell": {
     "cellMetadata": {
      "byteLimit": 2048000,
      "rowLimit": 10000
     },
     "inputWidgets": {},
     "nuid": "685ff618-4e81-460b-ac17-223e9e739786",
     "showTitle": false,
     "tableResultSettingsMap": {},
     "title": ""
    }
   },
   "outputs": [],
   "source": [
    "#Data-type of each column\n",
    "\n",
    "books_copies.printSchema()"
   ]
  },
  {
   "cell_type": "code",
   "execution_count": 0,
   "metadata": {
    "application/vnd.databricks.v1+cell": {
     "cellMetadata": {
      "byteLimit": 2048000,
      "rowLimit": 10000
     },
     "inputWidgets": {},
     "nuid": "8957bcb3-b5a9-4a9a-b58d-67c962637597",
     "showTitle": false,
     "tableResultSettingsMap": {},
     "title": ""
    }
   },
   "outputs": [],
   "source": [
    "#Total records\n",
    "\n",
    "books_copies.count()"
   ]
  },
  {
   "cell_type": "code",
   "execution_count": 0,
   "metadata": {
    "application/vnd.databricks.v1+cell": {
     "cellMetadata": {
      "byteLimit": 2048000,
      "rowLimit": 10000
     },
     "inputWidgets": {},
     "nuid": "08bbe9c3-a23a-45bf-b4ae-34e3f2a1dcce",
     "showTitle": false,
     "tableResultSettingsMap": {},
     "title": ""
    }
   },
   "outputs": [],
   "source": [
    "#Checking for missing values\n",
    "\n",
    "books_copies.select([sum(col(c).isNull().cast(\"int\")).alias(c) for c in books_copies.columns]).show()"
   ]
  },
  {
   "cell_type": "code",
   "execution_count": 0,
   "metadata": {
    "application/vnd.databricks.v1+cell": {
     "cellMetadata": {
      "byteLimit": 2048000,
      "rowLimit": 10000
     },
     "inputWidgets": {},
     "nuid": "a2d5f4a2-d513-431d-8076-06eee72d3379",
     "showTitle": false,
     "tableResultSettingsMap": {},
     "title": ""
    }
   },
   "outputs": [],
   "source": [
    "#Total duplicate rows we have in our dataset \n",
    "\n",
    "books_copies.count() - books_copies.distinct().count()  #total rows - unique rows"
   ]
  },
  {
   "cell_type": "code",
   "execution_count": 0,
   "metadata": {
    "application/vnd.databricks.v1+cell": {
     "cellMetadata": {
      "byteLimit": 2048000,
      "rowLimit": 10000
     },
     "inputWidgets": {},
     "nuid": "4417abfa-fbe1-4be0-9c30-cded228d6713",
     "showTitle": false,
     "tableResultSettingsMap": {},
     "title": ""
    }
   },
   "outputs": [],
   "source": [
    "#Checking for duplicate rows for copy_id unique column\n",
    "\n",
    "#Find duplicate copy_id values\n",
    "duplicate_copy_ids = books_copies.groupBy(\"copy_id\").count().filter(col(\"count\") > 1).select(\"copy_id\")\n",
    "\n",
    "#Join back to original DataFrame to get all rows with duplicate book_id\n",
    "duplicate_rows_copy = books_copies.join(duplicate_copy_ids, on=\"copy_id\", how=\"inner\")\n",
    "\n",
    "#Show duplicate rows\n",
    "duplicate_rows_copy.display()"
   ]
  },
  {
   "cell_type": "code",
   "execution_count": 0,
   "metadata": {
    "application/vnd.databricks.v1+cell": {
     "cellMetadata": {
      "byteLimit": 2048000,
      "rowLimit": 10000
     },
     "inputWidgets": {},
     "nuid": "79f366df-697d-4375-8f8c-f76a1b840747",
     "showTitle": false,
     "tableResultSettingsMap": {},
     "title": ""
    }
   },
   "outputs": [],
   "source": [
    "#Verifying the duplicate rows in copy_id column \n",
    "\n",
    "duplicate_rows_copy.filter(col(\"copy_id\") == \"CP00281\").display()"
   ]
  },
  {
   "cell_type": "code",
   "execution_count": 0,
   "metadata": {
    "application/vnd.databricks.v1+cell": {
     "cellMetadata": {
      "byteLimit": 2048000,
      "rowLimit": 10000
     },
     "inputWidgets": {},
     "nuid": "322cb63a-de7a-49c3-a7e7-99532df37124",
     "showTitle": false,
     "tableResultSettingsMap": {},
     "title": ""
    }
   },
   "outputs": [],
   "source": [
    "#Removing the duplicates observation from copy_id column\n",
    "books_copies = books_copies.dropDuplicates([\"copy_id\"])\n",
    "\n",
    "#Verifying whether the duplicate rows removed or not\n",
    "books_copies.filter(col(\"copy_id\") == \"CP00281\").display()"
   ]
  },
  {
   "cell_type": "code",
   "execution_count": 0,
   "metadata": {
    "application/vnd.databricks.v1+cell": {
     "cellMetadata": {
      "byteLimit": 2048000,
      "rowLimit": 10000
     },
     "inputWidgets": {},
     "nuid": "01ddecee-d7cc-4077-881e-33c87235c8b5",
     "showTitle": false,
     "tableResultSettingsMap": {},
     "title": ""
    }
   },
   "outputs": [],
   "source": [
    "books_copies.count() #14 duplicates rows removed from copy_id column"
   ]
  },
  {
   "cell_type": "code",
   "execution_count": 0,
   "metadata": {
    "application/vnd.databricks.v1+cell": {
     "cellMetadata": {
      "byteLimit": 2048000,
      "rowLimit": 10000
     },
     "inputWidgets": {},
     "nuid": "2c39786f-022e-477e-a49f-ac597938e7eb",
     "showTitle": false,
     "tableResultSettingsMap": {},
     "title": ""
    }
   },
   "outputs": [],
   "source": [
    "books_copies.show(5)"
   ]
  },
  {
   "cell_type": "code",
   "execution_count": 0,
   "metadata": {
    "application/vnd.databricks.v1+cell": {
     "cellMetadata": {
      "byteLimit": 2048000,
      "implicitDf": true,
      "rowLimit": 10000
     },
     "inputWidgets": {},
     "nuid": "ef2b77f7-5af2-4785-a4e5-2b799b9cb2d3",
     "showTitle": false,
     "tableResultSettingsMap": {},
     "title": ""
    }
   },
   "outputs": [],
   "source": [
    "#Converting the status column values into lower case\n",
    "\n",
    "books_copies = books_copies.withColumn(\"status\", lower(col(\"status\")))\n",
    "books_copies.show(5)"
   ]
  },
  {
   "cell_type": "markdown",
   "metadata": {
    "application/vnd.databricks.v1+cell": {
     "cellMetadata": {
      "byteLimit": 2048000,
      "rowLimit": 10000
     },
     "inputWidgets": {},
     "nuid": "fedabfcc-d929-406c-a73e-326d530a9033",
     "showTitle": false,
     "tableResultSettingsMap": {},
     "title": ""
    }
   },
   "source": [
    "\n",
    "####Saving books copies dataset into Delta format under Silver "
   ]
  },
  {
   "cell_type": "code",
   "execution_count": 0,
   "metadata": {
    "application/vnd.databricks.v1+cell": {
     "cellMetadata": {
      "byteLimit": 2048000,
      "rowLimit": 10000
     },
     "inputWidgets": {},
     "nuid": "b87502e0-a34c-494f-ac9b-3e50d35326b4",
     "showTitle": false,
     "tableResultSettingsMap": {},
     "title": ""
    }
   },
   "outputs": [],
   "source": [
    "#Saving the data in delta format under silver location\n",
    "\n",
    "books_copies.write.format(\"delta\").mode(\"overwrite\").save(\"abfss://silver@lmsstorageaccount2025.dfs.core.windows.net/books_copies\")"
   ]
  },
  {
   "cell_type": "code",
   "execution_count": 0,
   "metadata": {
    "application/vnd.databricks.v1+cell": {
     "cellMetadata": {
      "byteLimit": 2048000,
      "implicitDf": true,
      "rowLimit": 10000
     },
     "inputWidgets": {},
     "nuid": "7002bcf9-8690-4c7a-9619-9c5b483e07f1",
     "showTitle": false,
     "tableResultSettingsMap": {},
     "title": ""
    }
   },
   "outputs": [],
   "source": [
    "%sql\n",
    "--Creating external table for the silver location in Unity Catalog\n",
    "DROP TABLE IF EXISTS `lms-catalog`.silver.books_copies;\n",
    "\n",
    "CREATE TABLE `lms-catalog`.silver.books_copies\n",
    "USING DELTA\n",
    "LOCATION 'abfss://silver@lmsstorageaccount2025.dfs.core.windows.net/books_copies';"
   ]
  },
  {
   "cell_type": "markdown",
   "metadata": {
    "application/vnd.databricks.v1+cell": {
     "cellMetadata": {
      "byteLimit": 2048000,
      "rowLimit": 10000
     },
     "inputWidgets": {},
     "nuid": "32ff04f8-5a36-42b1-8354-6565739b6b74",
     "showTitle": false,
     "tableResultSettingsMap": {},
     "title": ""
    }
   },
   "source": [
    "\n",
    "####Students Table"
   ]
  },
  {
   "cell_type": "code",
   "execution_count": 0,
   "metadata": {
    "application/vnd.databricks.v1+cell": {
     "cellMetadata": {
      "byteLimit": 2048000,
      "rowLimit": 10000
     },
     "inputWidgets": {},
     "nuid": "6c4681d1-509c-4b7b-a01f-1d1fd59b6f2d",
     "showTitle": false,
     "tableResultSettingsMap": {},
     "title": ""
    }
   },
   "outputs": [],
   "source": [
    "display(dbutils.fs.ls('/mnt/bronze/'))"
   ]
  },
  {
   "cell_type": "code",
   "execution_count": 0,
   "metadata": {
    "application/vnd.databricks.v1+cell": {
     "cellMetadata": {
      "byteLimit": 2048000,
      "rowLimit": 10000
     },
     "inputWidgets": {},
     "nuid": "d3df8b95-950c-41af-8512-7dc7280c5168",
     "showTitle": false,
     "tableResultSettingsMap": {},
     "title": ""
    }
   },
   "outputs": [],
   "source": [
    "#Reading the students dataset\n",
    "\n",
    "students = spark.read.parquet('/mnt/bronze/students')\n",
    "\n",
    "students.display()"
   ]
  },
  {
   "cell_type": "code",
   "execution_count": 0,
   "metadata": {
    "application/vnd.databricks.v1+cell": {
     "cellMetadata": {
      "byteLimit": 2048000,
      "rowLimit": 10000
     },
     "inputWidgets": {},
     "nuid": "ee1be122-c597-4abf-91dd-026c91a2dde2",
     "showTitle": false,
     "tableResultSettingsMap": {},
     "title": ""
    }
   },
   "outputs": [],
   "source": [
    "#Data-types of students columns\n",
    "\n",
    "students.printSchema()"
   ]
  },
  {
   "cell_type": "code",
   "execution_count": 0,
   "metadata": {
    "application/vnd.databricks.v1+cell": {
     "cellMetadata": {
      "byteLimit": 2048000,
      "rowLimit": 10000
     },
     "inputWidgets": {},
     "nuid": "a9ec03f7-1f7f-4a3e-9464-ee78c4684473",
     "showTitle": false,
     "tableResultSettingsMap": {},
     "title": ""
    }
   },
   "outputs": [],
   "source": [
    "#Convert student_year column to int\n",
    "\n",
    "students = students.withColumn(\"student_year\", col(\"student_year\").cast(\"int\"))"
   ]
  },
  {
   "cell_type": "code",
   "execution_count": 0,
   "metadata": {
    "application/vnd.databricks.v1+cell": {
     "cellMetadata": {
      "byteLimit": 2048000,
      "rowLimit": 10000
     },
     "inputWidgets": {},
     "nuid": "a4ac27cf-d301-442f-92cd-4a7dd18963d6",
     "showTitle": false,
     "tableResultSettingsMap": {},
     "title": ""
    }
   },
   "outputs": [],
   "source": [
    "#Total rows\n",
    "\n",
    "students.count()"
   ]
  },
  {
   "cell_type": "code",
   "execution_count": 0,
   "metadata": {
    "application/vnd.databricks.v1+cell": {
     "cellMetadata": {
      "byteLimit": 2048000,
      "rowLimit": 10000
     },
     "inputWidgets": {},
     "nuid": "4dbb9c30-13cb-4e5b-b80e-dacf82fb9250",
     "showTitle": false,
     "tableResultSettingsMap": {},
     "title": ""
    }
   },
   "outputs": [],
   "source": [
    "#Checking for missing values in students table\n",
    "\n",
    "students.select([sum(col(c).isNull().cast(\"int\")).alias(c) for c in students.columns]).show()"
   ]
  },
  {
   "cell_type": "code",
   "execution_count": 0,
   "metadata": {
    "application/vnd.databricks.v1+cell": {
     "cellMetadata": {
      "byteLimit": 2048000,
      "rowLimit": 10000
     },
     "inputWidgets": {},
     "nuid": "8a88ade1-bec6-4dab-98b5-4fd3adea7a5e",
     "showTitle": false,
     "tableResultSettingsMap": {},
     "title": ""
    }
   },
   "outputs": [],
   "source": [
    "#Checking how many duplicate rows we have\n",
    "\n",
    "students.count() - students.distinct().count()  #total rows - unique rows"
   ]
  },
  {
   "cell_type": "code",
   "execution_count": 0,
   "metadata": {
    "application/vnd.databricks.v1+cell": {
     "cellMetadata": {
      "byteLimit": 2048000,
      "rowLimit": 10000
     },
     "inputWidgets": {},
     "nuid": "90ef7420-5a27-49ab-a48a-25fa6440aa56",
     "showTitle": false,
     "tableResultSettingsMap": {},
     "title": ""
    }
   },
   "outputs": [],
   "source": [
    "#Checking for duplicate rows for students_id unique column\n",
    "\n",
    "#Find duplicate student_id values\n",
    "duplicate_students_ids = students.groupBy(\"student_id\").count().filter(col(\"count\") > 1).select(\"student_id\")\n",
    "\n",
    "#Join back to original DataFrame to get all rows with duplicate student_id\n",
    "duplicate_rows_students = students.join(duplicate_students_ids, on=\"student_id\", how=\"inner\")\n",
    "\n",
    "#Show duplicate rows\n",
    "display(duplicate_rows_students)"
   ]
  },
  {
   "cell_type": "code",
   "execution_count": 0,
   "metadata": {
    "application/vnd.databricks.v1+cell": {
     "cellMetadata": {
      "byteLimit": 2048000,
      "rowLimit": 10000
     },
     "inputWidgets": {},
     "nuid": "7a8cab1e-3102-4a16-9470-f443b7060133",
     "showTitle": false,
     "tableResultSettingsMap": {},
     "title": ""
    }
   },
   "outputs": [],
   "source": [
    "#Verifying the duplicate rows in students_id column \n",
    "\n",
    "duplicate_rows_students.filter(col(\"student_id\") == \"S20EC012\").display()"
   ]
  },
  {
   "cell_type": "code",
   "execution_count": 0,
   "metadata": {
    "application/vnd.databricks.v1+cell": {
     "cellMetadata": {
      "byteLimit": 2048000,
      "rowLimit": 10000
     },
     "inputWidgets": {},
     "nuid": "8148f462-9906-451a-a79b-9832253ff6b5",
     "showTitle": false,
     "tableResultSettingsMap": {},
     "title": ""
    }
   },
   "outputs": [],
   "source": [
    "#Removing the duplicates observation from students_id column\n",
    "students = students.dropDuplicates([\"student_id\"])\n",
    "\n",
    "#Verifying whether the duplicate rows removed or not\n",
    "students.filter(col(\"student_id\") == \"S20EC012\").display()"
   ]
  },
  {
   "cell_type": "code",
   "execution_count": 0,
   "metadata": {
    "application/vnd.databricks.v1+cell": {
     "cellMetadata": {
      "byteLimit": 2048000,
      "rowLimit": 10000
     },
     "inputWidgets": {},
     "nuid": "e26ceb01-13cc-4dbc-86c5-22fc7e527222",
     "showTitle": false,
     "tableResultSettingsMap": {},
     "title": ""
    }
   },
   "outputs": [],
   "source": [
    "students.count() #14 duplicates rows removed from student_id column"
   ]
  },
  {
   "cell_type": "code",
   "execution_count": 0,
   "metadata": {
    "application/vnd.databricks.v1+cell": {
     "cellMetadata": {
      "byteLimit": 2048000,
      "rowLimit": 10000
     },
     "inputWidgets": {},
     "nuid": "99505a93-b71a-4a39-b715-8544c73eef48",
     "showTitle": false,
     "tableResultSettingsMap": {},
     "title": ""
    }
   },
   "outputs": [],
   "source": [
    "#Converting first_name and last_name columns values to lower\n",
    "\n",
    "students = students.withColumn('first_name', lower(col('first_name')))\n",
    "students = students.withColumn('last_name', lower(col('last_name')))\n",
    "\n",
    "students.select('first_name','last_name').show(5) "
   ]
  },
  {
   "cell_type": "code",
   "execution_count": 0,
   "metadata": {
    "application/vnd.databricks.v1+cell": {
     "cellMetadata": {
      "byteLimit": 2048000,
      "rowLimit": 10000
     },
     "inputWidgets": {},
     "nuid": "d75e94d5-e3db-473f-a636-fd6dbe841a62",
     "showTitle": false,
     "tableResultSettingsMap": {},
     "title": ""
    }
   },
   "outputs": [],
   "source": [
    "#unique (distinct) all values of section column\n",
    "\n",
    "students.select('section').distinct().display()"
   ]
  },
  {
   "cell_type": "code",
   "execution_count": 0,
   "metadata": {
    "application/vnd.databricks.v1+cell": {
     "cellMetadata": {
      "byteLimit": 2048000,
      "rowLimit": 10000
     },
     "inputWidgets": {},
     "nuid": "bf05aa17-cede-48db-afba-86f0b811b1ee",
     "showTitle": false,
     "tableResultSettingsMap": {},
     "title": ""
    }
   },
   "outputs": [],
   "source": [
    "#Update section column values\n",
    "students = students.withColumn(\n",
    "                \"section\",when(col(\"section\") == \"A#\", \"A\")\\\n",
    "               .when(col(\"section\") == \"B#\", \"B\")\\\n",
    "               .otherwise(col(\"section\"))\n",
    ")\n",
    "\n",
    "#Show updated DataFrame\n",
    "students.select('section').distinct().display()\n",
    "\n",
    "#Now only 2 values are there, A and B. No more values like A# and B# etc."
   ]
  },
  {
   "cell_type": "markdown",
   "metadata": {
    "application/vnd.databricks.v1+cell": {
     "cellMetadata": {
      "byteLimit": 2048000,
      "rowLimit": 10000
     },
     "inputWidgets": {},
     "nuid": "9d994027-fb11-43a3-936b-44ad779b8f13",
     "showTitle": false,
     "tableResultSettingsMap": {},
     "title": ""
    }
   },
   "source": [
    "\n",
    "#####Encrypting the email column"
   ]
  },
  {
   "cell_type": "code",
   "execution_count": 0,
   "metadata": {
    "application/vnd.databricks.v1+cell": {
     "cellMetadata": {
      "byteLimit": 2048000,
      "rowLimit": 10000
     },
     "inputWidgets": {},
     "nuid": "d514102f-4bac-4423-9995-04aae3e78148",
     "showTitle": false,
     "tableResultSettingsMap": {},
     "title": ""
    }
   },
   "outputs": [],
   "source": [
    "#Creating AES Encryption Function\n",
    "def encrypt_email(email: str, key: str) -> str:\n",
    "    if email is None:\n",
    "        return None\n",
    "    key = key.ljust(32)[:32].encode(\"utf-8\")  #Ensure key is 32 bytes\n",
    "    cipher = AES.new(key, AES.MODE_EAX)\n",
    "    ciphertext, tag = cipher.encrypt_and_digest(email.encode(\"utf-8\"))\n",
    "    return base64.b64encode(cipher.nonce + tag + ciphertext).decode(\"utf-8\")\n",
    "\n",
    "#Define the encryption key securely (Using Databricks Secrets instead of hardcoding)\n",
    "encryption_key = dbutils.secrets.get(scope=\"lms-scope\", key=\"encryptionkey\")\n",
    "\n",
    "#Register UDF\n",
    "encrypt_udf = udf(lambda email: encrypt_email(email, encryption_key))\n",
    "\n",
    "#Apply Encryption to the DataFrame\n",
    "students = students.withColumn(\"email_encrypted\", encrypt_udf(students.email))\n",
    "\n",
    "#Drop original email column for security\n",
    "students = students.drop(\"email\")\n",
    "\n",
    "#Show Encrypted Emails\n",
    "students.show(5)"
   ]
  },
  {
   "cell_type": "code",
   "execution_count": 0,
   "metadata": {
    "application/vnd.databricks.v1+cell": {
     "cellMetadata": {
      "byteLimit": 2048000,
      "rowLimit": 10000
     },
     "inputWidgets": {},
     "nuid": "dddd2ec3-3de1-40fd-beaa-96eb25929a2f",
     "showTitle": false,
     "tableResultSettingsMap": {},
     "title": ""
    }
   },
   "outputs": [],
   "source": [
    "#Defining the Decryption Function\n",
    "\n",
    "def decrypt_email(enc_email: str, key: str) -> str:\n",
    "    if enc_email is None:\n",
    "        return None\n",
    "    key = key.ljust(32)[:32].encode(\"utf-8\")\n",
    "    enc_bytes = base64.b64decode(enc_email)\n",
    "    nonce, tag, ciphertext = enc_bytes[:16], enc_bytes[16:32], enc_bytes[32:]\n",
    "    cipher = AES.new(key, AES.MODE_EAX, nonce=nonce)\n",
    "    return cipher.decrypt_and_verify(ciphertext, tag).decode(\"utf-8\")\n",
    "\n",
    "#Register UDF\n",
    "decrypt_udf = udf(lambda enc_email: decrypt_email(enc_email, encryption_key)) #decrypting using the encryption_key we saved in Key Vault.\n",
    "\n",
    "#Apply Decryption to the DataFrame\n",
    "students = students.withColumn(\"email_decrypted\", decrypt_udf(students.email_encrypted))\n",
    "\n",
    "#Show Decrypted Emails\n",
    "students.select(\"email_encrypted\", \"email_decrypted\").show(5)"
   ]
  },
  {
   "cell_type": "code",
   "execution_count": 0,
   "metadata": {
    "application/vnd.databricks.v1+cell": {
     "cellMetadata": {
      "byteLimit": 2048000,
      "rowLimit": 10000
     },
     "inputWidgets": {},
     "nuid": "0821a7f1-9073-4789-ac9d-fa466bc3797d",
     "showTitle": false,
     "tableResultSettingsMap": {},
     "title": ""
    }
   },
   "outputs": [],
   "source": [
    "#Dropping the decrypted email column\n",
    "\n",
    "students = students.drop(\"email_decrypted\")\n",
    "students.show(5)"
   ]
  },
  {
   "cell_type": "markdown",
   "metadata": {
    "application/vnd.databricks.v1+cell": {
     "cellMetadata": {
      "byteLimit": 2048000,
      "rowLimit": 10000
     },
     "inputWidgets": {},
     "nuid": "46d42d34-84ec-4524-a791-278852cf7017",
     "showTitle": false,
     "tableResultSettingsMap": {},
     "title": ""
    }
   },
   "source": [
    "\n",
    "####Saving students dataset into Delta format under Silver "
   ]
  },
  {
   "cell_type": "code",
   "execution_count": 0,
   "metadata": {
    "application/vnd.databricks.v1+cell": {
     "cellMetadata": {
      "byteLimit": 2048000,
      "rowLimit": 10000
     },
     "inputWidgets": {},
     "nuid": "9383bc6f-0469-40ed-843d-fffda8aa3a8e",
     "showTitle": false,
     "tableResultSettingsMap": {},
     "title": ""
    }
   },
   "outputs": [],
   "source": [
    "#Saving the data in delta format under silver location\n",
    "\n",
    "students.write.format(\"delta\").mode(\"overwrite\").save(\"abfss://silver@lmsstorageaccount2025.dfs.core.windows.net/students\")"
   ]
  },
  {
   "cell_type": "code",
   "execution_count": 0,
   "metadata": {
    "application/vnd.databricks.v1+cell": {
     "cellMetadata": {
      "byteLimit": 2048000,
      "implicitDf": true,
      "rowLimit": 10000
     },
     "inputWidgets": {},
     "nuid": "f3eb69ac-b420-4add-80e2-eb09de36dd5d",
     "showTitle": false,
     "tableResultSettingsMap": {},
     "title": ""
    }
   },
   "outputs": [],
   "source": [
    "%sql\n",
    "--Creating external table for the silver location in Unity Catalog\n",
    "DROP TABLE IF EXISTS `lms-catalog`.silver.students;\n",
    "\n",
    "CREATE TABLE `lms-catalog`.silver.students\n",
    "USING DELTA\n",
    "LOCATION 'abfss://silver@lmsstorageaccount2025.dfs.core.windows.net/students';"
   ]
  },
  {
   "cell_type": "markdown",
   "metadata": {
    "application/vnd.databricks.v1+cell": {
     "cellMetadata": {
      "byteLimit": 2048000,
      "rowLimit": 10000
     },
     "inputWidgets": {},
     "nuid": "bed7e89d-6703-4fa1-a9d2-767012e5b9a8",
     "showTitle": false,
     "tableResultSettingsMap": {},
     "title": ""
    }
   },
   "source": [
    "#Transactions Table"
   ]
  },
  {
   "cell_type": "code",
   "execution_count": 0,
   "metadata": {
    "application/vnd.databricks.v1+cell": {
     "cellMetadata": {
      "byteLimit": 2048000,
      "rowLimit": 10000
     },
     "inputWidgets": {},
     "nuid": "f76ca856-7b3d-411d-bba7-6bc4ec4565aa",
     "showTitle": false,
     "tableResultSettingsMap": {},
     "title": ""
    }
   },
   "outputs": [],
   "source": [
    "display(dbutils.fs.ls('/mnt/bronze/transactions'))"
   ]
  },
  {
   "cell_type": "code",
   "execution_count": 0,
   "metadata": {
    "application/vnd.databricks.v1+cell": {
     "cellMetadata": {
      "byteLimit": 2048000,
      "rowLimit": 10000
     },
     "inputWidgets": {},
     "nuid": "d3db3cca-f093-486b-b140-4800dcebcf3c",
     "showTitle": false,
     "tableResultSettingsMap": {},
     "title": ""
    }
   },
   "outputs": [],
   "source": [
    "parquet_files = dbutils.fs.ls('/mnt/bronze/transactions/')\n",
    "\n",
    "#Filter for parquet files and sort by name to get the latest file\n",
    "latest_file = sorted([f.path for f in parquet_files if f.path.endswith('.parquet')])[-1]\n"
   ]
  },
  {
   "cell_type": "code",
   "execution_count": 0,
   "metadata": {
    "application/vnd.databricks.v1+cell": {
     "cellMetadata": {
      "byteLimit": 2048000,
      "rowLimit": 10000
     },
     "inputWidgets": {},
     "nuid": "4e833c04-6b54-4c60-8f30-5a43b23d1e81",
     "showTitle": false,
     "tableResultSettingsMap": {},
     "title": ""
    }
   },
   "outputs": [],
   "source": [
    "#Read the latest parquet file\n",
    "transactions = spark.read.parquet(latest_file)\n",
    "transactions.display()"
   ]
  },
  {
   "cell_type": "code",
   "execution_count": 0,
   "metadata": {
    "application/vnd.databricks.v1+cell": {
     "cellMetadata": {
      "byteLimit": 2048000,
      "rowLimit": 10000
     },
     "inputWidgets": {},
     "nuid": "694c80f1-4f7b-43a9-a85e-a241382b01fb",
     "showTitle": false,
     "tableResultSettingsMap": {},
     "title": ""
    }
   },
   "outputs": [],
   "source": [
    "#Data-type of each column\n",
    "\n",
    "transactions.printSchema()"
   ]
  },
  {
   "cell_type": "code",
   "execution_count": 0,
   "metadata": {
    "application/vnd.databricks.v1+cell": {
     "cellMetadata": {
      "byteLimit": 2048000,
      "rowLimit": 10000
     },
     "inputWidgets": {},
     "nuid": "fb0ab12b-94cc-4000-98a3-a696245735ee",
     "showTitle": false,
     "tableResultSettingsMap": {},
     "title": ""
    }
   },
   "outputs": [],
   "source": [
    "#Converting columns data-type\n",
    "\n",
    "transactions = transactions.withColumn(\"year\", col(\"year\").cast(\"int\")) \\\n",
    "                   .withColumn(\"quarter\", col(\"quarter\").cast(\"int\")) \\\n",
    "                   .withColumn(\"fine_amount\", col(\"fine_amount\").cast(\"double\"))\n",
    "\n",
    "#Converting date columns to date data-type\n",
    "transactions = transactions.withColumn(\"issue_date\", to_date(col(\"issue_date\"), \"dd-MM-yyyy\")) \\\n",
    "                   .withColumn(\"return_date\", to_date(col(\"return_date\"), \"dd-MM-yyyy\")) \\\n",
    "                   .withColumn(\"due_date\", to_date(col(\"due_date\"), \"dd-MM-yyyy\"))\n",
    "        \n",
    "transactions.printSchema()"
   ]
  },
  {
   "cell_type": "code",
   "execution_count": 0,
   "metadata": {
    "application/vnd.databricks.v1+cell": {
     "cellMetadata": {
      "byteLimit": 2048000,
      "rowLimit": 10000
     },
     "inputWidgets": {},
     "nuid": "afa62053-3fcc-4b3a-89ff-542a3b1f2b6d",
     "showTitle": false,
     "tableResultSettingsMap": {},
     "title": ""
    }
   },
   "outputs": [],
   "source": [
    "#Total rows \n",
    "\n",
    "transactions.count()"
   ]
  },
  {
   "cell_type": "code",
   "execution_count": 0,
   "metadata": {
    "application/vnd.databricks.v1+cell": {
     "cellMetadata": {
      "byteLimit": 2048000,
      "rowLimit": 10000
     },
     "inputWidgets": {},
     "nuid": "cf057e96-d1bc-4e34-86bf-aebec1c9a38b",
     "showTitle": false,
     "tableResultSettingsMap": {},
     "title": ""
    }
   },
   "outputs": [],
   "source": [
    "\n",
    "#Descriptive stats on fine_amount column\n",
    "\n",
    "transactions.describe(\"fine_amount\").show()"
   ]
  },
  {
   "cell_type": "code",
   "execution_count": 0,
   "metadata": {
    "application/vnd.databricks.v1+cell": {
     "cellMetadata": {
      "byteLimit": 2048000,
      "rowLimit": 10000
     },
     "inputWidgets": {},
     "nuid": "9768f3e2-3cc0-4341-8070-f76be2550f1c",
     "showTitle": false,
     "tableResultSettingsMap": {},
     "title": ""
    }
   },
   "outputs": [],
   "source": [
    "#Checking for missing values\n",
    "\n",
    "transactions.select([sum(col(c).isNull().cast(\"int\")).alias(c) for c in transactions.columns]).display()\n",
    "\n",
    "#return_date reflects how many students did not returned the book taken from library,\n",
    "#payment_date reflects how many students did not paid the fine amount"
   ]
  },
  {
   "cell_type": "code",
   "execution_count": 0,
   "metadata": {
    "application/vnd.databricks.v1+cell": {
     "cellMetadata": {
      "byteLimit": 2048000,
      "rowLimit": 10000
     },
     "inputWidgets": {},
     "nuid": "9a155c16-529f-4d48-a100-3c1e826ac64c",
     "showTitle": false,
     "tableResultSettingsMap": {},
     "title": ""
    }
   },
   "outputs": [],
   "source": [
    "#Checking how many duplicate rows we have\n",
    "\n",
    "transactions.count() - transactions.distinct().count()  #total rows - unique rows"
   ]
  },
  {
   "cell_type": "code",
   "execution_count": 0,
   "metadata": {
    "application/vnd.databricks.v1+cell": {
     "cellMetadata": {
      "byteLimit": 2048000,
      "rowLimit": 10000
     },
     "inputWidgets": {},
     "nuid": "abf2c901-90c8-41ff-8ce6-c8da422e0ac2",
     "showTitle": false,
     "tableResultSettingsMap": {},
     "title": ""
    }
   },
   "outputs": [],
   "source": [
    "#Checking for duplicate rows for transaction_id unique column\n",
    "\n",
    "#Find duplicate transaction_id values\n",
    "duplicate_transaction_ids = transactions.groupBy(\"transaction_id\").count().filter(col(\"count\") > 1).select(\"transaction_id\")\n",
    "\n",
    "#Join back to original DataFrame to get all rows with duplicate transaction_id\n",
    "duplicate_rows_transaction_ids = transactions.join(duplicate_transaction_ids, on=\"transaction_id\", how=\"inner\")\n",
    "\n",
    "#Show duplicate rows\n",
    "display(duplicate_rows_transaction_ids)\n",
    "\n",
    "#NO DUPLICATES RECORDS."
   ]
  },
  {
   "cell_type": "code",
   "execution_count": 0,
   "metadata": {
    "application/vnd.databricks.v1+cell": {
     "cellMetadata": {
      "byteLimit": 2048000,
      "rowLimit": 10000
     },
     "inputWidgets": {},
     "nuid": "2ed1ae64-558b-4bb5-a837-3ebd2983e7fd",
     "showTitle": false,
     "tableResultSettingsMap": {},
     "title": ""
    }
   },
   "outputs": [],
   "source": [
    "transactions.display()\n",
    "\n",
    "#Need to remove _ values from transaction_id column"
   ]
  },
  {
   "cell_type": "code",
   "execution_count": 0,
   "metadata": {
    "application/vnd.databricks.v1+cell": {
     "cellMetadata": {
      "byteLimit": 2048000,
      "rowLimit": 10000
     },
     "inputWidgets": {},
     "nuid": "2cd7e548-23d3-4688-b34a-78400b0ee7b7",
     "showTitle": false,
     "tableResultSettingsMap": {},
     "title": ""
    }
   },
   "outputs": [],
   "source": [
    "#Using Regular Expression to replace underscore with empty string\n",
    "\n",
    "#Remove underscores from transaction_id column\n",
    "transactions = transactions.withColumn(\"transaction_id\", regexp_replace(col(\"transaction_id\"), \"_\", \"\"))\n",
    "\n",
    "#Show updated DataFrame\n",
    "transactions.display()"
   ]
  },
  {
   "cell_type": "code",
   "execution_count": 0,
   "metadata": {
    "application/vnd.databricks.v1+cell": {
     "cellMetadata": {
      "byteLimit": 2048000,
      "rowLimit": 10000
     },
     "inputWidgets": {},
     "nuid": "e0e84b57-eb61-432a-af99-0736a0e0f73c",
     "showTitle": false,
     "tableResultSettingsMap": {},
     "title": ""
    }
   },
   "outputs": [],
   "source": [
    "#Check for dates starting from DD- instead of YYYY-\n",
    "\n",
    "transactions.select('issue_date','due_date','return_date','payment_date').show(5)\n",
    "\n",
    "#ALL COLUMN FORMAT IS NOT IN CORRECT FORMAT -> (YYYY-MM-DD)"
   ]
  },
  {
   "cell_type": "code",
   "execution_count": 0,
   "metadata": {
    "application/vnd.databricks.v1+cell": {
     "cellMetadata": {
      "byteLimit": 2048000,
      "rowLimit": 10000
     },
     "inputWidgets": {},
     "nuid": "56fb9944-6ba6-4257-a03d-c588332af4db",
     "showTitle": false,
     "tableResultSettingsMap": {},
     "title": ""
    }
   },
   "outputs": [],
   "source": [
    "#Convert payment_date (which has time) into proper date format (YYYY-MM-DD)\n",
    "\n",
    "transactions = transactions.withColumn(\"payment_date\",to_date(to_timestamp(col(\"payment_date\"), \"dd-MM-yyyy HH:mm\")))\n",
    "\n",
    "#Converting all other date colunns to proper date format YYYY-MM-DD\n",
    "transactions = transactions.withColumn(\"issue_date\", to_date(col(\"issue_date\"), \"yyyy-MM-dd\")) \\\n",
    "                   .withColumn(\"return_date\", to_date(col(\"return_date\"), \"yyyy-MM-dd\")) \\\n",
    "                   .withColumn(\"due_date\", to_date(col(\"due_date\"), \"yyyy-MM-dd\"))\n",
    "\n",
    "#Show updated values\n",
    "transactions.select('issue_date', 'due_date','return_date', 'payment_date').show(5)"
   ]
  },
  {
   "cell_type": "code",
   "execution_count": 0,
   "metadata": {
    "application/vnd.databricks.v1+cell": {
     "cellMetadata": {
      "byteLimit": 2048000,
      "rowLimit": 10000
     },
     "inputWidgets": {},
     "nuid": "05216b20-4c2a-445b-a778-3e106a3f9599",
     "showTitle": false,
     "tableResultSettingsMap": {},
     "title": ""
    }
   },
   "outputs": [],
   "source": [
    "#Regular expression to match dates starting with DD-MM-YYYY (01-31 at the start)\n",
    "date_pattern = r\"^[0-3][0-9]-[0-1][0-9]-[1-2][0-9]{3}$\"\n",
    "\n",
    "#*Check if any rows have DD-MM-YYYY format instead of YYYY-MM-DD*\n",
    "incorrect_dates = transactions.filter(\n",
    "    col(\"issue_date\").rlike(date_pattern) | \n",
    "    col(\"due_date\").rlike(date_pattern) | \n",
    "    col(\"return_date\").rlike(date_pattern) |\n",
    "    col(\"payment_date\").rlike(date_pattern))\n",
    "\n",
    "#Show incorrect format dates\n",
    "incorrect_dates.select(\"issue_date\", \"due_date\", \"return_date\", \"payment_date\").display(truncate=False)"
   ]
  },
  {
   "cell_type": "code",
   "execution_count": 0,
   "metadata": {
    "application/vnd.databricks.v1+cell": {
     "cellMetadata": {
      "byteLimit": 2048000,
      "rowLimit": 10000
     },
     "inputWidgets": {},
     "nuid": "e56d5e9c-fa8e-4d02-a04a-72320d2759ce",
     "showTitle": false,
     "tableResultSettingsMap": {},
     "title": ""
    }
   },
   "outputs": [],
   "source": [
    "#Filter rows where book_id starts with 'bk' (lowercase) only\n",
    "\n",
    "bk_lowercase_check = transactions.filter(\n",
    "    col(\"book_id\").rlike(\"^bk[0-9]+$\")  #Matches bk001, bk105, etc.\n",
    "    ).filter(~col(\"book_id\").rlike(\"^BK[0-9]+$\"))  #Excludes uppercase BK\n",
    "\n",
    "#Show results\n",
    "bk_lowercase_check.display()"
   ]
  },
  {
   "cell_type": "code",
   "execution_count": 0,
   "metadata": {
    "application/vnd.databricks.v1+cell": {
     "cellMetadata": {
      "byteLimit": 2048000,
      "rowLimit": 10000
     },
     "inputWidgets": {},
     "nuid": "24b8e619-24d5-4d3b-8659-c6833d5ceaa5",
     "showTitle": false,
     "tableResultSettingsMap": {},
     "title": ""
    }
   },
   "outputs": [],
   "source": [
    "#Filter rows where copy_id starts with 'cp' instead of 'CP'\n",
    "cp_lowercase_check = transactions.filter(col(\"copy_id\").rlike(\"^cp[0-9]+$\"))\n",
    "\n",
    "#Show results\n",
    "cp_lowercase_check.select('copy_id').display()"
   ]
  },
  {
   "cell_type": "code",
   "execution_count": 0,
   "metadata": {
    "application/vnd.databricks.v1+cell": {
     "cellMetadata": {
      "byteLimit": 2048000,
      "rowLimit": 10000
     },
     "inputWidgets": {},
     "nuid": "b5c2983b-8f81-4030-866b-51e682e0f569",
     "showTitle": false,
     "tableResultSettingsMap": {},
     "title": ""
    }
   },
   "outputs": [],
   "source": [
    "#Convert book_id to uppercase\n",
    "transactions = transactions.withColumn(\"book_id\", upper(col(\"book_id\")))\n",
    "\n",
    "#Convert copy_id to uppercase\n",
    "transactions = transactions.withColumn(\"copy_id\", upper(col(\"copy_id\")))"
   ]
  },
  {
   "cell_type": "code",
   "execution_count": 0,
   "metadata": {
    "application/vnd.databricks.v1+cell": {
     "cellMetadata": {
      "byteLimit": 2048000,
      "rowLimit": 10000
     },
     "inputWidgets": {},
     "nuid": "30ab29f8-1434-459f-81dc-1c728836fa63",
     "showTitle": false,
     "tableResultSettingsMap": {},
     "title": ""
    }
   },
   "outputs": [],
   "source": [
    "#Filter rows where book_id starts with 'bk' (lowercase) only\n",
    "\n",
    "bk_lowercase_check = transactions.filter(\n",
    "    col(\"book_id\").rlike(\"^bk[0-9]+$\")  #Matches bk001, bk105, etc.\n",
    "    ).filter(~col(\"book_id\").rlike(\"^BK[0-9]+$\"))  #Excludes uppercase BK\n",
    "\n",
    "#Show results\n",
    "bk_lowercase_check.display()\n",
    "\n",
    "#NO LOWER CASE VALUES IS PRESENT NOW IN book_id COLUMN."
   ]
  },
  {
   "cell_type": "code",
   "execution_count": 0,
   "metadata": {
    "application/vnd.databricks.v1+cell": {
     "cellMetadata": {
      "byteLimit": 2048000,
      "rowLimit": 10000
     },
     "inputWidgets": {},
     "nuid": "8f98a364-01f8-48d2-96b3-623cc8f89715",
     "showTitle": false,
     "tableResultSettingsMap": {},
     "title": ""
    }
   },
   "outputs": [],
   "source": [
    "#Filter rows where copy_id starts with 'cp' instead of 'CP'\n",
    "cp_lowercase_check = transactions.filter(col(\"copy_id\").rlike(\"^cp[0-9]+$\"))\n",
    "\n",
    "#Show results\n",
    "cp_lowercase_check.select('copy_id').display() \n",
    "\n",
    "#NO LOWER CASE VALUES IS PRESENT NOW IN copy_id COLUMN."
   ]
  },
  {
   "cell_type": "code",
   "execution_count": 0,
   "metadata": {
    "application/vnd.databricks.v1+cell": {
     "cellMetadata": {
      "byteLimit": 2048000,
      "rowLimit": 10000
     },
     "inputWidgets": {},
     "nuid": "c1179bea-77b7-473f-8891-b80bf279ab59",
     "showTitle": false,
     "tableResultSettingsMap": {},
     "title": ""
    }
   },
   "outputs": [],
   "source": [
    "#Upper cases values are present we want all values to be lower case\n",
    "\n",
    "transactions.select('initial_status').distinct().show()\n",
    "transactions.select('final_status').distinct().show()\n",
    "transactions.select('payment_status').distinct().show()"
   ]
  },
  {
   "cell_type": "code",
   "execution_count": 0,
   "metadata": {
    "application/vnd.databricks.v1+cell": {
     "cellMetadata": {
      "byteLimit": 2048000,
      "rowLimit": 10000
     },
     "inputWidgets": {},
     "nuid": "03d00a3e-34f6-4571-8564-de41f1a842c7",
     "showTitle": false,
     "tableResultSettingsMap": {},
     "title": ""
    }
   },
   "outputs": [],
   "source": [
    "#Convert initial_status and final_status to lowercase\n",
    "transactions = transactions.withColumn(\"initial_status\", lower(col(\"initial_status\"))) \\\n",
    "                                           .withColumn(\"final_status\", lower(col(\"final_status\")))\\\n",
    "                                            .withColumn(\"payment_status\", lower(col(\"payment_status\")))"
   ]
  },
  {
   "cell_type": "code",
   "execution_count": 0,
   "metadata": {
    "application/vnd.databricks.v1+cell": {
     "cellMetadata": {
      "byteLimit": 2048000,
      "rowLimit": 10000
     },
     "inputWidgets": {},
     "nuid": "259ca1e3-234a-4d06-b7cf-bd28ddb67a90",
     "showTitle": false,
     "tableResultSettingsMap": {},
     "title": ""
    }
   },
   "outputs": [],
   "source": [
    "transactions.select('initial_status').distinct().show()\n",
    "transactions.select('final_status').distinct().show()\n",
    "transactions.select('payment_status').distinct().show()"
   ]
  },
  {
   "cell_type": "markdown",
   "metadata": {
    "application/vnd.databricks.v1+cell": {
     "cellMetadata": {
      "byteLimit": 2048000,
      "rowLimit": 10000
     },
     "inputWidgets": {},
     "nuid": "a94cc56c-ad99-48bc-9e8e-bdf886ec2838",
     "showTitle": false,
     "tableResultSettingsMap": {},
     "title": ""
    }
   },
   "source": [
    "\n",
    "#####Saving the data in Silver container\n",
    "\n",
    "######*This code will save the transaction data into Silver Container in ADLS Gen2 in 1st run of ADF Pipeline, then append the new data in 2nd run of ADF Pipeline.*"
   ]
  },
  {
   "cell_type": "code",
   "execution_count": 0,
   "metadata": {
    "application/vnd.databricks.v1+cell": {
     "cellMetadata": {
      "byteLimit": 2048000,
      "rowLimit": 10000
     },
     "inputWidgets": {},
     "nuid": "2c040c26-173c-4bb3-a6dc-7f6af122eeb1",
     "showTitle": false,
     "tableResultSettingsMap": {},
     "title": ""
    }
   },
   "outputs": [],
   "source": [
    "#Define the path to the Delta table in the silver container\n",
    "silver_table_path = 'abfss://silver@lmsstorageaccount2025.dfs.core.windows.net/transactions'\n",
    "\n",
    "#Check if the DataFrame is empty\n",
    "if transactions.isEmpty():\n",
    "    print(\"No new data to append to the Delta table.\")\n",
    "else:\n",
    "    #Check if the Delta table already exists\n",
    "    try:\n",
    "        #Try to read the existing Delta table\n",
    "        existing_df = spark.read.format(\"delta\").load(silver_table_path)\n",
    "        \n",
    "        #If it exists, append the new data\n",
    "        transactions.write.format(\"delta\").mode(\"append\").save(silver_table_path)\n",
    "        print(f\"Appended new data to the existing Delta table at: {silver_table_path}\")\n",
    "    except AnalysisException:\n",
    "        #If the table does not exist, create it\n",
    "        transactions.write.format(\"delta\").mode(\"overwrite\").save(silver_table_path)\n",
    "        print(f\"Created new Delta table at: {silver_table_path}\")  "
   ]
  },
  {
   "cell_type": "markdown",
   "metadata": {
    "application/vnd.databricks.v1+cell": {
     "cellMetadata": {
      "byteLimit": 2048000,
      "rowLimit": 10000
     },
     "inputWidgets": {},
     "nuid": "0c8e0c42-638a-456c-99fd-f812f4299f8f",
     "showTitle": false,
     "tableResultSettingsMap": {},
     "title": ""
    }
   },
   "source": [
    "\n",
    "#####Creating or Appending the Delta Table in Silver Schema according to the requirement"
   ]
  },
  {
   "cell_type": "code",
   "execution_count": 0,
   "metadata": {
    "application/vnd.databricks.v1+cell": {
     "cellMetadata": {
      "byteLimit": 2048000,
      "rowLimit": 10000
     },
     "inputWidgets": {},
     "nuid": "477928e1-89b5-4fe9-a137-fb02738cab8b",
     "showTitle": false,
     "tableResultSettingsMap": {},
     "title": ""
    }
   },
   "outputs": [],
   "source": [
    "#Define the Delta table name\n",
    "silver_table_name = \"`lms-catalog`.silver.transactions\"\n",
    "\n",
    "#Check if the Delta table already exists\n",
    "try:\n",
    "    #Try to read the existing Delta table\n",
    "    existing_df = spark.read.format(\"delta\").table(silver_table_name)\n",
    "    \n",
    "    #If it exists, append the new data\n",
    "    transactions_df.write.format(\"delta\").mode(\"append\").saveAsTable(silver_table_name)\n",
    "    print(f\"Appended new data to the existing Delta table: {silver_table_name}\")\n",
    "except AnalysisException:\n",
    "    #If the table does not exist, create it\n",
    "    transactions.write.format(\"delta\").mode(\"overwrite\").saveAsTable(silver_table_name)\n",
    "    print(f\"Created new Delta table: {silver_table_name}\")"
   ]
  },
  {
   "cell_type": "markdown",
   "metadata": {
    "application/vnd.databricks.v1+cell": {
     "cellMetadata": {
      "byteLimit": 2048000,
      "rowLimit": 10000
     },
     "inputWidgets": {},
     "nuid": "4d14551d-0658-4888-86aa-b9d70c5ef176",
     "showTitle": false,
     "tableResultSettingsMap": {},
     "title": ""
    }
   },
   "source": [
    "\n",
    "#####Verifying if the data is loaded in Silver Schema"
   ]
  },
  {
   "cell_type": "code",
   "execution_count": 0,
   "metadata": {
    "application/vnd.databricks.v1+cell": {
     "cellMetadata": {
      "byteLimit": 2048000,
      "implicitDf": true,
      "rowLimit": 10000
     },
     "inputWidgets": {},
     "nuid": "7a37722e-de84-4a30-aa2e-a72a18782895",
     "showTitle": false,
     "tableResultSettingsMap": {},
     "title": ""
    }
   },
   "outputs": [],
   "source": [
    "%sql\n",
    "select count(*) from `lms-catalog`.silver.transactions"
   ]
  },
  {
   "cell_type": "markdown",
   "metadata": {
    "application/vnd.databricks.v1+cell": {
     "cellMetadata": {
      "byteLimit": 2048000,
      "rowLimit": 10000
     },
     "inputWidgets": {},
     "nuid": "320481a7-2a26-413c-b042-38fbb75f202f",
     "showTitle": false,
     "tableResultSettingsMap": {},
     "title": ""
    }
   },
   "source": []
  },
  {
   "cell_type": "markdown",
   "metadata": {
    "application/vnd.databricks.v1+cell": {
     "cellMetadata": {
      "byteLimit": 2048000,
      "rowLimit": 10000
     },
     "inputWidgets": {},
     "nuid": "be809734-4aea-4bfd-9f88-3c5635403b4a",
     "showTitle": false,
     "tableResultSettingsMap": {},
     "title": ""
    }
   },
   "source": []
  },
  {
   "cell_type": "markdown",
   "metadata": {
    "application/vnd.databricks.v1+cell": {
     "cellMetadata": {
      "byteLimit": 2048000,
      "rowLimit": 10000
     },
     "inputWidgets": {},
     "nuid": "2d482ecf-5da9-43f1-b730-bfb26e1e23aa",
     "showTitle": false,
     "tableResultSettingsMap": {},
     "title": ""
    }
   },
   "source": []
  },
  {
   "cell_type": "markdown",
   "metadata": {
    "application/vnd.databricks.v1+cell": {
     "cellMetadata": {
      "byteLimit": 2048000,
      "rowLimit": 10000
     },
     "inputWidgets": {},
     "nuid": "b8f2b726-66f3-4b1d-ae07-e01d681bd680",
     "showTitle": false,
     "tableResultSettingsMap": {},
     "title": ""
    }
   },
   "source": []
  },
  {
   "cell_type": "markdown",
   "metadata": {
    "application/vnd.databricks.v1+cell": {
     "cellMetadata": {
      "byteLimit": 2048000,
      "rowLimit": 10000
     },
     "inputWidgets": {},
     "nuid": "6c61f470-0621-4dcf-9d5e-b6375676372d",
     "showTitle": false,
     "tableResultSettingsMap": {},
     "title": ""
    }
   },
   "source": []
  },
  {
   "cell_type": "markdown",
   "metadata": {
    "application/vnd.databricks.v1+cell": {
     "cellMetadata": {
      "byteLimit": 2048000,
      "rowLimit": 10000
     },
     "inputWidgets": {},
     "nuid": "69f7471b-59fe-49a8-9e41-5f62aea9f125",
     "showTitle": false,
     "tableResultSettingsMap": {},
     "title": ""
    }
   },
   "source": []
  },
  {
   "cell_type": "markdown",
   "metadata": {
    "application/vnd.databricks.v1+cell": {
     "cellMetadata": {
      "byteLimit": 2048000,
      "rowLimit": 10000
     },
     "inputWidgets": {},
     "nuid": "50e8a8d2-af23-48b3-8a0f-68ac5ba88cfd",
     "showTitle": false,
     "tableResultSettingsMap": {},
     "title": ""
    }
   },
   "source": [
    "\n",
    "####Transactions_2020_Q2 Table"
   ]
  },
  {
   "cell_type": "code",
   "execution_count": 0,
   "metadata": {
    "application/vnd.databricks.v1+cell": {
     "cellMetadata": {
      "byteLimit": 2048000,
      "rowLimit": 10000
     },
     "inputWidgets": {},
     "nuid": "ebd4329d-c680-4375-ad10-017c954f5aab",
     "showTitle": false,
     "tableResultSettingsMap": {},
     "title": ""
    }
   },
   "outputs": [],
   "source": [
    "# #Verifying if the files is present in container\n",
    "\n",
    "# dbutils.fs.ls(\"mnt/silver/\")"
   ]
  },
  {
   "cell_type": "code",
   "execution_count": 0,
   "metadata": {
    "application/vnd.databricks.v1+cell": {
     "cellMetadata": {
      "byteLimit": 2048000,
      "rowLimit": 10000
     },
     "inputWidgets": {},
     "nuid": "1fbff111-d807-4692-8ea6-cbd680da7efb",
     "showTitle": false,
     "tableResultSettingsMap": {},
     "title": ""
    }
   },
   "outputs": [],
   "source": [
    "# #Reading the data from silver location\n",
    "\n",
    "# transactions_2020_q2 = spark.read.csv('/mnt/silver/transactions_2020_Q2_raw.csv', header=True, inferSchema=True)\n",
    "\n",
    "# transactions_2020_q2.display()"
   ]
  },
  {
   "cell_type": "code",
   "execution_count": 0,
   "metadata": {
    "application/vnd.databricks.v1+cell": {
     "cellMetadata": {
      "byteLimit": 2048000,
      "rowLimit": 10000
     },
     "inputWidgets": {},
     "nuid": "4c437873-4ac7-4ef4-be6c-710385b30ba0",
     "showTitle": false,
     "tableResultSettingsMap": {},
     "title": ""
    }
   },
   "outputs": [],
   "source": [
    "# #Data-type of each column\n",
    "\n",
    "# transactions_2020_q2.printSchema()"
   ]
  },
  {
   "cell_type": "code",
   "execution_count": 0,
   "metadata": {
    "application/vnd.databricks.v1+cell": {
     "cellMetadata": {
      "byteLimit": 2048000,
      "rowLimit": 10000
     },
     "inputWidgets": {},
     "nuid": "82b50f1a-3ee0-4c97-a84f-3c495201306c",
     "showTitle": false,
     "tableResultSettingsMap": {},
     "title": ""
    }
   },
   "outputs": [],
   "source": [
    "# #Total records\n",
    "\n",
    "# transactions_2020_q2.count()"
   ]
  },
  {
   "cell_type": "code",
   "execution_count": 0,
   "metadata": {
    "application/vnd.databricks.v1+cell": {
     "cellMetadata": {
      "byteLimit": 2048000,
      "rowLimit": 10000
     },
     "inputWidgets": {},
     "nuid": "ce2a24dd-115b-4f44-9434-f400d859821a",
     "showTitle": false,
     "tableResultSettingsMap": {},
     "title": ""
    }
   },
   "outputs": [],
   "source": [
    "# #Descriptive stats on fine_amount column before cleaning the data\n",
    "\n",
    "# transactions_2020_q2.describe(\"fine_amount\").display()"
   ]
  },
  {
   "cell_type": "code",
   "execution_count": 0,
   "metadata": {
    "application/vnd.databricks.v1+cell": {
     "cellMetadata": {
      "byteLimit": 2048000,
      "rowLimit": 10000
     },
     "inputWidgets": {},
     "nuid": "fe21552f-c2ad-412f-8401-63039a1c77fd",
     "showTitle": false,
     "tableResultSettingsMap": {},
     "title": ""
    }
   },
   "outputs": [],
   "source": [
    "# #Checking for missing values\n",
    "\n",
    "# transactions_2020_q2.select([sum(col(c).isNull().cast(\"int\")).alias(c) for c in transactions_2020_q2.columns]).display()\n",
    "\n",
    "# #return_date: 284 records are missing and payment_date: 4950 records are missing\n",
    "\n",
    "# #return_date 284 reflects how many students did not returned the book taken from library,\n",
    "# #payment_date 4950 reflects how many students did not paid the fine amount"
   ]
  },
  {
   "cell_type": "code",
   "execution_count": 0,
   "metadata": {
    "application/vnd.databricks.v1+cell": {
     "cellMetadata": {
      "byteLimit": 2048000,
      "rowLimit": 10000
     },
     "inputWidgets": {},
     "nuid": "5503f18a-0320-46d6-ba23-58c05d8d2467",
     "showTitle": false,
     "tableResultSettingsMap": {},
     "title": ""
    }
   },
   "outputs": [],
   "source": [
    "# #Checking how many duplicate rows we have\n",
    "\n",
    "# transactions_2020_q2.count() - transactions_2020_q2.distinct().count()  #total rows - unique rows"
   ]
  },
  {
   "cell_type": "code",
   "execution_count": 0,
   "metadata": {
    "application/vnd.databricks.v1+cell": {
     "cellMetadata": {
      "byteLimit": 2048000,
      "rowLimit": 10000
     },
     "inputWidgets": {},
     "nuid": "c7a4e873-7002-4b3f-a3b6-6694de1a2add",
     "showTitle": false,
     "tableResultSettingsMap": {},
     "title": ""
    }
   },
   "outputs": [],
   "source": [
    "# #Checking for duplicate rows for transaction_id unique column\n",
    "\n",
    "# #Find duplicate transaction_id values\n",
    "# duplicate_transaction_ids_q2_2020 = transactions_2020_q2.groupBy(\"transaction_id\").count().filter(col(\"count\") > 1).select(\"transaction_id\")\n",
    "\n",
    "# #Join back to original DataFrame to get all rows with duplicate transaction_id\n",
    "# duplicate_rows_transaction_ids_q2_2020 = transactions_2020_q2.join(duplicate_transaction_ids_q2_2020, on=\"transaction_id\", how=\"inner\")\n",
    "\n",
    "# #Show duplicate rows\n",
    "# display(duplicate_rows_transaction_ids_q2_2020)\n",
    "\n",
    "# #NO DUPLICATES RECORDS."
   ]
  },
  {
   "cell_type": "code",
   "execution_count": 0,
   "metadata": {
    "application/vnd.databricks.v1+cell": {
     "cellMetadata": {
      "byteLimit": 2048000,
      "rowLimit": 10000
     },
     "inputWidgets": {},
     "nuid": "bb5238fd-c2f2-4de4-8a30-187e7cab740d",
     "showTitle": false,
     "tableResultSettingsMap": {},
     "title": ""
    }
   },
   "outputs": [],
   "source": [
    "# transactions_2020_q2.display()\n",
    "\n",
    "# #Need to remove _ values from transaction_id column"
   ]
  },
  {
   "cell_type": "code",
   "execution_count": 0,
   "metadata": {
    "application/vnd.databricks.v1+cell": {
     "cellMetadata": {
      "byteLimit": 2048000,
      "rowLimit": 10000
     },
     "inputWidgets": {},
     "nuid": "40ba6595-5b07-4de9-9d7e-f4e3c74097b6",
     "showTitle": false,
     "tableResultSettingsMap": {},
     "title": ""
    }
   },
   "outputs": [],
   "source": [
    "# #Using Regular Expression to replace underscore with empty string\n",
    "# from pyspark.sql.functions import regexp_replace\n",
    "\n",
    "# #Remove underscores from transaction_id column\n",
    "# transactions_2020_q2 = transactions_2020_q2.withColumn(\"transaction_id\", regexp_replace(col(\"transaction_id\"), \"_\", \"\"))\n",
    "\n",
    "# #Show updated DataFrame\n",
    "# transactions_2020_q2.display(7)"
   ]
  },
  {
   "cell_type": "code",
   "execution_count": 0,
   "metadata": {
    "application/vnd.databricks.v1+cell": {
     "cellMetadata": {
      "byteLimit": 2048000,
      "rowLimit": 10000
     },
     "inputWidgets": {},
     "nuid": "b653256d-ef4f-4274-9ea1-a68c863f5df0",
     "showTitle": false,
     "tableResultSettingsMap": {},
     "title": ""
    }
   },
   "outputs": [],
   "source": [
    "# #Check for dates starting from DD- instead of YYYY-\n",
    "\n",
    "# transactions_2020_q2.select('issue_date','due_date','return_date','payment_date').display()\n",
    "\n",
    "# #payment_date COLUMN FORMAT IS NOT IN CORRECT FORMAT (YYYY-MM-DD)"
   ]
  },
  {
   "cell_type": "code",
   "execution_count": 0,
   "metadata": {
    "application/vnd.databricks.v1+cell": {
     "cellMetadata": {
      "byteLimit": 2048000,
      "rowLimit": 10000
     },
     "inputWidgets": {},
     "nuid": "70c2f21b-9060-49ea-b33c-84592f7bcc17",
     "showTitle": false,
     "tableResultSettingsMap": {},
     "title": ""
    }
   },
   "outputs": [],
   "source": [
    "# #Convert payment_date (which has time) into proper date format (YYY-MM-DD)\n",
    "# from pyspark.sql.functions import to_date, to_timestamp\n",
    "\n",
    "# transactions_2020_q2 = transactions_2020_q2.withColumn(\n",
    "#     \"payment_date\",\n",
    "#     to_date(to_timestamp(col(\"payment_date\"), \"dd-MM-yyyy HH:mm\"))\n",
    "#     )\n",
    "\n",
    "# #Show updated values\n",
    "# transactions_2020_q2.select(\"payment_date\").display(50, truncate=False)"
   ]
  },
  {
   "cell_type": "code",
   "execution_count": 0,
   "metadata": {
    "application/vnd.databricks.v1+cell": {
     "cellMetadata": {
      "byteLimit": 2048000,
      "rowLimit": 10000
     },
     "inputWidgets": {},
     "nuid": "d2839266-7d64-4d0f-bbe7-da724437b99b",
     "showTitle": false,
     "tableResultSettingsMap": {},
     "title": ""
    }
   },
   "outputs": [],
   "source": [
    "# #Regular expression to match dates starting with DD-MM-YYYY (01-31 at the start)\n",
    "# date_pattern = r\"^[0-3][0-9]-[0-1][0-9]-[1-2][0-9]{3}$\"\n",
    "\n",
    "# #Check if any rows have DD-MM-YYYY format instead of YYYY-MM-DD\n",
    "# incorrect_dates = transactions_2020_q2.filter(\n",
    "#     col(\"issue_date\").rlike(date_pattern) | \n",
    "#     col(\"due_date\").rlike(date_pattern) | \n",
    "#     col(\"return_date\").rlike(date_pattern) |\n",
    "#     col(\"payment_date\").rlike(date_pattern)\n",
    "# )\n",
    "\n",
    "# #Show incorrect format dates\n",
    "# incorrect_dates.select(\"issue_date\", \"due_date\", \"return_date\", \"payment_date\").display(truncate=False)"
   ]
  },
  {
   "cell_type": "code",
   "execution_count": 0,
   "metadata": {
    "application/vnd.databricks.v1+cell": {
     "cellMetadata": {
      "byteLimit": 2048000,
      "rowLimit": 10000
     },
     "inputWidgets": {},
     "nuid": "51099bcb-5cae-4df1-b730-da4723c1bab0",
     "showTitle": false,
     "tableResultSettingsMap": {},
     "title": ""
    }
   },
   "outputs": [],
   "source": [
    "# #Filter rows where book_id starts with 'bk' (lowercase) only\n",
    "\n",
    "# bk_lowercase_check = transactions_2020_q2.filter(\n",
    "#     col(\"book_id\").rlike(\"^bk[0-9]+$\")  #Matches bk001, bk105, etc.\n",
    "#     ).filter(~col(\"book_id\").rlike(\"^BK[0-9]+$\"))  #Excludes uppercase BK\n",
    "\n",
    "# #Show results\n",
    "# bk_lowercase_check.display()"
   ]
  },
  {
   "cell_type": "code",
   "execution_count": 0,
   "metadata": {
    "application/vnd.databricks.v1+cell": {
     "cellMetadata": {
      "byteLimit": 2048000,
      "rowLimit": 10000
     },
     "inputWidgets": {},
     "nuid": "6a565ed8-c512-4427-a99e-0e4ead6b9c01",
     "showTitle": false,
     "tableResultSettingsMap": {},
     "title": ""
    }
   },
   "outputs": [],
   "source": [
    "# #Filter rows where copy_id starts with 'cp' instead of 'CP'\n",
    "# cp_lowercase_check = transactions_2020_q2.filter(col(\"copy_id\").rlike(\"^cp[0-9]+$\"))\n",
    "\n",
    "# #Show results\n",
    "# cp_lowercase_check.select('copy_id').display()"
   ]
  },
  {
   "cell_type": "code",
   "execution_count": 0,
   "metadata": {
    "application/vnd.databricks.v1+cell": {
     "cellMetadata": {
      "byteLimit": 2048000,
      "rowLimit": 10000
     },
     "inputWidgets": {},
     "nuid": "465992a7-2154-4877-93aa-eb7212ec8e2c",
     "showTitle": false,
     "tableResultSettingsMap": {},
     "title": ""
    }
   },
   "outputs": [],
   "source": [
    "# from pyspark.sql.functions import upper\n",
    "\n",
    "# #Convert book_id to uppercase\n",
    "# transactions_2020_q2 = transactions_2020_q2.withColumn(\"book_id\", upper(col(\"book_id\")))\n",
    "\n",
    "# #Show updated DataFrame\n",
    "# transactions_2020_q2.display()"
   ]
  },
  {
   "cell_type": "code",
   "execution_count": 0,
   "metadata": {
    "application/vnd.databricks.v1+cell": {
     "cellMetadata": {
      "byteLimit": 2048000,
      "rowLimit": 10000
     },
     "inputWidgets": {},
     "nuid": "9458d7b4-39ea-4801-a8ad-b7e81fa4d3ce",
     "showTitle": false,
     "tableResultSettingsMap": {},
     "title": ""
    }
   },
   "outputs": [],
   "source": [
    "# #Filter rows where book_id starts with 'bk' (lowercase) only\n",
    "\n",
    "# bk_lowercase_check = transactions_2020_q2.filter(\n",
    "#     col(\"book_id\").rlike(\"^bk[0-9]+$\")  #Matches bk001, bk105, etc.\n",
    "#     ).filter(~col(\"book_id\").rlike(\"^BK[0-9]+$\"))  #Excludes uppercase BK\n",
    "\n",
    "# #Show results\n",
    "# bk_lowercase_check.display()\n",
    "\n",
    "# #NO LOWER CASE VALUES IS PRESENT NOW IN book_id COLUMN."
   ]
  },
  {
   "cell_type": "code",
   "execution_count": 0,
   "metadata": {
    "application/vnd.databricks.v1+cell": {
     "cellMetadata": {
      "byteLimit": 2048000,
      "rowLimit": 10000
     },
     "inputWidgets": {},
     "nuid": "82751251-54dc-4156-94f0-c839b3efe0da",
     "showTitle": false,
     "tableResultSettingsMap": {},
     "title": ""
    }
   },
   "outputs": [],
   "source": [
    "# #Convert copy_id to uppercase\n",
    "# transactions_2020_q2 = transactions_2020_q2.withColumn(\"copy_id\", upper(col(\"copy_id\")))\n",
    "\n",
    "# #Show updated DataFrame\n",
    "# transactions_2020_q2.display()"
   ]
  },
  {
   "cell_type": "code",
   "execution_count": 0,
   "metadata": {
    "application/vnd.databricks.v1+cell": {
     "cellMetadata": {
      "byteLimit": 2048000,
      "rowLimit": 10000
     },
     "inputWidgets": {},
     "nuid": "bab007e4-336d-46f5-bf71-cc13717f564e",
     "showTitle": false,
     "tableResultSettingsMap": {},
     "title": ""
    }
   },
   "outputs": [],
   "source": [
    "# #Filter rows where copy_id starts with 'cp' instead of 'CP'\n",
    "# cp_lowercase_check = transactions_2020_q2.filter(col(\"copy_id\").rlike(\"^cp[0-9]+$\"))\n",
    "\n",
    "# #Show results\n",
    "# cp_lowercase_check.select('copy_id').display() \n",
    "\n",
    "# #NO LOWER CASE VALUES IS PRESENT NOW IN copy_id COLUMN."
   ]
  },
  {
   "cell_type": "code",
   "execution_count": 0,
   "metadata": {
    "application/vnd.databricks.v1+cell": {
     "cellMetadata": {
      "byteLimit": 2048000,
      "rowLimit": 10000
     },
     "inputWidgets": {},
     "nuid": "da461784-1fd3-4bac-95d3-280cb2db58a6",
     "showTitle": false,
     "tableResultSettingsMap": {},
     "title": ""
    }
   },
   "outputs": [],
   "source": [
    "# #Upper cases values are present we want all values to be lower case\n",
    "\n",
    "# transactions_2020_q2.select('initial_status','final_status').distinct().display()"
   ]
  },
  {
   "cell_type": "code",
   "execution_count": 0,
   "metadata": {
    "application/vnd.databricks.v1+cell": {
     "cellMetadata": {
      "byteLimit": 2048000,
      "rowLimit": 10000
     },
     "inputWidgets": {},
     "nuid": "e22956e0-353c-407d-8fe2-fbb75b2eb96c",
     "showTitle": false,
     "tableResultSettingsMap": {},
     "title": ""
    }
   },
   "outputs": [],
   "source": [
    "# #Convert initial_status and final_status to lowercase\n",
    "# transactions_2020_q2 = transactions_2020_q2.withColumn(\"initial_status\", lower(col(\"initial_status\"))) \\\n",
    "#                                            .withColumn(\"final_status\", lower(col(\"final_status\")))"
   ]
  },
  {
   "cell_type": "code",
   "execution_count": 0,
   "metadata": {
    "application/vnd.databricks.v1+cell": {
     "cellMetadata": {
      "byteLimit": 2048000,
      "rowLimit": 10000
     },
     "inputWidgets": {},
     "nuid": "6971eaa8-3808-48be-98d5-18688ecc3227",
     "showTitle": false,
     "tableResultSettingsMap": {},
     "title": ""
    }
   },
   "outputs": [],
   "source": [
    "# #Show transformed DataFrame\n",
    "# transactions_2020_q2.select(\"initial_status\").distinct().display()\n",
    "\n",
    "# #Only one class in initial_status column"
   ]
  },
  {
   "cell_type": "markdown",
   "metadata": {
    "application/vnd.databricks.v1+cell": {
     "cellMetadata": {
      "byteLimit": 2048000,
      "rowLimit": 10000
     },
     "inputWidgets": {},
     "nuid": "a216259e-7e54-44dc-9527-d0854ab99e32",
     "showTitle": false,
     "tableResultSettingsMap": {},
     "title": ""
    }
   },
   "source": [
    "\n",
    "####Saving transactions_2020_q2 dataset into Delta format under Silver "
   ]
  },
  {
   "cell_type": "code",
   "execution_count": 0,
   "metadata": {
    "application/vnd.databricks.v1+cell": {
     "cellMetadata": {
      "byteLimit": 2048000,
      "rowLimit": 10000
     },
     "inputWidgets": {},
     "nuid": "92baf3ac-b184-4478-a746-84df1e11f849",
     "showTitle": false,
     "tableResultSettingsMap": {},
     "title": ""
    }
   },
   "outputs": [],
   "source": [
    "# #Saving the data in delta format under silver location\n",
    "\n",
    "# transactions_2020_q2.write.format(\"delta\").mode(\"overwrite\").save(\"abfss://silver@lmsstorageaccount2025.dfs.core.windows.net/transactions_2020_Q2\")"
   ]
  },
  {
   "cell_type": "code",
   "execution_count": 0,
   "metadata": {
    "application/vnd.databricks.v1+cell": {
     "cellMetadata": {
      "byteLimit": 2048000,
      "implicitDf": true,
      "rowLimit": 10000
     },
     "inputWidgets": {},
     "nuid": "55b7e606-cabf-4c90-ae91-4e1f4dc30823",
     "showTitle": false,
     "tableResultSettingsMap": {},
     "title": ""
    }
   },
   "outputs": [],
   "source": [
    "# %sql\n",
    "# --Creating external table for the silver location in Unity Catalog\n",
    "# DROP TABLE IF EXISTS `lms-catalog`.silver.transactions_2020_q2;\n",
    "\n",
    "# CREATE TABLE `lms-catalog`.silver.transactions_2020_q2\n",
    "# USING DELTA\n",
    "# LOCATION 'abfss://silver@lmsstorageaccount2025.dfs.core.windows.net/transactions_2020_Q2';"
   ]
  },
  {
   "cell_type": "markdown",
   "metadata": {
    "application/vnd.databricks.v1+cell": {
     "cellMetadata": {
      "byteLimit": 2048000,
      "rowLimit": 10000
     },
     "inputWidgets": {},
     "nuid": "57bf4100-b628-4fa9-ab48-80a7892ec25f",
     "showTitle": false,
     "tableResultSettingsMap": {},
     "title": ""
    }
   },
   "source": [
    "####Transactions_2020_Q3 Table"
   ]
  },
  {
   "cell_type": "code",
   "execution_count": 0,
   "metadata": {
    "application/vnd.databricks.v1+cell": {
     "cellMetadata": {
      "byteLimit": 2048000,
      "rowLimit": 10000
     },
     "inputWidgets": {},
     "nuid": "2ab640cb-7684-46aa-8c25-aa91b7f15147",
     "showTitle": false,
     "tableResultSettingsMap": {},
     "title": ""
    }
   },
   "outputs": [],
   "source": [
    "# #Verifying if the files is present in container\n",
    "\n",
    "# dbutils.fs.ls(\"mnt/silver/\")"
   ]
  },
  {
   "cell_type": "code",
   "execution_count": 0,
   "metadata": {
    "application/vnd.databricks.v1+cell": {
     "cellMetadata": {
      "byteLimit": 2048000,
      "rowLimit": 10000
     },
     "inputWidgets": {},
     "nuid": "dfff60fd-c3b8-41fe-acb2-13ffd2406fd8",
     "showTitle": false,
     "tableResultSettingsMap": {},
     "title": ""
    }
   },
   "outputs": [],
   "source": [
    "# #Reading the data from silver location\n",
    "\n",
    "# transactions_2020_q3 = spark.read.csv('/mnt/silver/transactions_2020_Q3_raw.csv', header=True, inferSchema=True)\n",
    "\n",
    "# transactions_2020_q3.display()"
   ]
  },
  {
   "cell_type": "code",
   "execution_count": 0,
   "metadata": {
    "application/vnd.databricks.v1+cell": {
     "cellMetadata": {
      "byteLimit": 2048000,
      "rowLimit": 10000
     },
     "inputWidgets": {},
     "nuid": "4070bb93-b9e1-458e-ab72-214029c20ba2",
     "showTitle": false,
     "tableResultSettingsMap": {},
     "title": ""
    }
   },
   "outputs": [],
   "source": [
    "# #Data-type of each column\n",
    "\n",
    "# transactions_2020_q3.printSchema()"
   ]
  },
  {
   "cell_type": "code",
   "execution_count": 0,
   "metadata": {
    "application/vnd.databricks.v1+cell": {
     "cellMetadata": {
      "byteLimit": 2048000,
      "rowLimit": 10000
     },
     "inputWidgets": {},
     "nuid": "fa3804ac-5bc5-4ef7-a8cc-70c1bafdfc91",
     "showTitle": false,
     "tableResultSettingsMap": {},
     "title": ""
    }
   },
   "outputs": [],
   "source": [
    "# #Total records\n",
    "\n",
    "# transactions_2020_q3.count()"
   ]
  },
  {
   "cell_type": "code",
   "execution_count": 0,
   "metadata": {
    "application/vnd.databricks.v1+cell": {
     "cellMetadata": {
      "byteLimit": 2048000,
      "rowLimit": 10000
     },
     "inputWidgets": {},
     "nuid": "8684c2d4-c0fc-43a8-bec4-569879a8b51a",
     "showTitle": false,
     "tableResultSettingsMap": {},
     "title": ""
    }
   },
   "outputs": [],
   "source": [
    "# #Descriptive stats on fine_amount column before cleaning the data\n",
    "\n",
    "# transactions_2020_q3.describe(\"fine_amount\").display()"
   ]
  },
  {
   "cell_type": "code",
   "execution_count": 0,
   "metadata": {
    "application/vnd.databricks.v1+cell": {
     "cellMetadata": {
      "byteLimit": 2048000,
      "rowLimit": 10000
     },
     "inputWidgets": {},
     "nuid": "d574f641-5ce3-4bc0-8677-0b150f6363c6",
     "showTitle": false,
     "tableResultSettingsMap": {},
     "title": ""
    }
   },
   "outputs": [],
   "source": [
    "# #Checking for missing values\n",
    "\n",
    "# transactions_2020_q3.select([sum(col(c).isNull().cast(\"int\")).alias(c) for c in transactions_2020_q3.columns]).display()\n",
    "\n",
    "# #return_date: 861 records are missing and payment_date: 14982 records are missing\n",
    "\n",
    "# #return_date 861 reflects how many students did not returned the book taken from library,\n",
    "# #payment_date 14982 reflects how many students did not paid the fine amount"
   ]
  },
  {
   "cell_type": "code",
   "execution_count": 0,
   "metadata": {
    "application/vnd.databricks.v1+cell": {
     "cellMetadata": {
      "byteLimit": 2048000,
      "rowLimit": 10000
     },
     "inputWidgets": {},
     "nuid": "59540fa9-d3c7-40b7-a961-45eb6769393e",
     "showTitle": false,
     "tableResultSettingsMap": {},
     "title": ""
    }
   },
   "outputs": [],
   "source": [
    "# #Checking how many duplicate rows we have\n",
    "\n",
    "# transactions_2020_q3.count() - transactions_2020_q3.distinct().count()  #total rows - unique rows"
   ]
  },
  {
   "cell_type": "code",
   "execution_count": 0,
   "metadata": {
    "application/vnd.databricks.v1+cell": {
     "cellMetadata": {
      "byteLimit": 2048000,
      "rowLimit": 10000
     },
     "inputWidgets": {},
     "nuid": "c154e9bb-d85a-4152-987a-b643416c938c",
     "showTitle": false,
     "tableResultSettingsMap": {},
     "title": ""
    }
   },
   "outputs": [],
   "source": [
    "# #Checking for duplicate rows for transaction_id unique column\n",
    "\n",
    "# #Find duplicate transaction_id values\n",
    "# duplicate_transaction_ids_q3_2020 = transactions_2020_q3.groupBy(\"transaction_id\").count().filter(col(\"count\") > 1).select(\"transaction_id\")\n",
    "\n",
    "# #Join back to original DataFrame to get all rows with duplicate transaction_id\n",
    "# duplicate_rows_transaction_ids_q3_2020 = transactions_2020_q3.join(duplicate_transaction_ids_q3_2020, on=\"transaction_id\", how=\"inner\")\n",
    "\n",
    "# #Show duplicate rows\n",
    "# display(duplicate_rows_transaction_ids_q3_2020)\n",
    "\n",
    "# #NO DUPLICATES RECORDS."
   ]
  },
  {
   "cell_type": "code",
   "execution_count": 0,
   "metadata": {
    "application/vnd.databricks.v1+cell": {
     "cellMetadata": {
      "byteLimit": 2048000,
      "rowLimit": 10000
     },
     "inputWidgets": {},
     "nuid": "a8af8622-9c51-461f-88aa-71186b0c7a5f",
     "showTitle": false,
     "tableResultSettingsMap": {},
     "title": ""
    }
   },
   "outputs": [],
   "source": [
    "# transactions_2020_q3.display()\n",
    "\n",
    "# #Need to remove _ values from transaction_id column"
   ]
  },
  {
   "cell_type": "code",
   "execution_count": 0,
   "metadata": {
    "application/vnd.databricks.v1+cell": {
     "cellMetadata": {
      "byteLimit": 2048000,
      "rowLimit": 10000
     },
     "inputWidgets": {},
     "nuid": "c3db1436-aa5e-4fd1-a8b9-c9bb269c9620",
     "showTitle": false,
     "tableResultSettingsMap": {},
     "title": ""
    }
   },
   "outputs": [],
   "source": [
    "# #Using Regular Expression to replace underscore with empty string\n",
    "# from pyspark.sql.functions import regexp_replace\n",
    "\n",
    "# #Remove underscores from transaction_id column\n",
    "# transactions_2020_q3 = transactions_2020_q3.withColumn(\"transaction_id\", regexp_replace(col(\"transaction_id\"), \"_\", \"\"))\n",
    "\n",
    "# #Show updated DataFrame\n",
    "# transactions_2020_q3.display(7)"
   ]
  },
  {
   "cell_type": "code",
   "execution_count": 0,
   "metadata": {
    "application/vnd.databricks.v1+cell": {
     "cellMetadata": {
      "byteLimit": 2048000,
      "rowLimit": 10000
     },
     "inputWidgets": {},
     "nuid": "ae5c8119-8f62-433f-b12b-2a4970c3255a",
     "showTitle": false,
     "tableResultSettingsMap": {},
     "title": ""
    }
   },
   "outputs": [],
   "source": [
    "# #Check for dates starting from DD- instead of YYYY-\n",
    "\n",
    "# transactions_2020_q3.select('issue_date','due_date','return_date','payment_date').display()\n",
    "\n",
    "# #payment_date COLUMN FORMAT IS NOT IN CORRECT FORMAT (YYYY-MM-DD)"
   ]
  },
  {
   "cell_type": "code",
   "execution_count": 0,
   "metadata": {
    "application/vnd.databricks.v1+cell": {
     "cellMetadata": {
      "byteLimit": 2048000,
      "rowLimit": 10000
     },
     "inputWidgets": {},
     "nuid": "71faae90-b647-4d28-b43c-a9094455de5d",
     "showTitle": false,
     "tableResultSettingsMap": {},
     "title": ""
    }
   },
   "outputs": [],
   "source": [
    "# #Convert payment_date (which has time) into proper date format (YYY-MM-DD)\n",
    "# from pyspark.sql.functions import to_date, to_timestamp\n",
    "\n",
    "# transactions_2020_q3 = transactions_2020_q3.withColumn(\n",
    "#     \"payment_date\",\n",
    "#     to_date(to_timestamp(col(\"payment_date\"), \"dd-MM-yyyy HH:mm\"))\n",
    "#     )\n",
    "\n",
    "# #Show updated values\n",
    "# transactions_2020_q3.select(\"payment_date\").display(50)"
   ]
  },
  {
   "cell_type": "code",
   "execution_count": 0,
   "metadata": {
    "application/vnd.databricks.v1+cell": {
     "cellMetadata": {
      "byteLimit": 2048000,
      "rowLimit": 10000
     },
     "inputWidgets": {},
     "nuid": "68048565-efd2-451a-b892-3bacc2169002",
     "showTitle": false,
     "tableResultSettingsMap": {},
     "title": ""
    }
   },
   "outputs": [],
   "source": [
    "# #Regular expression to match dates starting with DD-MM-YYYY (01-31 at the start)\n",
    "# date_pattern = r\"^[0-3][0-9]-[0-1][0-9]-[1-2][0-9]{3}$\"\n",
    "\n",
    "# #Check if any rows have DD-MM-YYYY format instead of YYYY-MM-DD\n",
    "# incorrect_dates = transactions_2020_q2.filter(\n",
    "#     col(\"issue_date\").rlike(date_pattern) | \n",
    "#     col(\"due_date\").rlike(date_pattern) | \n",
    "#     col(\"return_date\").rlike(date_pattern) |\n",
    "#     col(\"payment_date\").rlike(date_pattern)\n",
    "# )\n",
    "\n",
    "# #Show incorrect format dates\n",
    "# incorrect_dates.select(\"issue_date\", \"due_date\", \"return_date\", \"payment_date\").display(truncate=False)"
   ]
  },
  {
   "cell_type": "code",
   "execution_count": 0,
   "metadata": {
    "application/vnd.databricks.v1+cell": {
     "cellMetadata": {
      "byteLimit": 2048000,
      "rowLimit": 10000
     },
     "inputWidgets": {},
     "nuid": "f58fed94-0469-41c0-8e32-cbf59d3e9298",
     "showTitle": false,
     "tableResultSettingsMap": {},
     "title": ""
    }
   },
   "outputs": [],
   "source": [
    "# #Filter rows where book_id starts with 'bk' (lowercase) only\n",
    "\n",
    "# bk_lowercase_check = transactions_2020_q3.filter(\n",
    "#     col(\"book_id\").rlike(\"^bk[0-9]+$\")  #Matches bk001, bk105, etc.\n",
    "#     ).filter(~col(\"book_id\").rlike(\"^BK[0-9]+$\"))  #Excludes uppercase BK\n",
    "\n",
    "# #Show results\n",
    "# bk_lowercase_check.display()"
   ]
  },
  {
   "cell_type": "code",
   "execution_count": 0,
   "metadata": {
    "application/vnd.databricks.v1+cell": {
     "cellMetadata": {
      "byteLimit": 2048000,
      "rowLimit": 10000
     },
     "inputWidgets": {},
     "nuid": "4405aeb4-fc32-432b-ba5c-6798466a1f96",
     "showTitle": false,
     "tableResultSettingsMap": {},
     "title": ""
    }
   },
   "outputs": [],
   "source": [
    "# #Filter rows where copy_id starts with 'cp' instead of 'CP'\n",
    "# cp_lowercase_check = transactions_2020_q3.filter(col(\"copy_id\").rlike(\"^cp[0-9]+$\"))\n",
    "\n",
    "# #Show results\n",
    "# cp_lowercase_check.select('copy_id').display()"
   ]
  },
  {
   "cell_type": "code",
   "execution_count": 0,
   "metadata": {
    "application/vnd.databricks.v1+cell": {
     "cellMetadata": {
      "byteLimit": 2048000,
      "rowLimit": 10000
     },
     "inputWidgets": {},
     "nuid": "a1c07a48-6b89-4ea8-bb68-a195caf735d8",
     "showTitle": false,
     "tableResultSettingsMap": {},
     "title": ""
    }
   },
   "outputs": [],
   "source": [
    "# #Convert book_id to uppercase\n",
    "# transactions_2020_q3 = transactions_2020_q3.withColumn(\"book_id\", upper(col(\"book_id\")))\n",
    "\n",
    "# #Show updated DataFrame\n",
    "# transactions_2020_q3.display()"
   ]
  },
  {
   "cell_type": "code",
   "execution_count": 0,
   "metadata": {
    "application/vnd.databricks.v1+cell": {
     "cellMetadata": {
      "byteLimit": 2048000,
      "rowLimit": 10000
     },
     "inputWidgets": {},
     "nuid": "a8aa4313-5aa9-4b6e-9f5d-7faa522f1609",
     "showTitle": false,
     "tableResultSettingsMap": {},
     "title": ""
    }
   },
   "outputs": [],
   "source": [
    "# #Filter rows where book_id starts with 'bk' (lowercase) only\n",
    "\n",
    "# bk_lowercase_check = transactions_2020_q3.filter(\n",
    "#     col(\"book_id\").rlike(\"^bk[0-9]+$\")  #Matches bk001, bk105, etc.\n",
    "#     ).filter(~col(\"book_id\").rlike(\"^BK[0-9]+$\"))  #Excludes uppercase BK\n",
    "\n",
    "# #Show results\n",
    "# bk_lowercase_check.display()\n",
    "\n",
    "# #NO LOWER CASE VALUES IS PRESENT NOW IN book_id COLUMN."
   ]
  },
  {
   "cell_type": "code",
   "execution_count": 0,
   "metadata": {
    "application/vnd.databricks.v1+cell": {
     "cellMetadata": {
      "byteLimit": 2048000,
      "rowLimit": 10000
     },
     "inputWidgets": {},
     "nuid": "b66eade1-df88-41c8-b045-23e29574500f",
     "showTitle": false,
     "tableResultSettingsMap": {},
     "title": ""
    }
   },
   "outputs": [],
   "source": [
    "# #Convert copy_id to uppercase\n",
    "# transactions_2020_q3 = transactions_2020_q3.withColumn(\"copy_id\", upper(col(\"copy_id\")))\n",
    "\n",
    "# #Show updated DataFrame\n",
    "# transactions_2020_q3.display()"
   ]
  },
  {
   "cell_type": "code",
   "execution_count": 0,
   "metadata": {
    "application/vnd.databricks.v1+cell": {
     "cellMetadata": {
      "byteLimit": 2048000,
      "rowLimit": 10000
     },
     "inputWidgets": {},
     "nuid": "cadaf956-d050-430a-b9b3-cedb90cb0f85",
     "showTitle": false,
     "tableResultSettingsMap": {},
     "title": ""
    }
   },
   "outputs": [],
   "source": [
    "# #Filter rows where copy_id starts with 'cp' instead of 'CP'\n",
    "# cp_lowercase_check = transactions_2020_q3.filter(col(\"copy_id\").rlike(\"^cp[0-9]+$\"))\n",
    "\n",
    "# #Show results\n",
    "# cp_lowercase_check.select('copy_id').display() \n",
    "\n",
    "# #NO LOWER CASE VALUES IS PRESENT NOW IN copy_id COLUMN."
   ]
  },
  {
   "cell_type": "code",
   "execution_count": 0,
   "metadata": {
    "application/vnd.databricks.v1+cell": {
     "cellMetadata": {
      "byteLimit": 2048000,
      "rowLimit": 10000
     },
     "inputWidgets": {},
     "nuid": "dd2d6ef7-0842-42da-9df2-b9aa1b878847",
     "showTitle": false,
     "tableResultSettingsMap": {},
     "title": ""
    }
   },
   "outputs": [],
   "source": [
    "# #Upper cases values are present we want all values to be lower case\n",
    "\n",
    "# transactions_2020_q3.select('initial_status','final_status').distinct().display()"
   ]
  },
  {
   "cell_type": "code",
   "execution_count": 0,
   "metadata": {
    "application/vnd.databricks.v1+cell": {
     "cellMetadata": {
      "byteLimit": 2048000,
      "rowLimit": 10000
     },
     "inputWidgets": {},
     "nuid": "c4779920-afc9-4dfa-aaf5-fd211a94745a",
     "showTitle": false,
     "tableResultSettingsMap": {},
     "title": ""
    }
   },
   "outputs": [],
   "source": [
    "# #Convert initial_status and final_status to lowercase\n",
    "# transactions_2020_q3 = transactions_2020_q3.withColumn(\"initial_status\", lower(col(\"initial_status\"))) \\\n",
    "#                                            .withColumn(\"final_status\", lower(col(\"final_status\")))"
   ]
  },
  {
   "cell_type": "code",
   "execution_count": 0,
   "metadata": {
    "application/vnd.databricks.v1+cell": {
     "cellMetadata": {
      "byteLimit": 2048000,
      "rowLimit": 10000
     },
     "inputWidgets": {},
     "nuid": "73354848-6498-405d-aa63-10673cbf3ac2",
     "showTitle": false,
     "tableResultSettingsMap": {},
     "title": ""
    }
   },
   "outputs": [],
   "source": [
    "\n",
    "# #Show transformed DataFrame\n",
    "# transactions_2020_q3.select(\"initial_status\").distinct().display()\n",
    "\n",
    "# #Only one class in initial_status column"
   ]
  },
  {
   "cell_type": "markdown",
   "metadata": {
    "application/vnd.databricks.v1+cell": {
     "cellMetadata": {
      "byteLimit": 2048000,
      "rowLimit": 10000
     },
     "inputWidgets": {},
     "nuid": "c8187db1-04aa-46b2-a330-83d971977c53",
     "showTitle": false,
     "tableResultSettingsMap": {},
     "title": ""
    }
   },
   "source": [
    "\n",
    "####Saving transactions_2020_q3 dataset into Delta format under Silver "
   ]
  },
  {
   "cell_type": "code",
   "execution_count": 0,
   "metadata": {
    "application/vnd.databricks.v1+cell": {
     "cellMetadata": {
      "byteLimit": 2048000,
      "rowLimit": 10000
     },
     "inputWidgets": {},
     "nuid": "8c3de34e-80a0-4f57-a327-96e490bc7106",
     "showTitle": false,
     "tableResultSettingsMap": {},
     "title": ""
    }
   },
   "outputs": [],
   "source": [
    "# #Saving the data in delta format under silver location\n",
    "\n",
    "# transactions_2020_q3.write.format(\"delta\").mode(\"overwrite\").save(\"abfss://silver@lmsstorageaccount2025.dfs.core.windows.net/transactions_2020_Q3\")"
   ]
  },
  {
   "cell_type": "code",
   "execution_count": 0,
   "metadata": {
    "application/vnd.databricks.v1+cell": {
     "cellMetadata": {
      "byteLimit": 2048000,
      "implicitDf": true,
      "rowLimit": 10000
     },
     "inputWidgets": {},
     "nuid": "20d97ce5-aa0d-4534-a174-7131a46c4657",
     "showTitle": false,
     "tableResultSettingsMap": {},
     "title": ""
    }
   },
   "outputs": [],
   "source": [
    "# %sql\n",
    "# --Creating external table for the silver location in Unity Catalog\n",
    "# DROP TABLE IF EXISTS `lms-catalog`.silver.transactions_2020_q3;\n",
    "\n",
    "# CREATE TABLE `lms-catalog`.silver.transactions_2020_q3\n",
    "# USING DELTA\n",
    "# LOCATION 'abfss://silver@lmsstorageaccount2025.dfs.core.windows.net/transactions_2020_Q3';"
   ]
  },
  {
   "cell_type": "markdown",
   "metadata": {
    "application/vnd.databricks.v1+cell": {
     "cellMetadata": {
      "byteLimit": 2048000,
      "rowLimit": 10000
     },
     "inputWidgets": {},
     "nuid": "976be17c-3d1c-4e1d-a89d-1ddca7900239",
     "showTitle": false,
     "tableResultSettingsMap": {},
     "title": ""
    }
   },
   "source": [
    "####Transactions_2020_Q4 Table"
   ]
  },
  {
   "cell_type": "code",
   "execution_count": 0,
   "metadata": {
    "application/vnd.databricks.v1+cell": {
     "cellMetadata": {
      "byteLimit": 2048000,
      "rowLimit": 10000
     },
     "inputWidgets": {},
     "nuid": "01332483-a611-4c73-bca3-c11416a90b16",
     "showTitle": false,
     "tableResultSettingsMap": {},
     "title": ""
    }
   },
   "outputs": [],
   "source": [
    "# #Verifying if the files is present in container\n",
    "\n",
    "# dbutils.fs.ls(\"mnt/silver/\")"
   ]
  },
  {
   "cell_type": "code",
   "execution_count": 0,
   "metadata": {
    "application/vnd.databricks.v1+cell": {
     "cellMetadata": {
      "byteLimit": 2048000,
      "rowLimit": 10000
     },
     "inputWidgets": {},
     "nuid": "5705ee06-799d-4b2a-b7f1-34302a91fe4b",
     "showTitle": false,
     "tableResultSettingsMap": {},
     "title": ""
    }
   },
   "outputs": [],
   "source": [
    "# #Reading the data from silver location\n",
    "\n",
    "# transactions_2020_q4 = spark.read.csv('/mnt/silver/transactions_2020_Q4_raw.csv', header=True, inferSchema=True)\n",
    "\n",
    "# transactions_2020_q4.display()"
   ]
  },
  {
   "cell_type": "code",
   "execution_count": 0,
   "metadata": {
    "application/vnd.databricks.v1+cell": {
     "cellMetadata": {
      "byteLimit": 2048000,
      "rowLimit": 10000
     },
     "inputWidgets": {},
     "nuid": "0957bd41-6fe7-41f7-ba9e-f3dc0045ca23",
     "showTitle": false,
     "tableResultSettingsMap": {},
     "title": ""
    }
   },
   "outputs": [],
   "source": [
    "# #Checking data-type of each column\n",
    "\n",
    "# transactions_2020_q4.printSchema()"
   ]
  },
  {
   "cell_type": "code",
   "execution_count": 0,
   "metadata": {
    "application/vnd.databricks.v1+cell": {
     "cellMetadata": {
      "byteLimit": 2048000,
      "rowLimit": 10000
     },
     "inputWidgets": {},
     "nuid": "9f32017a-b305-47f6-8a57-39cc0687ffd1",
     "showTitle": false,
     "tableResultSettingsMap": {},
     "title": ""
    }
   },
   "outputs": [],
   "source": [
    "# #Total observation\n",
    "\n",
    "# transactions_2020_q4.count()"
   ]
  },
  {
   "cell_type": "code",
   "execution_count": 0,
   "metadata": {
    "application/vnd.databricks.v1+cell": {
     "cellMetadata": {
      "byteLimit": 2048000,
      "rowLimit": 10000
     },
     "inputWidgets": {},
     "nuid": "0a157a4e-52a9-4eb5-9eaf-dfbf76ad7b06",
     "showTitle": false,
     "tableResultSettingsMap": {},
     "title": ""
    }
   },
   "outputs": [],
   "source": [
    "# #Descriptive stats on fine_amount column before cleaning the data\n",
    "\n",
    "# transactions_2020_q4.describe(\"fine_amount\").display()"
   ]
  },
  {
   "cell_type": "code",
   "execution_count": 0,
   "metadata": {
    "application/vnd.databricks.v1+cell": {
     "cellMetadata": {
      "byteLimit": 2048000,
      "rowLimit": 10000
     },
     "inputWidgets": {},
     "nuid": "3579918a-2a85-417b-9ff5-1d5ddddc59b1",
     "showTitle": false,
     "tableResultSettingsMap": {},
     "title": ""
    }
   },
   "outputs": [],
   "source": [
    "# #Checking for missing values\n",
    "# transactions_2020_q4.select([sum(col(c).isNull().cast(\"int\")).alias(c) for c in transactions_2020_q4.columns]).display()\n",
    "\n",
    "# #return_date: 860 records are missing and payment_date: 15062 records are missing\n",
    "\n",
    "# #return_date 861 reflects how many students did not returned the book taken from library,\n",
    "# #payment_date 14982 reflects how many students did not paid the fine amount"
   ]
  },
  {
   "cell_type": "code",
   "execution_count": 0,
   "metadata": {
    "application/vnd.databricks.v1+cell": {
     "cellMetadata": {
      "byteLimit": 2048000,
      "rowLimit": 10000
     },
     "inputWidgets": {},
     "nuid": "a7424284-dcd9-4c60-8053-82796f8fab09",
     "showTitle": false,
     "tableResultSettingsMap": {},
     "title": ""
    }
   },
   "outputs": [],
   "source": [
    "# #Checking how many duplicate rows we have\n",
    "\n",
    "# transactions_2020_q4.count() - transactions_2020_q4.distinct().count()  #total rows - unique rows"
   ]
  },
  {
   "cell_type": "code",
   "execution_count": 0,
   "metadata": {
    "application/vnd.databricks.v1+cell": {
     "cellMetadata": {
      "byteLimit": 2048000,
      "rowLimit": 10000
     },
     "inputWidgets": {},
     "nuid": "fdfc7dba-ae20-4e8f-8305-258462aec3b6",
     "showTitle": false,
     "tableResultSettingsMap": {},
     "title": ""
    }
   },
   "outputs": [],
   "source": [
    "# #Checking for duplicate rows for transaction_id unique column\n",
    "\n",
    "# #Find duplicate transaction_id values\n",
    "# duplicate_transaction_ids_q4_2020 = transactions_2020_q4.groupBy(\"transaction_id\").count().filter(col(\"count\") > 1).select(\"transaction_id\")\n",
    "\n",
    "# #Join back to original DataFrame to get all rows with duplicate transaction_id\n",
    "# duplicate_rows_transaction_ids_q4_2020 = transactions_2020_q4.join(duplicate_transaction_ids_q4_2020, on=\"transaction_id\", how=\"inner\")\n",
    "\n",
    "# #Show duplicate rows\n",
    "# display(duplicate_rows_transaction_ids_q4_2020)\n",
    "\n",
    "# #NO DUPLICATES RECORDS."
   ]
  },
  {
   "cell_type": "code",
   "execution_count": 0,
   "metadata": {
    "application/vnd.databricks.v1+cell": {
     "cellMetadata": {
      "byteLimit": 2048000,
      "rowLimit": 10000
     },
     "inputWidgets": {},
     "nuid": "5fbf48e4-14cc-4609-9701-e630769d12e9",
     "showTitle": false,
     "tableResultSettingsMap": {},
     "title": ""
    }
   },
   "outputs": [],
   "source": [
    "# transactions_2020_q4.display()\n",
    "\n",
    "# #Need to remove _ values from transaction_id column"
   ]
  },
  {
   "cell_type": "code",
   "execution_count": 0,
   "metadata": {
    "application/vnd.databricks.v1+cell": {
     "cellMetadata": {
      "byteLimit": 2048000,
      "rowLimit": 10000
     },
     "inputWidgets": {},
     "nuid": "46e42e47-ae47-4785-aaca-92cc5f996556",
     "showTitle": false,
     "tableResultSettingsMap": {},
     "title": ""
    }
   },
   "outputs": [],
   "source": [
    "# #Using Regular Expression to replace underscore with empty string\n",
    "# from pyspark.sql.functions import regexp_replace\n",
    "\n",
    "# #Remove underscores from transaction_id column\n",
    "# transactions_2020_q4 = transactions_2020_q4.withColumn(\"transaction_id\", regexp_replace(col(\"transaction_id\"), \"_\", \"\"))\n",
    "\n",
    "# #Show updated DataFrame\n",
    "# transactions_2020_q4.display(7)"
   ]
  },
  {
   "cell_type": "code",
   "execution_count": 0,
   "metadata": {
    "application/vnd.databricks.v1+cell": {
     "cellMetadata": {
      "byteLimit": 2048000,
      "rowLimit": 10000
     },
     "inputWidgets": {},
     "nuid": "fa5f0eec-d00a-439f-9b3e-8d2ac1b7cf57",
     "showTitle": false,
     "tableResultSettingsMap": {},
     "title": ""
    }
   },
   "outputs": [],
   "source": [
    "# #Check for dates starting from DD- instead of YYYY-\n",
    "\n",
    "# transactions_2020_q4.select('issue_date','due_date','return_date','payment_date').display()\n",
    "\n",
    "# #payment_date COLUMN FORMAT IS NOT IN CORRECT FORMAT (YYYY-MM-DD)"
   ]
  },
  {
   "cell_type": "code",
   "execution_count": 0,
   "metadata": {
    "application/vnd.databricks.v1+cell": {
     "cellMetadata": {
      "byteLimit": 2048000,
      "rowLimit": 10000
     },
     "inputWidgets": {},
     "nuid": "47958bc3-6114-4234-8851-71a809dee4d2",
     "showTitle": false,
     "tableResultSettingsMap": {},
     "title": ""
    }
   },
   "outputs": [],
   "source": [
    "# #Convert payment_date (which has time) into proper date format (YYY-MM-DD)\n",
    "\n",
    "# transactions_2020_q4 = transactions_2020_q4.withColumn(\n",
    "#     \"payment_date\",\n",
    "#     to_date(to_timestamp(col(\"payment_date\"), \"dd-MM-yyyy HH:mm\"))\n",
    "#     )\n",
    "\n",
    "# #Show updated values\n",
    "# transactions_2020_q4.select(\"payment_date\").display(50, truncate=False)"
   ]
  },
  {
   "cell_type": "code",
   "execution_count": 0,
   "metadata": {
    "application/vnd.databricks.v1+cell": {
     "cellMetadata": {
      "byteLimit": 2048000,
      "rowLimit": 10000
     },
     "inputWidgets": {},
     "nuid": "6d1547f6-3e57-4fe7-b48f-bdb606fdd86c",
     "showTitle": false,
     "tableResultSettingsMap": {},
     "title": ""
    }
   },
   "outputs": [],
   "source": [
    "# #Regular expression to match dates starting with DD-MM-YYYY (01-31 at the start)\n",
    "# date_pattern = r\"^[0-3][0-9]-[0-1][0-9]-[1-2][0-9]{3}$\"\n",
    "\n",
    "# #Check if any rows have DD-MM-YYYY format instead of YYYY-MM-DD\n",
    "# incorrect_dates = transactions_2020_q4.filter(\n",
    "#     col(\"issue_date\").rlike(date_pattern) | \n",
    "#     col(\"due_date\").rlike(date_pattern) | \n",
    "#     col(\"return_date\").rlike(date_pattern) |\n",
    "#     col(\"payment_date\").rlike(date_pattern)\n",
    "# )\n",
    "\n",
    "# #Show incorrect format dates\n",
    "# incorrect_dates.select(\"issue_date\", \"due_date\", \"return_date\", \"payment_date\").display(truncate=False)"
   ]
  },
  {
   "cell_type": "code",
   "execution_count": 0,
   "metadata": {
    "application/vnd.databricks.v1+cell": {
     "cellMetadata": {
      "byteLimit": 2048000,
      "rowLimit": 10000
     },
     "inputWidgets": {},
     "nuid": "8acebc55-545e-4bfd-818f-33c7297a0744",
     "showTitle": false,
     "tableResultSettingsMap": {},
     "title": ""
    }
   },
   "outputs": [],
   "source": [
    "# #Filter rows where book_id starts with 'bk' (lowercase) only\n",
    "\n",
    "# bk_lowercase_check = transactions_2020_q4.filter(\n",
    "#     col(\"book_id\").rlike(\"^bk[0-9]+$\")  #Matches bk001, bk105, etc.\n",
    "#     ).filter(~col(\"book_id\").rlike(\"^BK[0-9]+$\"))  #Excludes uppercase BK\n",
    "\n",
    "# #Show results\n",
    "# bk_lowercase_check.display()"
   ]
  },
  {
   "cell_type": "code",
   "execution_count": 0,
   "metadata": {
    "application/vnd.databricks.v1+cell": {
     "cellMetadata": {
      "byteLimit": 2048000,
      "rowLimit": 10000
     },
     "inputWidgets": {},
     "nuid": "ad0525a3-e203-432d-a964-a737991ff4ff",
     "showTitle": false,
     "tableResultSettingsMap": {},
     "title": ""
    }
   },
   "outputs": [],
   "source": [
    "# #Filter rows where copy_id starts with 'cp' instead of 'CP'\n",
    "# cp_lowercase_check = transactions_2020_q4.filter(col(\"copy_id\").rlike(\"^cp[0-9]+$\"))\n",
    "\n",
    "# #Show results\n",
    "# cp_lowercase_check.select('copy_id').display()"
   ]
  },
  {
   "cell_type": "code",
   "execution_count": 0,
   "metadata": {
    "application/vnd.databricks.v1+cell": {
     "cellMetadata": {
      "byteLimit": 2048000,
      "rowLimit": 10000
     },
     "inputWidgets": {},
     "nuid": "306fd0d0-1a16-4c94-b59f-5821bf8e2d9b",
     "showTitle": false,
     "tableResultSettingsMap": {},
     "title": ""
    }
   },
   "outputs": [],
   "source": [
    "# #Convert book_id to uppercase\n",
    "# transactions_2020_q4 = transactions_2020_q4.withColumn(\"book_id\", upper(col(\"book_id\")))"
   ]
  },
  {
   "cell_type": "code",
   "execution_count": 0,
   "metadata": {
    "application/vnd.databricks.v1+cell": {
     "cellMetadata": {
      "byteLimit": 2048000,
      "rowLimit": 10000
     },
     "inputWidgets": {},
     "nuid": "c9ef92b0-8759-4f64-a480-6a4348f5a391",
     "showTitle": false,
     "tableResultSettingsMap": {},
     "title": ""
    }
   },
   "outputs": [],
   "source": [
    "# #Filter rows where book_id starts with 'bk' (lowercase) only\n",
    "\n",
    "# bk_lowercase_check = transactions_2020_q4.filter(\n",
    "#     col(\"book_id\").rlike(\"^bk[0-9]+$\")  #Matches bk001, bk105, etc.\n",
    "#     ).filter(~col(\"book_id\").rlike(\"^BK[0-9]+$\"))  #Excludes uppercase BK\n",
    "\n",
    "# #Show results\n",
    "# bk_lowercase_check.display()\n",
    "\n",
    "# #NO LOWER CASE VALUES IS PRESENT NOW IN book_id COLUMN."
   ]
  },
  {
   "cell_type": "code",
   "execution_count": 0,
   "metadata": {
    "application/vnd.databricks.v1+cell": {
     "cellMetadata": {
      "byteLimit": 2048000,
      "rowLimit": 10000
     },
     "inputWidgets": {},
     "nuid": "b3426c3b-d9b6-4e96-bb90-69f6c085e977",
     "showTitle": false,
     "tableResultSettingsMap": {},
     "title": ""
    }
   },
   "outputs": [],
   "source": [
    "# #Convert copy_id to uppercase\n",
    "# transactions_2020_q4 = transactions_2020_q4.withColumn(\"copy_id\", upper(col(\"copy_id\")))"
   ]
  },
  {
   "cell_type": "code",
   "execution_count": 0,
   "metadata": {
    "application/vnd.databricks.v1+cell": {
     "cellMetadata": {
      "byteLimit": 2048000,
      "rowLimit": 10000
     },
     "inputWidgets": {},
     "nuid": "c2e64345-6a2c-42c0-8082-b50a86333b4b",
     "showTitle": false,
     "tableResultSettingsMap": {},
     "title": ""
    }
   },
   "outputs": [],
   "source": [
    "# #Filter rows where copy_id starts with 'cp' instead of 'CP'\n",
    "# cp_lowercase_check = transactions_2020_q4.filter(col(\"copy_id\").rlike(\"^cp[0-9]+$\"))\n",
    "\n",
    "# #Show results\n",
    "# cp_lowercase_check.select('copy_id').display() \n",
    "\n",
    "# #NO LOWER CASE VALUES IS PRESENT NOW IN copy_id COLUMN."
   ]
  },
  {
   "cell_type": "code",
   "execution_count": 0,
   "metadata": {
    "application/vnd.databricks.v1+cell": {
     "cellMetadata": {
      "byteLimit": 2048000,
      "rowLimit": 10000
     },
     "inputWidgets": {},
     "nuid": "025acb5c-b4f3-4200-b1f8-2001d9c3b6ff",
     "showTitle": false,
     "tableResultSettingsMap": {},
     "title": ""
    }
   },
   "outputs": [],
   "source": [
    "# #Upper cases values are present we want all values to be lower case\n",
    "\n",
    "# transactions_2020_q4.select('initial_status','final_status').distinct().display()"
   ]
  },
  {
   "cell_type": "code",
   "execution_count": 0,
   "metadata": {
    "application/vnd.databricks.v1+cell": {
     "cellMetadata": {
      "byteLimit": 2048000,
      "rowLimit": 10000
     },
     "inputWidgets": {},
     "nuid": "3230a671-12c9-41a6-8be9-7193e0f2828a",
     "showTitle": false,
     "tableResultSettingsMap": {},
     "title": ""
    }
   },
   "outputs": [],
   "source": [
    "# #Convert initial_status and final_status to lowercase\n",
    "# transactions_2020_q4 = transactions_2020_q4.withColumn(\"initial_status\", lower(col(\"initial_status\"))) \\\n",
    "#                                            .withColumn(\"final_status\", lower(col(\"final_status\")))\n",
    "\n",
    "# #Show transformed DataFrame\n",
    "# transactions_2020_q4.select(\"initial_status\").distinct().display()\n",
    "\n",
    "# #Only one class in initial_status column"
   ]
  },
  {
   "cell_type": "markdown",
   "metadata": {
    "application/vnd.databricks.v1+cell": {
     "cellMetadata": {
      "byteLimit": 2048000,
      "rowLimit": 10000
     },
     "inputWidgets": {},
     "nuid": "be41948e-48fe-4613-b5d6-68bc887eec69",
     "showTitle": false,
     "tableResultSettingsMap": {},
     "title": ""
    }
   },
   "source": [
    "\n",
    "####Saving transactions_2020_q4 dataset into Delta format under Silver "
   ]
  },
  {
   "cell_type": "code",
   "execution_count": 0,
   "metadata": {
    "application/vnd.databricks.v1+cell": {
     "cellMetadata": {
      "byteLimit": 2048000,
      "rowLimit": 10000
     },
     "inputWidgets": {},
     "nuid": "0432e1a3-312a-4610-85a7-22e13c953878",
     "showTitle": false,
     "tableResultSettingsMap": {},
     "title": ""
    }
   },
   "outputs": [],
   "source": [
    "# #Saving the data in delta format under silver location\n",
    "\n",
    "# transactions_2020_q4.write.format(\"delta\").mode(\"overwrite\").save(\"abfss://silver@lmsstorageaccount2025.dfs.core.windows.net/transactions_2020_Q4\")"
   ]
  },
  {
   "cell_type": "code",
   "execution_count": 0,
   "metadata": {
    "application/vnd.databricks.v1+cell": {
     "cellMetadata": {
      "byteLimit": 2048000,
      "implicitDf": true,
      "rowLimit": 10000
     },
     "inputWidgets": {},
     "nuid": "fa52eb23-e805-46e1-b338-220269ed108d",
     "showTitle": false,
     "tableResultSettingsMap": {},
     "title": ""
    }
   },
   "outputs": [],
   "source": [
    "# %sql\n",
    "# --Creating external table for the silver location in Unity Catalog\n",
    "# DROP TABLE IF EXISTS `lms-catalog`.silver.transactions_2020_q4;\n",
    "\n",
    "# CREATE TABLE `lms-catalog`.silver.transactions_2020_q4\n",
    "# USING DELTA\n",
    "# LOCATION 'abfss://silver@lmsstorageaccount2025.dfs.core.windows.net/transactions_2020_Q4';"
   ]
  },
  {
   "cell_type": "markdown",
   "metadata": {
    "application/vnd.databricks.v1+cell": {
     "cellMetadata": {
      "byteLimit": 2048000,
      "rowLimit": 10000
     },
     "inputWidgets": {},
     "nuid": "17742027-8d3e-481f-b385-578785cce7aa",
     "showTitle": false,
     "tableResultSettingsMap": {},
     "title": ""
    }
   },
   "source": [
    "####Transactions_2021_Q1 Table"
   ]
  },
  {
   "cell_type": "code",
   "execution_count": 0,
   "metadata": {
    "application/vnd.databricks.v1+cell": {
     "cellMetadata": {
      "byteLimit": 2048000,
      "rowLimit": 10000
     },
     "inputWidgets": {},
     "nuid": "e272915d-b36b-4d82-adde-2e8526c6cc86",
     "showTitle": false,
     "tableResultSettingsMap": {},
     "title": ""
    }
   },
   "outputs": [],
   "source": [
    "# #Checking if file is present in ADLS Gen2 or not\n",
    "\n",
    "# dbutils.fs.ls('/mnt/silver')"
   ]
  },
  {
   "cell_type": "code",
   "execution_count": 0,
   "metadata": {
    "application/vnd.databricks.v1+cell": {
     "cellMetadata": {
      "byteLimit": 2048000,
      "rowLimit": 10000
     },
     "inputWidgets": {},
     "nuid": "9ec410cf-62db-489a-be4f-0c6ac86c4a38",
     "showTitle": false,
     "tableResultSettingsMap": {},
     "title": ""
    }
   },
   "outputs": [],
   "source": [
    "# #Reading the data from silver location\n",
    "\n",
    "# transactions_2021_q1 = spark.read.csv('/mnt/silver/transactions_2021_Q1_raw.csv', header=True, inferSchema=True)\n",
    "\n",
    "# transactions_2021_q1.display()"
   ]
  },
  {
   "cell_type": "code",
   "execution_count": 0,
   "metadata": {
    "application/vnd.databricks.v1+cell": {
     "cellMetadata": {
      "byteLimit": 2048000,
      "rowLimit": 10000
     },
     "inputWidgets": {},
     "nuid": "39f70659-fe5e-4d3e-a2c3-ba55b93b7399",
     "showTitle": false,
     "tableResultSettingsMap": {},
     "title": ""
    }
   },
   "outputs": [],
   "source": [
    "# #Data-type of each column\n",
    "\n",
    "# transactions_2021_q1.printSchema()"
   ]
  },
  {
   "cell_type": "code",
   "execution_count": 0,
   "metadata": {
    "application/vnd.databricks.v1+cell": {
     "cellMetadata": {
      "byteLimit": 2048000,
      "rowLimit": 10000
     },
     "inputWidgets": {},
     "nuid": "4fb80a45-d46e-4661-b09c-1c895c1d674b",
     "showTitle": false,
     "tableResultSettingsMap": {},
     "title": ""
    }
   },
   "outputs": [],
   "source": [
    "# #Total records\n",
    "\n",
    "# transactions_2021_q1.count()"
   ]
  },
  {
   "cell_type": "code",
   "execution_count": 0,
   "metadata": {
    "application/vnd.databricks.v1+cell": {
     "cellMetadata": {
      "byteLimit": 2048000,
      "rowLimit": 10000
     },
     "inputWidgets": {},
     "nuid": "7ac5bca9-2a37-491d-9d02-6dcdfd23b0cc",
     "showTitle": false,
     "tableResultSettingsMap": {},
     "title": ""
    }
   },
   "outputs": [],
   "source": [
    "# #Descriptive stats on fine_amount column before cleaning the data\n",
    "\n",
    "# transactions_2021_q1.describe(\"fine_amount\").display()"
   ]
  },
  {
   "cell_type": "code",
   "execution_count": 0,
   "metadata": {
    "application/vnd.databricks.v1+cell": {
     "cellMetadata": {
      "byteLimit": 2048000,
      "rowLimit": 10000
     },
     "inputWidgets": {},
     "nuid": "00d04a17-bd5c-46f8-9724-59e781eca515",
     "showTitle": false,
     "tableResultSettingsMap": {},
     "title": ""
    }
   },
   "outputs": [],
   "source": [
    "# #Checking for missing values\n",
    "\n",
    "# transactions_2021_q1.select([sum(col(c).isNull().cast(\"int\")).alias(c) for c in transactions_2021_q1.columns]).display()\n",
    "\n",
    "# #return_date: 847 records are missing and payment_date: 14594 records are missing\n",
    "\n",
    "# #return_date 847 reflects how many students did not returned the book taken from library,\n",
    "# #payment_date 14594 reflects how many students did not paid the fine amount"
   ]
  },
  {
   "cell_type": "code",
   "execution_count": 0,
   "metadata": {
    "application/vnd.databricks.v1+cell": {
     "cellMetadata": {
      "byteLimit": 2048000,
      "rowLimit": 10000
     },
     "inputWidgets": {},
     "nuid": "7224a0b0-409d-4889-933a-a0cbd324a5c9",
     "showTitle": false,
     "tableResultSettingsMap": {},
     "title": ""
    }
   },
   "outputs": [],
   "source": [
    "# #Checking how many duplicate rows we have\n",
    "\n",
    "# transactions_2021_q1.count() - transactions_2021_q1.distinct().count()  #total rows - unique rows"
   ]
  },
  {
   "cell_type": "code",
   "execution_count": 0,
   "metadata": {
    "application/vnd.databricks.v1+cell": {
     "cellMetadata": {
      "byteLimit": 2048000,
      "rowLimit": 10000
     },
     "inputWidgets": {},
     "nuid": "46416d1e-8982-405b-853f-23570c3b4719",
     "showTitle": false,
     "tableResultSettingsMap": {},
     "title": ""
    }
   },
   "outputs": [],
   "source": [
    "# #Using Regular Expression to replace underscore with empty string in transaction_id column\n",
    "# from pyspark.sql.functions import regexp_replace\n",
    "\n",
    "# #Remove underscores from transaction_id column\n",
    "# transactions_2021_q1 = transactions_2021_q1.withColumn(\"transaction_id\", regexp_replace(col(\"transaction_id\"), \"_\", \"\"))\n",
    "\n",
    "# #Show updated DataFrame\n",
    "# transactions_2021_q1.display(7)"
   ]
  },
  {
   "cell_type": "code",
   "execution_count": 0,
   "metadata": {
    "application/vnd.databricks.v1+cell": {
     "cellMetadata": {
      "byteLimit": 2048000,
      "rowLimit": 10000
     },
     "inputWidgets": {},
     "nuid": "9abe4f64-7558-4af7-9117-b4318db4ded9",
     "showTitle": false,
     "tableResultSettingsMap": {},
     "title": ""
    }
   },
   "outputs": [],
   "source": [
    "# #Convert payment_date (which has time) into proper date format (YYY-MM-DD)\n",
    "# from pyspark.sql.functions import to_date, to_timestamp\n",
    "\n",
    "# transactions_2021_q1 = transactions_2021_q1.withColumn(\n",
    "#     \"payment_date\",\n",
    "#     to_date(to_timestamp(col(\"payment_date\"), \"dd-MM-yyyy HH:mm\"))\n",
    "#     )\n",
    "\n",
    "# #Show updated values\n",
    "# transactions_2021_q1.select(\"payment_date\").display(50)"
   ]
  },
  {
   "cell_type": "code",
   "execution_count": 0,
   "metadata": {
    "application/vnd.databricks.v1+cell": {
     "cellMetadata": {
      "byteLimit": 2048000,
      "rowLimit": 10000
     },
     "inputWidgets": {},
     "nuid": "55816c1b-44a8-4860-8f54-4f05a05ff79e",
     "showTitle": false,
     "tableResultSettingsMap": {},
     "title": ""
    }
   },
   "outputs": [],
   "source": [
    "# #Regular expression to match dates starting with DD-MM-YYYY (01-31 at the start)\n",
    "# date_pattern = r\"^[0-3][0-9]-[0-1][0-9]-[1-2][0-9]{3}$\"\n",
    "\n",
    "# #Check if any rows have DD-MM-YYYY format instead of YYYY-MM-DD\n",
    "# incorrect_dates = transactions_2021_q1.filter(\n",
    "#     col(\"issue_date\").rlike(date_pattern) | \n",
    "#     col(\"due_date\").rlike(date_pattern) | \n",
    "#     col(\"return_date\").rlike(date_pattern) |\n",
    "#     col(\"payment_date\").rlike(date_pattern)\n",
    "# )\n",
    "\n",
    "# #Show incorrect format dates\n",
    "# incorrect_dates.select(\"issue_date\", \"due_date\", \"return_date\", \"payment_date\").display(truncate=False)"
   ]
  },
  {
   "cell_type": "code",
   "execution_count": 0,
   "metadata": {
    "application/vnd.databricks.v1+cell": {
     "cellMetadata": {
      "byteLimit": 2048000,
      "rowLimit": 10000
     },
     "inputWidgets": {},
     "nuid": "e56e8e85-43bb-4fbb-8a48-cdf0f5b2965e",
     "showTitle": false,
     "tableResultSettingsMap": {},
     "title": ""
    }
   },
   "outputs": [],
   "source": [
    "# #Filter rows where book_id starts with 'bk' (lowercase) only\n",
    "\n",
    "# bk_lowercase_check = transactions_2021_q1.filter(\n",
    "#     col(\"book_id\").rlike(\"^bk[0-9]+$\")  #Matches bk001, bk105, etc.\n",
    "#     ).filter(~col(\"book_id\").rlike(\"^BK[0-9]+$\"))  #Excludes uppercase BK\n",
    "\n",
    "# #Show results\n",
    "# bk_lowercase_check.display()"
   ]
  },
  {
   "cell_type": "code",
   "execution_count": 0,
   "metadata": {
    "application/vnd.databricks.v1+cell": {
     "cellMetadata": {
      "byteLimit": 2048000,
      "rowLimit": 10000
     },
     "inputWidgets": {},
     "nuid": "253f1da1-1564-46c4-9815-ad81c8d7b11a",
     "showTitle": false,
     "tableResultSettingsMap": {},
     "title": ""
    }
   },
   "outputs": [],
   "source": [
    "# #Filter rows where copy_id starts with 'cp' instead of 'CP'\n",
    "# cp_lowercase_check = transactions_2021_q1.filter(col(\"copy_id\").rlike(\"^cp[0-9]+$\"))\n",
    "\n",
    "# #Show results\n",
    "# cp_lowercase_check.select('copy_id').display()"
   ]
  },
  {
   "cell_type": "code",
   "execution_count": 0,
   "metadata": {
    "application/vnd.databricks.v1+cell": {
     "cellMetadata": {
      "byteLimit": 2048000,
      "rowLimit": 10000
     },
     "inputWidgets": {},
     "nuid": "dbeac9d6-4470-4402-bef0-a762811063f6",
     "showTitle": false,
     "tableResultSettingsMap": {},
     "title": ""
    }
   },
   "outputs": [],
   "source": [
    "# #Convert book_id to uppercase\n",
    "# transactions_2021_q1 = transactions_2021_q1.withColumn(\"book_id\", upper(col(\"book_id\")))"
   ]
  },
  {
   "cell_type": "code",
   "execution_count": 0,
   "metadata": {
    "application/vnd.databricks.v1+cell": {
     "cellMetadata": {
      "byteLimit": 2048000,
      "rowLimit": 10000
     },
     "inputWidgets": {},
     "nuid": "d5f796f3-7b68-4d62-8a6e-c1f5f68b77c0",
     "showTitle": false,
     "tableResultSettingsMap": {},
     "title": ""
    }
   },
   "outputs": [],
   "source": [
    "# #Convert copy_id to uppercase\n",
    "# transactions_2021_q1 = transactions_2021_q1.withColumn(\"copy_id\", upper(col(\"copy_id\")))"
   ]
  },
  {
   "cell_type": "code",
   "execution_count": 0,
   "metadata": {
    "application/vnd.databricks.v1+cell": {
     "cellMetadata": {
      "byteLimit": 2048000,
      "rowLimit": 10000
     },
     "inputWidgets": {},
     "nuid": "bd8af1a1-f129-418d-b2c5-811f37e6ebab",
     "showTitle": false,
     "tableResultSettingsMap": {},
     "title": ""
    }
   },
   "outputs": [],
   "source": [
    "# #Filter rows where book_id starts with 'bk' (lowercase) only\n",
    "\n",
    "# bk_lowercase_check = transactions_2021_q1.filter(\n",
    "#     col(\"book_id\").rlike(\"^bk[0-9]+$\")  #Matches bk001, bk105, etc.\n",
    "#     ).filter(~col(\"book_id\").rlike(\"^BK[0-9]+$\"))  #Excludes uppercase BK\n",
    "\n",
    "# #Show results\n",
    "# bk_lowercase_check.display()\n",
    "\n",
    "# #NO LOWER CASE VALUES IS PRESENT NOW IN book_id COLUMN."
   ]
  },
  {
   "cell_type": "code",
   "execution_count": 0,
   "metadata": {
    "application/vnd.databricks.v1+cell": {
     "cellMetadata": {
      "byteLimit": 2048000,
      "rowLimit": 10000
     },
     "inputWidgets": {},
     "nuid": "2fbe7f67-5a0a-4224-879f-fadd8ab93dbf",
     "showTitle": false,
     "tableResultSettingsMap": {},
     "title": ""
    }
   },
   "outputs": [],
   "source": [
    "# #Filter rows where copy_id starts with 'cp' instead of 'CP'\n",
    "# cp_lowercase_check = transactions_2021_q1.filter(col(\"copy_id\").rlike(\"^cp[0-9]+$\"))\n",
    "\n",
    "# #Show results\n",
    "# cp_lowercase_check.select('copy_id').display() \n",
    "\n",
    "# #NO LOWER CASE VALUES IS PRESENT NOW IN copy_id COLUMN."
   ]
  },
  {
   "cell_type": "code",
   "execution_count": 0,
   "metadata": {
    "application/vnd.databricks.v1+cell": {
     "cellMetadata": {
      "byteLimit": 2048000,
      "rowLimit": 10000
     },
     "inputWidgets": {},
     "nuid": "a78a4113-b5c2-4675-bf3a-fcc553baf3b5",
     "showTitle": false,
     "tableResultSettingsMap": {},
     "title": ""
    }
   },
   "outputs": [],
   "source": [
    "# #Upper cases values are present we want all values to be lower case\n",
    "\n",
    "# transactions_2021_q1.select('initial_status','final_status').distinct().display()"
   ]
  },
  {
   "cell_type": "code",
   "execution_count": 0,
   "metadata": {
    "application/vnd.databricks.v1+cell": {
     "cellMetadata": {
      "byteLimit": 2048000,
      "rowLimit": 10000
     },
     "inputWidgets": {},
     "nuid": "14b68605-4943-462d-aa6e-5feb78233f30",
     "showTitle": false,
     "tableResultSettingsMap": {},
     "title": ""
    }
   },
   "outputs": [],
   "source": [
    "# #Convert initial_status and final_status values to lowercase\n",
    "# transactions_2021_q1 = transactions_2021_q1.withColumn(\"initial_status\", lower(col(\"initial_status\"))) \\\n",
    "#                                            .withColumn(\"final_status\", lower(col(\"final_status\")))\n",
    "\n",
    "# #Show transformed DataFrame\n",
    "# transactions_2021_q1.select(\"initial_status\").distinct().display()\n",
    "\n",
    "# #Only one class in initial_status column"
   ]
  },
  {
   "cell_type": "markdown",
   "metadata": {
    "application/vnd.databricks.v1+cell": {
     "cellMetadata": {
      "byteLimit": 2048000,
      "rowLimit": 10000
     },
     "inputWidgets": {},
     "nuid": "b8be9786-cabc-4a07-aa02-b5d7f40178cd",
     "showTitle": false,
     "tableResultSettingsMap": {},
     "title": ""
    }
   },
   "source": [
    "\n",
    "####Saving transactions_2021_q1 dataset into Delta format under Silver "
   ]
  },
  {
   "cell_type": "code",
   "execution_count": 0,
   "metadata": {
    "application/vnd.databricks.v1+cell": {
     "cellMetadata": {
      "byteLimit": 2048000,
      "rowLimit": 10000
     },
     "inputWidgets": {},
     "nuid": "d1cc7aa3-2afc-4ade-a256-570bc941e98d",
     "showTitle": false,
     "tableResultSettingsMap": {},
     "title": ""
    }
   },
   "outputs": [],
   "source": [
    "# #Saving the data in delta format under silver location\n",
    "\n",
    "# transactions_2021_q1.write.format(\"delta\").mode(\"overwrite\").save(\"abfss://silver@lmsstorageaccount2025.dfs.core.windows.net/transactions_2021_Q1\")"
   ]
  },
  {
   "cell_type": "code",
   "execution_count": 0,
   "metadata": {
    "application/vnd.databricks.v1+cell": {
     "cellMetadata": {
      "byteLimit": 2048000,
      "implicitDf": true,
      "rowLimit": 10000
     },
     "inputWidgets": {},
     "nuid": "e67f0366-41a6-4f1e-8d7f-4de1b7c57664",
     "showTitle": false,
     "tableResultSettingsMap": {},
     "title": ""
    }
   },
   "outputs": [],
   "source": [
    "# %sql\n",
    "# --Creating external table for the silver location in Unity Catalog\n",
    "# DROP TABLE IF EXISTS `lms-catalog`.silver.transactions_2021_q1;\n",
    "\n",
    "# CREATE TABLE `lms-catalog`.silver.transactions_2021_q1\n",
    "# USING DELTA\n",
    "# LOCATION 'abfss://silver@lmsstorageaccount2025.dfs.core.windows.net/transactions_2021_Q1';"
   ]
  },
  {
   "cell_type": "markdown",
   "metadata": {
    "application/vnd.databricks.v1+cell": {
     "cellMetadata": {
      "byteLimit": 2048000,
      "rowLimit": 10000
     },
     "inputWidgets": {},
     "nuid": "e2f54479-c3cc-4fe7-8ad1-8af45275f040",
     "showTitle": false,
     "tableResultSettingsMap": {},
     "title": ""
    }
   },
   "source": [
    "####Transactions_2021_Q2 Table"
   ]
  },
  {
   "cell_type": "code",
   "execution_count": 0,
   "metadata": {
    "application/vnd.databricks.v1+cell": {
     "cellMetadata": {
      "byteLimit": 2048000,
      "rowLimit": 10000
     },
     "inputWidgets": {},
     "nuid": "f574244e-4c0e-4bb8-a669-d9d677939486",
     "showTitle": false,
     "tableResultSettingsMap": {},
     "title": ""
    }
   },
   "outputs": [],
   "source": [
    "# #Verifying the file location\n",
    "\n",
    "# display(dbutils.fs.ls('mnt/silver'))"
   ]
  },
  {
   "cell_type": "code",
   "execution_count": 0,
   "metadata": {
    "application/vnd.databricks.v1+cell": {
     "cellMetadata": {
      "byteLimit": 2048000,
      "rowLimit": 10000
     },
     "inputWidgets": {},
     "nuid": "428868ab-45bc-4395-bfb9-451012e4f237",
     "showTitle": false,
     "tableResultSettingsMap": {},
     "title": ""
    }
   },
   "outputs": [],
   "source": [
    "# #Reading the data from silver location\n",
    "\n",
    "# transactions_2021_q2 = spark.read.csv('/mnt/silver/transactions_2021_Q2_raw.csv', header=True, inferSchema=True)\n",
    "\n",
    "# transactions_2021_q2.display()"
   ]
  },
  {
   "cell_type": "code",
   "execution_count": 0,
   "metadata": {
    "application/vnd.databricks.v1+cell": {
     "cellMetadata": {
      "byteLimit": 2048000,
      "rowLimit": 10000
     },
     "inputWidgets": {},
     "nuid": "50df50bf-d054-489e-b749-b501b34ff043",
     "showTitle": false,
     "tableResultSettingsMap": {},
     "title": ""
    }
   },
   "outputs": [],
   "source": [
    "# #Data-type of each column\n",
    "\n",
    "# transactions_2021_q2.printSchema()"
   ]
  },
  {
   "cell_type": "code",
   "execution_count": 0,
   "metadata": {
    "application/vnd.databricks.v1+cell": {
     "cellMetadata": {
      "byteLimit": 2048000,
      "rowLimit": 10000
     },
     "inputWidgets": {},
     "nuid": "ea5f7dcf-9b90-4e1a-9e0a-0c36f1994334",
     "showTitle": false,
     "tableResultSettingsMap": {},
     "title": ""
    }
   },
   "outputs": [],
   "source": [
    "# #Total records\n",
    "\n",
    "# transactions_2021_q2.count()"
   ]
  },
  {
   "cell_type": "code",
   "execution_count": 0,
   "metadata": {
    "application/vnd.databricks.v1+cell": {
     "cellMetadata": {
      "byteLimit": 2048000,
      "rowLimit": 10000
     },
     "inputWidgets": {},
     "nuid": "4630c048-defd-42a5-8db8-2524960801d0",
     "showTitle": false,
     "tableResultSettingsMap": {},
     "title": ""
    }
   },
   "outputs": [],
   "source": [
    "# #Descriptive stats on fine_amount column before cleaning the data\n",
    "\n",
    "# transactions_2021_q2.describe(\"fine_amount\").display()"
   ]
  },
  {
   "cell_type": "code",
   "execution_count": 0,
   "metadata": {
    "application/vnd.databricks.v1+cell": {
     "cellMetadata": {
      "byteLimit": 2048000,
      "rowLimit": 10000
     },
     "inputWidgets": {},
     "nuid": "1827ae1a-025a-46ea-a629-e63264c38f5d",
     "showTitle": false,
     "tableResultSettingsMap": {},
     "title": ""
    }
   },
   "outputs": [],
   "source": [
    "# #Checking for missing values\n",
    "\n",
    "# transactions_2021_q2.select([sum(col(c).isNull().cast(\"int\")).alias(c) for c in transactions_2021_q2.columns]).display()\n",
    "\n",
    "# #return_date: 559 records are missing and payment_date: 14982 records are missing\n",
    "\n",
    "# #return_date 559 reflects how many students did not returned the book taken from library,\n",
    "# #payment_date 9809 reflects how many students did not paid the fine amount"
   ]
  },
  {
   "cell_type": "code",
   "execution_count": 0,
   "metadata": {
    "application/vnd.databricks.v1+cell": {
     "cellMetadata": {
      "byteLimit": 2048000,
      "rowLimit": 10000
     },
     "inputWidgets": {},
     "nuid": "3e8df1ad-4966-497e-8bb6-0fe0de161632",
     "showTitle": false,
     "tableResultSettingsMap": {},
     "title": ""
    }
   },
   "outputs": [],
   "source": [
    "# #Checking how many duplicate rows we have\n",
    "\n",
    "# transactions_2021_q2.count() - transactions_2021_q2.distinct().count()  #total rows - unique rows"
   ]
  },
  {
   "cell_type": "code",
   "execution_count": 0,
   "metadata": {
    "application/vnd.databricks.v1+cell": {
     "cellMetadata": {
      "byteLimit": 2048000,
      "rowLimit": 10000
     },
     "inputWidgets": {},
     "nuid": "ac66161e-9e12-498c-b343-0d7d238daaf9",
     "showTitle": false,
     "tableResultSettingsMap": {},
     "title": ""
    }
   },
   "outputs": [],
   "source": [
    "# #Using Regular Expression to replace underscore with empty string\n",
    "\n",
    "# #Remove underscores from transaction_id column\n",
    "# transactions_2021_q2 = transactions_2021_q2.withColumn(\"transaction_id\", regexp_replace(col(\"transaction_id\"), \"_\", \"\"))\n",
    "\n",
    "# #Show updated DataFrame\n",
    "# transactions_2021_q2.display(7)"
   ]
  },
  {
   "cell_type": "code",
   "execution_count": 0,
   "metadata": {
    "application/vnd.databricks.v1+cell": {
     "cellMetadata": {
      "byteLimit": 2048000,
      "rowLimit": 10000
     },
     "inputWidgets": {},
     "nuid": "c3a4efb3-2711-4888-9b48-abb098cd1f38",
     "showTitle": false,
     "tableResultSettingsMap": {},
     "title": ""
    }
   },
   "outputs": [],
   "source": [
    "# #Convert payment_date (which has time) into proper date format (YYY-MM-DD)\n",
    "\n",
    "# transactions_2021_q2= transactions_2021_q2.withColumn(\n",
    "#     \"payment_date\",\n",
    "#     to_date(to_timestamp(col(\"payment_date\"), \"dd-MM-yyyy HH:mm\"))\n",
    "#     )\n",
    "\n",
    "# #Show updated values\n",
    "# transactions_2021_q2.select(\"payment_date\").display(50)"
   ]
  },
  {
   "cell_type": "code",
   "execution_count": 0,
   "metadata": {
    "application/vnd.databricks.v1+cell": {
     "cellMetadata": {
      "byteLimit": 2048000,
      "rowLimit": 10000
     },
     "inputWidgets": {},
     "nuid": "a016f009-2ea0-4b53-8f62-6d64e9052a78",
     "showTitle": false,
     "tableResultSettingsMap": {},
     "title": ""
    }
   },
   "outputs": [],
   "source": [
    "# #Regular expression to match dates starting with DD-MM-YYYY (01-31 at the start)\n",
    "# date_pattern = r\"^[0-3][0-9]-[0-1][0-9]-[1-2][0-9]{3}$\"\n",
    "\n",
    "# #Check if any rows have DD-MM-YYYY format instead of YYYY-MM-DD\n",
    "# incorrect_dates = transactions_2021_q2.filter(\n",
    "#     col(\"issue_date\").rlike(date_pattern) | \n",
    "#     col(\"due_date\").rlike(date_pattern) | \n",
    "#     col(\"return_date\").rlike(date_pattern) |\n",
    "#     col(\"payment_date\").rlike(date_pattern)\n",
    "# )\n",
    "\n",
    "# #Show incorrect format dates\n",
    "# incorrect_dates.select(\"issue_date\", \"due_date\", \"return_date\", \"payment_date\").display(truncate=False)"
   ]
  },
  {
   "cell_type": "code",
   "execution_count": 0,
   "metadata": {
    "application/vnd.databricks.v1+cell": {
     "cellMetadata": {
      "byteLimit": 2048000,
      "rowLimit": 10000
     },
     "inputWidgets": {},
     "nuid": "5dde6739-17f2-4f00-aa44-2a788547551f",
     "showTitle": false,
     "tableResultSettingsMap": {},
     "title": ""
    }
   },
   "outputs": [],
   "source": [
    "# #Filter rows where book_id starts with 'bk' (lowercase) only\n",
    "\n",
    "# bk_lowercase_check = transactions_2021_q2.filter(\n",
    "#     col(\"book_id\").rlike(\"^bk[0-9]+$\")  #Matches bk001, bk105, etc.\n",
    "#     ).filter(~col(\"book_id\").rlike(\"^BK[0-9]+$\"))  #Excludes uppercase BK\n",
    "\n",
    "# #Show results\n",
    "# bk_lowercase_check.display()"
   ]
  },
  {
   "cell_type": "code",
   "execution_count": 0,
   "metadata": {
    "application/vnd.databricks.v1+cell": {
     "cellMetadata": {
      "byteLimit": 2048000,
      "rowLimit": 10000
     },
     "inputWidgets": {},
     "nuid": "6d4e11cc-16ac-48df-9137-99717620f20f",
     "showTitle": false,
     "tableResultSettingsMap": {},
     "title": ""
    }
   },
   "outputs": [],
   "source": [
    "# #Filter rows where copy_id starts with 'cp' instead of 'CP'\n",
    "# cp_lowercase_check = transactions_2021_q2.filter(col(\"copy_id\").rlike(\"^cp[0-9]+$\"))\n",
    "\n",
    "# #Show results\n",
    "# cp_lowercase_check.select('copy_id').display()"
   ]
  },
  {
   "cell_type": "code",
   "execution_count": 0,
   "metadata": {
    "application/vnd.databricks.v1+cell": {
     "cellMetadata": {
      "byteLimit": 2048000,
      "rowLimit": 10000
     },
     "inputWidgets": {},
     "nuid": "7efc3530-3335-4f4e-b7b0-017769940e1e",
     "showTitle": false,
     "tableResultSettingsMap": {},
     "title": ""
    }
   },
   "outputs": [],
   "source": [
    "# #Convert book_id to uppercase\n",
    "# transactions_2021_q2 = transactions_2021_q2.withColumn(\"book_id\", upper(col(\"book_id\")))\n",
    "\n",
    "# #Convert copy_id to uppercase\n",
    "# transactions_2021_q2 = transactions_2021_q2.withColumn(\"copy_id\", upper(col(\"copy_id\")))"
   ]
  },
  {
   "cell_type": "code",
   "execution_count": 0,
   "metadata": {
    "application/vnd.databricks.v1+cell": {
     "cellMetadata": {
      "byteLimit": 2048000,
      "rowLimit": 10000
     },
     "inputWidgets": {},
     "nuid": "8d91de8e-f105-4172-8115-f04d35641876",
     "showTitle": false,
     "tableResultSettingsMap": {},
     "title": ""
    }
   },
   "outputs": [],
   "source": [
    "# #Filter rows where book_id starts with 'bk' (lowercase) only\n",
    "\n",
    "# bk_lowercase_check = transactions_2021_q2.filter(\n",
    "#     col(\"book_id\").rlike(\"^bk[0-9]+$\")  #Matches bk001, bk105, etc.\n",
    "#     ).filter(~col(\"book_id\").rlike(\"^BK[0-9]+$\"))  #Excludes uppercase BK\n",
    "\n",
    "# #Show results\n",
    "# bk_lowercase_check.display()\n",
    "\n",
    "# #NO LOWER CASE VALUES IS PRESENT NOW IN book_id COLUMN."
   ]
  },
  {
   "cell_type": "code",
   "execution_count": 0,
   "metadata": {
    "application/vnd.databricks.v1+cell": {
     "cellMetadata": {
      "byteLimit": 2048000,
      "rowLimit": 10000
     },
     "inputWidgets": {},
     "nuid": "b046e697-566c-4811-b80f-7f28bf8087b2",
     "showTitle": false,
     "tableResultSettingsMap": {},
     "title": ""
    }
   },
   "outputs": [],
   "source": [
    "# #Filter rows where copy_id starts with 'cp' instead of 'CP'\n",
    "# cp_lowercase_check = transactions_2021_q2.filter(col(\"copy_id\").rlike(\"^cp[0-9]+$\"))\n",
    "\n",
    "# #Show results\n",
    "# cp_lowercase_check.select('copy_id').display()\n",
    "\n",
    "# #NO LOWER CASE VALUES IS PRESENT NOW IN copy_id COLUMN."
   ]
  },
  {
   "cell_type": "code",
   "execution_count": 0,
   "metadata": {
    "application/vnd.databricks.v1+cell": {
     "cellMetadata": {
      "byteLimit": 2048000,
      "rowLimit": 10000
     },
     "inputWidgets": {},
     "nuid": "5befe35b-3e49-4cf3-a340-4678f67edef0",
     "showTitle": false,
     "tableResultSettingsMap": {},
     "title": ""
    }
   },
   "outputs": [],
   "source": [
    "# #Upper cases values are present we want all values to be lower case\n",
    "\n",
    "# transactions_2021_q2.select('initial_status','final_status').distinct().display()"
   ]
  },
  {
   "cell_type": "code",
   "execution_count": 0,
   "metadata": {
    "application/vnd.databricks.v1+cell": {
     "cellMetadata": {
      "byteLimit": 2048000,
      "rowLimit": 10000
     },
     "inputWidgets": {},
     "nuid": "8e7585cd-a6a2-43ad-8816-8a46b67108a0",
     "showTitle": false,
     "tableResultSettingsMap": {},
     "title": ""
    }
   },
   "outputs": [],
   "source": [
    "# #Convert initial_status and final_status to lowercase\n",
    "# transactions_2021_q2 = transactions_2021_q2.withColumn(\"initial_status\", lower(col(\"initial_status\"))) \\\n",
    "#                                            .withColumn(\"final_status\", lower(col(\"final_status\")))"
   ]
  },
  {
   "cell_type": "code",
   "execution_count": 0,
   "metadata": {
    "application/vnd.databricks.v1+cell": {
     "cellMetadata": {
      "byteLimit": 2048000,
      "rowLimit": 10000
     },
     "inputWidgets": {},
     "nuid": "d227b2cd-a4b2-42b7-b152-fbd62c20c116",
     "showTitle": false,
     "tableResultSettingsMap": {},
     "title": ""
    }
   },
   "outputs": [],
   "source": [
    "\n",
    "# #Show transformed DataFrame\n",
    "# transactions_2021_q2.select(\"initial_status\").distinct().display()\n",
    "\n",
    "# #Only one class in initial_status column"
   ]
  },
  {
   "cell_type": "markdown",
   "metadata": {
    "application/vnd.databricks.v1+cell": {
     "cellMetadata": {
      "byteLimit": 2048000,
      "rowLimit": 10000
     },
     "inputWidgets": {},
     "nuid": "5c7855e4-3cad-4cfb-a2df-be978db7b05e",
     "showTitle": false,
     "tableResultSettingsMap": {},
     "title": ""
    }
   },
   "source": [
    "\n",
    "####Saving transactions_2021_q2 dataset into Delta format under Silver "
   ]
  },
  {
   "cell_type": "code",
   "execution_count": 0,
   "metadata": {
    "application/vnd.databricks.v1+cell": {
     "cellMetadata": {
      "byteLimit": 2048000,
      "rowLimit": 10000
     },
     "inputWidgets": {},
     "nuid": "4d5873c1-370b-4c39-ae50-dd849671c9aa",
     "showTitle": false,
     "tableResultSettingsMap": {},
     "title": ""
    }
   },
   "outputs": [],
   "source": [
    "# #Saving the data in delta format under silver location\n",
    "\n",
    "# transactions_2021_q2.write.format(\"delta\").mode(\"overwrite\").save(\"abfss://silver@lmsstorageaccount2025.dfs.core.windows.net/transactions_2021_Q2\")"
   ]
  },
  {
   "cell_type": "code",
   "execution_count": 0,
   "metadata": {
    "application/vnd.databricks.v1+cell": {
     "cellMetadata": {
      "byteLimit": 2048000,
      "implicitDf": true,
      "rowLimit": 10000
     },
     "inputWidgets": {},
     "nuid": "1dc1532f-e2c3-458f-a471-c2e93f26d1c0",
     "showTitle": false,
     "tableResultSettingsMap": {},
     "title": ""
    }
   },
   "outputs": [],
   "source": [
    "# %sql\n",
    "# --Creating external table for the silver location in Unity Catalog\n",
    "# DROP TABLE IF EXISTS `lms-catalog`.silver.transactions_2021_q2;\n",
    "\n",
    "# CREATE TABLE `lms-catalog`.silver.transactions_2021_q2\n",
    "# USING DELTA\n",
    "# LOCATION 'abfss://silver@lmsstorageaccount2025.dfs.core.windows.net/transactions_2021_Q2';"
   ]
  },
  {
   "cell_type": "markdown",
   "metadata": {
    "application/vnd.databricks.v1+cell": {
     "cellMetadata": {
      "byteLimit": 2048000,
      "rowLimit": 10000
     },
     "inputWidgets": {},
     "nuid": "6f66ad6c-ac4a-4549-a086-379f2013350d",
     "showTitle": false,
     "tableResultSettingsMap": {},
     "title": ""
    }
   },
   "source": [
    "\n",
    "####Merge All Transactions Table's"
   ]
  },
  {
   "cell_type": "code",
   "execution_count": 0,
   "metadata": {
    "application/vnd.databricks.v1+cell": {
     "cellMetadata": {
      "byteLimit": 2048000,
      "rowLimit": 10000
     },
     "inputWidgets": {},
     "nuid": "27c8ea30-77fd-48ba-b4e5-44bc6552459d",
     "showTitle": false,
     "tableResultSettingsMap": {},
     "title": ""
    }
   },
   "outputs": [],
   "source": [
    "# from functools import reduce\n",
    "# from pyspark.sql import DataFrame\n",
    "\n",
    "# #List of all quarterly DataFrames\n",
    "# transactions_list = [transactions_2020_q2, transactions_2020_q3, transactions_2020_q4, \n",
    "#                      transactions_2021_q1, transactions_2021_q2]\n",
    "\n",
    "# #.Merge all transactions using union\n",
    "# transactions = reduce(DataFrame.union, transactions_list)\n",
    "\n",
    "# #Show merged table\n",
    "# transactions.show(10, truncate=False)"
   ]
  },
  {
   "cell_type": "code",
   "execution_count": 0,
   "metadata": {
    "application/vnd.databricks.v1+cell": {
     "cellMetadata": {
      "byteLimit": 2048000,
      "rowLimit": 10000
     },
     "inputWidgets": {},
     "nuid": "013508ac-1d4f-4cb6-a857-22391a46bf62",
     "showTitle": false,
     "tableResultSettingsMap": {},
     "title": ""
    }
   },
   "outputs": [],
   "source": [
    "# transactions.count()"
   ]
  },
  {
   "cell_type": "code",
   "execution_count": 0,
   "metadata": {
    "application/vnd.databricks.v1+cell": {
     "cellMetadata": {
      "byteLimit": 2048000,
      "rowLimit": 10000
     },
     "inputWidgets": {},
     "nuid": "3a051d58-e825-4e75-8143-2381fbf4e8d2",
     "showTitle": false,
     "tableResultSettingsMap": {},
     "title": ""
    }
   },
   "outputs": [],
   "source": [
    "# transactions.display()"
   ]
  }
 ],
 "metadata": {
  "application/vnd.databricks.v1+notebook": {
   "computePreferences": null,
   "dashboards": [],
   "environmentMetadata": {
    "base_environment": "",
    "environment_version": "2"
   },
   "language": "python",
   "notebookMetadata": {
    "mostRecentlyExecutedCommandWithImplicitDF": {
     "commandId": 7033955767209902,
     "dataframes": [
      "_sqldf"
     ]
    },
    "pythonIndentUnit": 4
   },
   "notebookName": "(Clone) Silver",
   "widgets": {}
  },
  "language_info": {
   "name": "python"
  }
 },
 "nbformat": 4,
 "nbformat_minor": 0
}
